{
 "cells": [
  {
   "cell_type": "markdown",
   "metadata": {},
   "source": [
    "# <center> Training RNNs <center>"
   ]
  },
  {
   "cell_type": "markdown",
   "metadata": {},
   "source": [
    "To train an RNN, the trick is to unroll it through time (like we just did) and then simply use regular backpropagation (see Figure 14-5). This strategy is called backpropagationthrough time (**BPTT**).\n",
    "\n",
    "Just like in regular backpropagation, there is a first forward pass through the unrolled network, then the output sequence is evaluated using a cost function $C(Y_{t_{min}}, Y_{t_{min} + 1} , ⋯, Y_{t_{max}})$\n",
    "(where $t_{min}$ and $t_{max}$ are the first and last output time steps, not counting the ignored outputs), and the gradients of\n",
    "that cost function are propagated backward through the unrolled network (represented by the solid arrows); and finally the model parameters are updated using the gradients computed during BPTT. "
   ]
  },
  {
   "cell_type": "code",
   "execution_count": 4,
   "metadata": {
    "collapsed": true
   },
   "outputs": [],
   "source": [
    "import numpy as np\n",
    "import tensorflow as tf\n",
    "import matplotlib.pyplot as plt\n",
    "%matplotlib inline"
   ]
  },
  {
   "cell_type": "markdown",
   "metadata": {
    "collapsed": true
   },
   "source": [
    "## Training a Sequence Classifier"
   ]
  },
  {
   "cell_type": "markdown",
   "metadata": {},
   "source": [
    "Let’s train an RNN to classify MNIST images."
   ]
  },
  {
   "cell_type": "code",
   "execution_count": 2,
   "metadata": {
    "collapsed": true
   },
   "outputs": [],
   "source": [
    "tf.reset_default_graph()\n",
    "\n",
    "n_steps = 28\n",
    "n_inputs = 28\n",
    "n_neurons = 150\n",
    "n_outputs = 10\n",
    "\n",
    "learning_rate = 0.001\n",
    "\n",
    "X = tf.placeholder(tf.float32, [None, n_steps, n_inputs])\n",
    "y = tf.placeholder(tf.int32, [None])\n",
    "\n",
    "basic_cell = tf.contrib.rnn.BasicRNNCell(num_units=n_neurons)\n",
    "outputs, states = tf.nn.dynamic_rnn(basic_cell, X, dtype=tf.float32)\n",
    "\n",
    "logits = tf.layers.dense(states, n_outputs)\n",
    "xentropy = tf.nn.sparse_softmax_cross_entropy_with_logits(labels=y,\n",
    "                                                          logits=logits)\n",
    "loss = tf.reduce_mean(xentropy)\n",
    "optimizer = tf.train.AdamOptimizer(learning_rate=learning_rate)\n",
    "training_op = optimizer.minimize(loss)\n",
    "correct = tf.nn.in_top_k(logits, y, 1)\n",
    "accuracy = tf.reduce_mean(tf.cast(correct, tf.float32))\n",
    "\n",
    "init = tf.global_variables_initializer()"
   ]
  },
  {
   "cell_type": "code",
   "execution_count": 3,
   "metadata": {},
   "outputs": [
    {
     "name": "stdout",
     "output_type": "stream",
     "text": [
      "Extracting /tmp/data/train-images-idx3-ubyte.gz\n",
      "Extracting /tmp/data/train-labels-idx1-ubyte.gz\n",
      "Extracting /tmp/data/t10k-images-idx3-ubyte.gz\n",
      "Extracting /tmp/data/t10k-labels-idx1-ubyte.gz\n"
     ]
    }
   ],
   "source": [
    "from tensorflow.examples.tutorials.mnist import input_data\n",
    "mnist = input_data.read_data_sets(\"/tmp/data/\")\n",
    "X_test = mnist.test.images.reshape((-1, n_steps, n_inputs))\n",
    "y_test = mnist.test.labels"
   ]
  },
  {
   "cell_type": "code",
   "execution_count": 4,
   "metadata": {
    "scrolled": true
   },
   "outputs": [
    {
     "name": "stdout",
     "output_type": "stream",
     "text": [
      "0 Train accuracy: 0.873333 Test accuracy: 0.9126\n",
      "1 Train accuracy: 0.926667 Test accuracy: 0.9399\n",
      "2 Train accuracy: 0.94 Test accuracy: 0.9649\n",
      "3 Train accuracy: 0.966667 Test accuracy: 0.9607\n",
      "4 Train accuracy: 0.966667 Test accuracy: 0.9642\n",
      "5 Train accuracy: 0.973333 Test accuracy: 0.9705\n",
      "6 Train accuracy: 0.986667 Test accuracy: 0.9728\n",
      "7 Train accuracy: 1.0 Test accuracy: 0.9695\n",
      "8 Train accuracy: 0.98 Test accuracy: 0.9728\n",
      "9 Train accuracy: 0.973333 Test accuracy: 0.975\n",
      "10 Train accuracy: 0.986667 Test accuracy: 0.975\n",
      "11 Train accuracy: 0.986667 Test accuracy: 0.9744\n",
      "12 Train accuracy: 0.993333 Test accuracy: 0.9734\n",
      "13 Train accuracy: 0.973333 Test accuracy: 0.9768\n",
      "14 Train accuracy: 0.973333 Test accuracy: 0.9764\n",
      "15 Train accuracy: 0.986667 Test accuracy: 0.9748\n",
      "16 Train accuracy: 1.0 Test accuracy: 0.9756\n",
      "17 Train accuracy: 0.986667 Test accuracy: 0.9779\n",
      "18 Train accuracy: 0.973333 Test accuracy: 0.9681\n",
      "19 Train accuracy: 0.98 Test accuracy: 0.9772\n",
      "20 Train accuracy: 0.98 Test accuracy: 0.9711\n",
      "21 Train accuracy: 0.993333 Test accuracy: 0.9772\n",
      "22 Train accuracy: 1.0 Test accuracy: 0.9745\n",
      "23 Train accuracy: 0.993333 Test accuracy: 0.9745\n",
      "24 Train accuracy: 0.993333 Test accuracy: 0.979\n",
      "25 Train accuracy: 0.986667 Test accuracy: 0.9791\n",
      "26 Train accuracy: 0.973333 Test accuracy: 0.9776\n",
      "27 Train accuracy: 0.993333 Test accuracy: 0.9761\n",
      "28 Train accuracy: 0.986667 Test accuracy: 0.9762\n",
      "29 Train accuracy: 0.986667 Test accuracy: 0.9781\n",
      "30 Train accuracy: 0.993333 Test accuracy: 0.9793\n",
      "31 Train accuracy: 0.98 Test accuracy: 0.9784\n",
      "32 Train accuracy: 1.0 Test accuracy: 0.9776\n",
      "33 Train accuracy: 1.0 Test accuracy: 0.9822\n",
      "34 Train accuracy: 1.0 Test accuracy: 0.9787\n",
      "35 Train accuracy: 0.98 Test accuracy: 0.9748\n",
      "36 Train accuracy: 0.993333 Test accuracy: 0.9805\n",
      "37 Train accuracy: 0.986667 Test accuracy: 0.9731\n",
      "38 Train accuracy: 0.993333 Test accuracy: 0.9793\n",
      "39 Train accuracy: 0.993333 Test accuracy: 0.9785\n",
      "40 Train accuracy: 1.0 Test accuracy: 0.9789\n",
      "41 Train accuracy: 1.0 Test accuracy: 0.9796\n",
      "42 Train accuracy: 0.986667 Test accuracy: 0.9778\n",
      "43 Train accuracy: 0.966667 Test accuracy: 0.9786\n",
      "44 Train accuracy: 0.973333 Test accuracy: 0.9714\n",
      "45 Train accuracy: 0.993333 Test accuracy: 0.9808\n",
      "46 Train accuracy: 1.0 Test accuracy: 0.9742\n",
      "47 Train accuracy: 0.986667 Test accuracy: 0.9806\n",
      "48 Train accuracy: 0.993333 Test accuracy: 0.9809\n",
      "49 Train accuracy: 0.986667 Test accuracy: 0.9777\n",
      "50 Train accuracy: 1.0 Test accuracy: 0.9797\n",
      "51 Train accuracy: 0.993333 Test accuracy: 0.9759\n",
      "52 Train accuracy: 0.993333 Test accuracy: 0.9791\n",
      "53 Train accuracy: 0.993333 Test accuracy: 0.9816\n",
      "54 Train accuracy: 0.986667 Test accuracy: 0.9767\n",
      "55 Train accuracy: 1.0 Test accuracy: 0.9793\n",
      "56 Train accuracy: 0.993333 Test accuracy: 0.9793\n",
      "57 Train accuracy: 1.0 Test accuracy: 0.9784\n",
      "58 Train accuracy: 0.986667 Test accuracy: 0.9803\n",
      "59 Train accuracy: 0.993333 Test accuracy: 0.9769\n",
      "60 Train accuracy: 0.986667 Test accuracy: 0.979\n",
      "61 Train accuracy: 0.993333 Test accuracy: 0.9737\n",
      "62 Train accuracy: 1.0 Test accuracy: 0.9778\n",
      "63 Train accuracy: 0.98 Test accuracy: 0.9748\n",
      "64 Train accuracy: 1.0 Test accuracy: 0.9753\n",
      "65 Train accuracy: 1.0 Test accuracy: 0.9808\n",
      "66 Train accuracy: 1.0 Test accuracy: 0.9784\n",
      "67 Train accuracy: 1.0 Test accuracy: 0.9798\n",
      "68 Train accuracy: 0.973333 Test accuracy: 0.9768\n",
      "69 Train accuracy: 1.0 Test accuracy: 0.9793\n",
      "70 Train accuracy: 0.986667 Test accuracy: 0.9818\n",
      "71 Train accuracy: 0.993333 Test accuracy: 0.9819\n",
      "72 Train accuracy: 1.0 Test accuracy: 0.9792\n",
      "73 Train accuracy: 1.0 Test accuracy: 0.9816\n",
      "74 Train accuracy: 0.993333 Test accuracy: 0.98\n",
      "75 Train accuracy: 0.986667 Test accuracy: 0.9765\n",
      "76 Train accuracy: 0.993333 Test accuracy: 0.978\n",
      "77 Train accuracy: 0.993333 Test accuracy: 0.9814\n",
      "78 Train accuracy: 0.98 Test accuracy: 0.9735\n",
      "79 Train accuracy: 1.0 Test accuracy: 0.9788\n",
      "80 Train accuracy: 0.993333 Test accuracy: 0.9808\n",
      "81 Train accuracy: 0.986667 Test accuracy: 0.9747\n",
      "82 Train accuracy: 0.986667 Test accuracy: 0.9787\n",
      "83 Train accuracy: 0.993333 Test accuracy: 0.9803\n",
      "84 Train accuracy: 1.0 Test accuracy: 0.9734\n",
      "85 Train accuracy: 1.0 Test accuracy: 0.9815\n",
      "86 Train accuracy: 0.993333 Test accuracy: 0.9789\n",
      "87 Train accuracy: 0.993333 Test accuracy: 0.9783\n",
      "88 Train accuracy: 0.993333 Test accuracy: 0.9777\n",
      "89 Train accuracy: 0.986667 Test accuracy: 0.9744\n",
      "90 Train accuracy: 1.0 Test accuracy: 0.9789\n",
      "91 Train accuracy: 0.986667 Test accuracy: 0.9787\n",
      "92 Train accuracy: 1.0 Test accuracy: 0.98\n",
      "93 Train accuracy: 0.98 Test accuracy: 0.9773\n",
      "94 Train accuracy: 0.993333 Test accuracy: 0.9758\n",
      "95 Train accuracy: 1.0 Test accuracy: 0.9785\n",
      "96 Train accuracy: 0.986667 Test accuracy: 0.9785\n",
      "97 Train accuracy: 0.993333 Test accuracy: 0.9674\n",
      "98 Train accuracy: 0.98 Test accuracy: 0.9695\n",
      "99 Train accuracy: 1.0 Test accuracy: 0.9818\n"
     ]
    }
   ],
   "source": [
    "n_epochs = 100\n",
    "batch_size = 150\n",
    "\n",
    "with tf.Session() as sess:\n",
    "    init.run()\n",
    "    for epoch in range(n_epochs):\n",
    "        for iteration in range(mnist.train.num_examples // batch_size):\n",
    "            X_batch, y_batch = mnist.train.next_batch(batch_size)\n",
    "            X_batch = X_batch.reshape((-1, n_steps, n_inputs))\n",
    "            sess.run(training_op, feed_dict={X: X_batch, y: y_batch})\n",
    "        acc_train = accuracy.eval(feed_dict={X: X_batch, y: y_batch})\n",
    "        acc_test = accuracy.eval(feed_dict={X: X_test, y: y_test})\n",
    "        print(epoch, \"Train accuracy:\", acc_train, \"Test accuracy:\", acc_test)"
   ]
  },
  {
   "cell_type": "markdown",
   "metadata": {},
   "source": [
    "## Training to Predict Time Series\n",
    "\n",
    "Now let’s take a look at how to handle time series, such as stock prices, air temperature, brain wave patterns, and so on. Let's create a time series:"
   ]
  },
  {
   "cell_type": "code",
   "execution_count": 2,
   "metadata": {
    "collapsed": true
   },
   "outputs": [],
   "source": [
    "t_min, t_max = 0, 30\n",
    "resolution = 0.1\n",
    "\n",
    "def time_series(t):\n",
    "    return t * np.sin(t) / 3 + 2 * np.sin(t*5)\n",
    "\n",
    "def next_batch(batch_size, n_steps):\n",
    "    t0 = np.random.rand(batch_size, 1) * (t_max - t_min - n_steps * resolution)\n",
    "    Ts = t0 + np.arange(0., n_steps + 1) * resolution\n",
    "    ys = time_series(Ts)\n",
    "    return ys[:, :-1].reshape(-1, n_steps, 1), ys[:, 1:].reshape(-1, n_steps, 1)"
   ]
  },
  {
   "cell_type": "code",
   "execution_count": 5,
   "metadata": {},
   "outputs": [
    {
     "data": {
      "image/png": "[encoded data removed]",
      "text/plain": [
       "<matplotlib.figure.Figure at 0x20389470a58>"
      ]
     },
     "metadata": {},
     "output_type": "display_data"
    }
   ],
   "source": [
    "t = np.linspace(t_min, t_max, int((t_max - t_min) / resolution))\n",
    "\n",
    "n_steps = 20\n",
    "t_instance = np.linspace(12.2, 12.2 + resolution * (n_steps + 1), n_steps + 1)\n",
    "\n",
    "plt.figure(figsize=(11,4))\n",
    "plt.subplot(121)\n",
    "plt.title(\"A time series (generated)\", fontsize=14)\n",
    "plt.plot(t, time_series(t), label=r\"$t . \\sin(t) / 3 + 2 . \\sin(5t)$\")\n",
    "plt.plot(t_instance[:-1], time_series(t_instance[:-1]), \"b-\", linewidth=3, label=\"A training instance\")\n",
    "plt.legend(loc=\"lower left\", fontsize=14)\n",
    "plt.axis([0, 30, -17, 13])\n",
    "plt.xlabel(\"Time\")\n",
    "plt.ylabel(\"Value\")\n",
    "\n",
    "plt.subplot(122)\n",
    "plt.title(\"A training instance\", fontsize=14)\n",
    "plt.plot(t_instance[:-1], time_series(t_instance[:-1]), \"bo\", markersize=10, label=\"instance\")\n",
    "plt.plot(t_instance[1:], time_series(t_instance[1:]), \"w*\", markersize=10, label=\"target\")\n",
    "plt.legend(loc=\"upper left\")\n",
    "plt.xlabel(\"Time\")\n",
    "\n",
    "\n",
    "plt.show()"
   ]
  },
  {
   "cell_type": "markdown",
   "metadata": {},
   "source": [
    "Let's create the RNN. It will contain 100 recurrent neurons and we will unroll it over 20 time steps since each training instance will be 20 inputs long. Each input will contain only one feature (the value at that time). The targets are also sequences of 20 inputs, each containing a sigle value:"
   ]
  },
  {
   "cell_type": "code",
   "execution_count": 6,
   "metadata": {
    "collapsed": true
   },
   "outputs": [],
   "source": [
    "tf.reset_default_graph()\n",
    "\n",
    "n_steps = 20\n",
    "n_inputs = 1\n",
    "n_neurons = 100\n",
    "n_outputs = 1\n",
    "\n",
    "X = tf.placeholder(tf.float32, [None, n_steps, n_inputs])\n",
    "y = tf.placeholder(tf.float32, [None, n_steps, n_outputs])\n",
    "\n",
    "cell = tf.contrib.rnn.BasicRNNCell(num_units=n_neurons, activation=tf.nn.relu)\n",
    "outputs, states = tf.nn.dynamic_rnn(cell, X, dtype=tf.float32)"
   ]
  },
  {
   "cell_type": "markdown",
   "metadata": {},
   "source": [
    "At each time step we now have an output vector of size 100. But what we actually want is a single output value at each time step. The simplest solution is to wrap the cell in an OutputProjectionWrapper. A cell wrapper acts like a normal cell, proxying\n",
    "every method call to an underlying cell, but it also adds some functionality. The OutputProjectionWrapper adds a fully connected layer of linear neurons (i.e., without any activation function) on top of each output (but it does not affect the cell state)."
   ]
  },
  {
   "cell_type": "code",
   "execution_count": 21,
   "metadata": {
    "scrolled": true
   },
   "outputs": [
    {
     "name": "stdout",
     "output_type": "stream",
     "text": [
      "0 \tMSE: 15.2348\n",
      "100 \tMSE: 0.651965\n",
      "200 \tMSE: 0.174493\n",
      "300 \tMSE: 0.082367\n",
      "400 \tMSE: 0.0614993\n",
      "500 \tMSE: 0.0487613\n",
      "600 \tMSE: 0.049408\n",
      "700 \tMSE: 0.0557656\n",
      "800 \tMSE: 0.043733\n",
      "900 \tMSE: 0.0477108\n",
      "1000 \tMSE: 0.0529085\n",
      "1100 \tMSE: 0.0411521\n",
      "1200 \tMSE: 0.0480515\n",
      "1300 \tMSE: 0.0422694\n",
      "1400 \tMSE: 0.0410173\n"
     ]
    }
   ],
   "source": [
    "tf.reset_default_graph()\n",
    "\n",
    "n_steps = 20\n",
    "n_inputs = 1\n",
    "n_neurons = 100\n",
    "n_outputs = 1\n",
    "\n",
    "X = tf.placeholder(tf.float32, [None, n_steps, n_inputs])\n",
    "y = tf.placeholder(tf.float32, [None, n_steps, n_outputs])\n",
    "\n",
    "cell = tf.contrib.rnn.OutputProjectionWrapper(\n",
    "    tf.contrib.rnn.BasicRNNCell(num_units=n_neurons, activation=tf.nn.relu),\n",
    "    output_size=n_outputs)\n",
    "\n",
    "outputs, states = tf.nn.dynamic_rnn(cell, X, dtype=tf.float32)\n",
    "\n",
    "learning_rate = 0.001\n",
    "\n",
    "loss = tf.reduce_mean(tf.square(outputs - y)) # MSE\n",
    "optimizer = tf.train.AdamOptimizer(learning_rate=learning_rate)\n",
    "training_op = optimizer.minimize(loss)\n",
    "\n",
    "init = tf.global_variables_initializer()\n",
    "\n",
    "saver = tf.train.Saver()\n",
    "\n",
    "n_iterations = 1500\n",
    "batch_size = 50\n",
    "\n",
    "with tf.Session() as sess:\n",
    "    init.run()\n",
    "    for iteration in range(n_iterations):\n",
    "        X_batch, y_batch = next_batch(batch_size, n_steps)\n",
    "        sess.run(training_op, feed_dict={X: X_batch, y: y_batch})\n",
    "        if iteration % 100 == 0:\n",
    "            mse = loss.eval(feed_dict={X: X_batch, y: y_batch})\n",
    "            print(iteration, \"\\tMSE:\", mse)\n",
    "    saver.save(sess, \"./my_time_series_model\")"
   ]
  },
  {
   "cell_type": "code",
   "execution_count": 22,
   "metadata": {},
   "outputs": [
    {
     "name": "stdout",
     "output_type": "stream",
     "text": [
      "INFO:tensorflow:Restoring parameters from ./my_time_series_model\n"
     ]
    }
   ],
   "source": [
    "with tf.Session() as sess:   \n",
    "    saver.restore(sess, \"./my_time_series_model\")\n",
    "\n",
    "    X_new = time_series(np.array(t_instance[:-1].reshape(-1, n_steps, n_inputs)))\n",
    "    y_pred = sess.run(outputs, feed_dict={X: X_new})"
   ]
  },
  {
   "cell_type": "code",
   "execution_count": 24,
   "metadata": {},
   "outputs": [
    {
     "data": {
      "image/png": "[encoded data removed]",
      "text/plain": [
       "<matplotlib.figure.Figure at 0x20389898828>"
      ]
     },
     "metadata": {},
     "output_type": "display_data"
    }
   ],
   "source": [
    "plt.title(\"Testing the model\", fontsize=14)\n",
    "plt.plot(t_instance[:-1], time_series(t_instance[:-1]), \"bo\", markersize=10, label=\"instance\")\n",
    "plt.plot(t_instance[1:], time_series(t_instance[1:]), \"w*\", markersize=10, label=\"target\")\n",
    "plt.plot(t_instance[1:], y_pred[0,:,0], \"r.\", markersize=10, label=\"prediction\")\n",
    "plt.legend(loc=\"upper left\")\n",
    "plt.xlabel(\"Time\")\n",
    "\n",
    "plt.show()"
   ]
  },
  {
   "cell_type": "markdown",
   "metadata": {},
   "source": [
    "Although using an OutputProjectionWrapper is the simplest solution to reduce the dimensionality of the RNN’s output sequences down to just one value per time step (per instance), it is not the most efficient. There is a trickier but more efficient solution:\n",
    "- you can reshape the RNN outputs from [batch_size, n_steps, n_neurons] to [batch_size * n_steps, n_neurons]\n",
    "- then apply a single fully connected layer with the appropriate output size (in our case just 1), which will result in an output tensor of shape [batch_size * n_steps, n_outputs]\n",
    "- and then reshape this tensor to [batch_size, n_steps, n_outputs]."
   ]
  },
  {
   "cell_type": "code",
   "execution_count": 26,
   "metadata": {},
   "outputs": [
    {
     "name": "stdout",
     "output_type": "stream",
     "text": [
      "0 \tMSE: 17.3982\n",
      "100 \tMSE: 0.665817\n",
      "200 \tMSE: 0.23147\n",
      "300 \tMSE: 0.113787\n",
      "400 \tMSE: 0.0657144\n",
      "500 \tMSE: 0.0541521\n",
      "600 \tMSE: 0.0587217\n",
      "700 \tMSE: 0.0553434\n",
      "800 \tMSE: 0.0526671\n",
      "900 \tMSE: 0.0548202\n",
      "1000 \tMSE: 0.0458866\n",
      "1100 \tMSE: 0.05492\n",
      "1200 \tMSE: 0.0472552\n",
      "1300 \tMSE: 0.0475582\n",
      "1400 \tMSE: 0.0448903\n"
     ]
    }
   ],
   "source": [
    "tf.reset_default_graph()\n",
    "\n",
    "n_steps = 20\n",
    "n_inputs = 1\n",
    "n_neurons = 100\n",
    "\n",
    "X = tf.placeholder(tf.float32, [None, n_steps, n_inputs])\n",
    "y = tf.placeholder(tf.float32, [None, n_steps, n_outputs])\n",
    "\n",
    "cell = tf.contrib.rnn.BasicRNNCell(num_units=n_neurons, activation=tf.nn.relu)\n",
    "rnn_outputs, states = tf.nn.dynamic_rnn(cell, X, dtype=tf.float32)\n",
    "\n",
    "n_outputs = 1\n",
    "learning_rate = 0.001\n",
    "\n",
    "stacked_rnn_outputs = tf.reshape(rnn_outputs, [-1, n_neurons])\n",
    "stacked_outputs = tf.layers.dense(stacked_rnn_outputs, n_outputs)\n",
    "outputs = tf.reshape(stacked_outputs, [-1, n_steps, n_outputs])\n",
    "\n",
    "loss = tf.reduce_mean(tf.square(outputs - y))\n",
    "optimizer = tf.train.AdamOptimizer(learning_rate=learning_rate)\n",
    "training_op = optimizer.minimize(loss)\n",
    "\n",
    "init = tf.global_variables_initializer()\n",
    "\n",
    "saver = tf.train.Saver()\n",
    "\n",
    "n_iterations = 1500\n",
    "batch_size = 50\n",
    "\n",
    "with tf.Session() as sess:\n",
    "    init.run()\n",
    "    for iteration in range(n_iterations):\n",
    "        X_batch, y_batch = next_batch(batch_size, n_steps)\n",
    "        sess.run(training_op, feed_dict={X: X_batch, y: y_batch})\n",
    "        if iteration % 100 == 0:\n",
    "            mse = loss.eval(feed_dict={X: X_batch, y: y_batch})\n",
    "            print(iteration, \"\\tMSE:\", mse)\n",
    "    \n",
    "    X_new = time_series(np.array(t_instance[:-1].reshape(-1, n_steps, n_inputs)))\n",
    "    y_pred = sess.run(outputs, feed_dict={X: X_new})\n",
    "    saver.save(sess, \"./my_time_series_model\")"
   ]
  },
  {
   "cell_type": "code",
   "execution_count": 27,
   "metadata": {},
   "outputs": [
    {
     "data": {
      "image/png": "[encoded data removed]",
      "text/plain": [
       "<matplotlib.figure.Figure at 0x2038d84c908>"
      ]
     },
     "metadata": {},
     "output_type": "display_data"
    }
   ],
   "source": [
    "plt.title(\"Testing the model\", fontsize=14)\n",
    "plt.plot(t_instance[:-1], time_series(t_instance[:-1]), \"bo\", markersize=10, label=\"instance\")\n",
    "plt.plot(t_instance[1:], time_series(t_instance[1:]), \"w*\", markersize=10, label=\"target\")\n",
    "plt.plot(t_instance[1:], y_pred[0,:,0], \"r.\", markersize=10, label=\"prediction\")\n",
    "plt.legend(loc=\"upper left\")\n",
    "plt.xlabel(\"Time\")\n",
    "\n",
    "plt.show()"
   ]
  },
  {
   "cell_type": "markdown",
   "metadata": {},
   "source": [
    "## Generating a creative new sequence\n",
    "\n",
    "Moreover, RNNs’ ability to anticipate also makes them capable of surprising creativity. You can ask them to predict which are the most likely next notes in a melody, then randomly pick one of these notes and play it. Then ask the net for the next most likely notes, play it, and repeat the process again and again. Before you know it, your net will compose a melody such as the one produced by Google’s Magenta project. Similarly, RNNs can generate sentences, image captions, and much more.\n",
    "\n",
    "Now that we have a model that can predict the future, we can use it to generate some creative sequences. All we need is to provide it a seed sequence containing n_steps values (e.g., full of zeros), use the model to predict the next value, append this predicted value to the sequence, feed the last n_steps values to the model to predict the next value, and so on."
   ]
  },
  {
   "cell_type": "code",
   "execution_count": 30,
   "metadata": {},
   "outputs": [
    {
     "name": "stdout",
     "output_type": "stream",
     "text": [
      "INFO:tensorflow:Restoring parameters from ./my_time_series_model\n"
     ]
    }
   ],
   "source": [
    "with tf.Session() as sess:                        # not shown in the book\n",
    "    saver.restore(sess, \"./my_time_series_model\") # not shown\n",
    "\n",
    "    sequence = [0.] * n_steps\n",
    "    for iteration in range(300):\n",
    "        X_batch = np.array(sequence[-n_steps:]).reshape(1, n_steps, 1)\n",
    "        y_pred = sess.run(outputs, feed_dict={X: X_batch})\n",
    "        sequence.append(y_pred[0, -1, 0])"
   ]
  },
  {
   "cell_type": "code",
   "execution_count": 31,
   "metadata": {},
   "outputs": [
    {
     "data": {
      "image/png": "[encoded data removed]",
      "text/plain": [
       "<matplotlib.figure.Figure at 0x2038d854eb8>"
      ]
     },
     "metadata": {},
     "output_type": "display_data"
    }
   ],
   "source": [
    "plt.figure(figsize=(8,4))\n",
    "plt.plot(np.arange(len(sequence)), sequence, \"b-\")\n",
    "plt.plot(t[:n_steps], sequence[:n_steps], \"b-\", linewidth=3)\n",
    "plt.xlabel(\"Time\")\n",
    "plt.ylabel(\"Value\")\n",
    "plt.show()"
   ]
  }
 ],
 "metadata": {
  "kernelspec": {
   "display_name": "Python 3",
   "language": "python",
   "name": "python3"
  },
  "language_info": {
   "codemirror_mode": {
    "name": "ipython",
    "version": 3
   },
   "file_extension": ".py",
   "mimetype": "text/x-python",
   "name": "python",
   "nbconvert_exporter": "python",
   "pygments_lexer": "ipython3",
   "version": "3.6.2"
  }
 },
 "nbformat": 4,
 "nbformat_minor": 2
}
