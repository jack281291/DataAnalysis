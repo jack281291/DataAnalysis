{
 "cells": [
  {
   "cell_type": "markdown",
   "metadata": {},
   "source": [
    "# Chapter 10: Exercises\n",
    "---"
   ]
  },
  {
   "cell_type": "markdown",
   "metadata": {},
   "source": [
    "## Exercise 9"
   ]
  },
  {
   "cell_type": "code",
   "execution_count": 1,
   "metadata": {
    "collapsed": true
   },
   "outputs": [],
   "source": [
    "import tensorflow as tf\n",
    "from tensorflow.examples.tutorials.mnist import input_data"
   ]
  },
  {
   "cell_type": "code",
   "execution_count": 2,
   "metadata": {},
   "outputs": [
    {
     "name": "stdout",
     "output_type": "stream",
     "text": [
      "Extracting /tmp/data/train-images-idx3-ubyte.gz\n",
      "Extracting /tmp/data/train-labels-idx1-ubyte.gz\n",
      "Extracting /tmp/data/t10k-images-idx3-ubyte.gz\n",
      "Extracting /tmp/data/t10k-labels-idx1-ubyte.gz\n"
     ]
    }
   ],
   "source": [
    "n_inputs = 28*28  # MNIST\n",
    "n_hidden0 = 300\n",
    "n_hidden1 = 300\n",
    "n_hidden2 = 300\n",
    "n_hidden3 = 100\n",
    "n_outputs = 10\n",
    "mnist = input_data.read_data_sets(\"/tmp/data/\")"
   ]
  },
  {
   "cell_type": "code",
   "execution_count": 3,
   "metadata": {
    "collapsed": true
   },
   "outputs": [],
   "source": [
    "X = tf.placeholder(tf.float32, shape=(None, n_inputs), name=\"Input\")\n",
    "Y = tf.placeholder(tf.int64, shape=(None,), name=\"Class\")"
   ]
  },
  {
   "cell_type": "code",
   "execution_count": 4,
   "metadata": {
    "collapsed": true
   },
   "outputs": [],
   "source": [
    "with tf.name_scope(\"dnn\"):\n",
    "    hidden_0 = tf.layers.dense(X, n_hidden0, activation=tf.nn.relu, name=\"hidden_0\")\n",
    "    hidden_1 = tf.layers.dense(hidden_0, n_hidden1, activation=tf.nn.relu, name=\"hidden_1\")\n",
    "    hidden_2 = tf.layers.dense(hidden_1, n_hidden2, activation=tf.nn.tanh, name=\"hidden_2\")\n",
    "    hidden_3 = tf.layers.dense(hidden_2, n_hidden3, activation=tf.nn.relu, name=\"hidden_3\")\n",
    "    logits = tf.layers.dense(hidden_3, n_outputs, name=\"outputs\")"
   ]
  },
  {
   "cell_type": "code",
   "execution_count": 6,
   "metadata": {
    "collapsed": true
   },
   "outputs": [],
   "source": [
    "vars = tf.trainable_variables() \n",
    "lossL2 = tf.add_n([ tf.nn.l2_loss(v) for v in vars\n",
    "                    if 'bias' not in v.name ]) * 0.001"
   ]
  },
  {
   "cell_type": "code",
   "execution_count": 7,
   "metadata": {
    "collapsed": true
   },
   "outputs": [],
   "source": [
    "with tf.name_scope(\"loss\"):\n",
    "    cross_entropy = tf.nn.sparse_softmax_cross_entropy_with_logits(labels=Y, logits=logits)\n",
    "    loss = tf.reduce_mean(cross_entropy + lossL2, name=\"loss\")"
   ]
  },
  {
   "cell_type": "code",
   "execution_count": 8,
   "metadata": {
    "collapsed": true
   },
   "outputs": [],
   "source": [
    "learning_rate = 0.01\n",
    "with tf.name_scope(\"train\"):\n",
    "    optimizer = tf.train.AdagradOptimizer(learning_rate=learning_rate)\n",
    "    training_opt = optimizer.minimize(loss)"
   ]
  },
  {
   "cell_type": "code",
   "execution_count": 9,
   "metadata": {},
   "outputs": [],
   "source": [
    "with tf.name_scope(\"eval\"):\n",
    "    correct = tf.nn.in_top_k(logits, Y, 1)\n",
    "    accuracy = tf.reduce_mean(tf.cast(correct, tf.float32))"
   ]
  },
  {
   "cell_type": "code",
   "execution_count": 10,
   "metadata": {},
   "outputs": [],
   "source": [
    "init = tf.global_variables_initializer()"
   ]
  },
  {
   "cell_type": "code",
   "execution_count": 11,
   "metadata": {},
   "outputs": [
    {
     "name": "stdout",
     "output_type": "stream",
     "text": [
      "0 Train accuracy: 0.92 Test accuracy: 0.9373\n",
      "1 Train accuracy: 0.98 Test accuracy: 0.9576\n",
      "2 Train accuracy: 1.0 Test accuracy: 0.9605\n",
      "3 Train accuracy: 1.0 Test accuracy: 0.9658\n",
      "4 Train accuracy: 0.98 Test accuracy: 0.9688\n",
      "5 Train accuracy: 0.98 Test accuracy: 0.9682\n",
      "6 Train accuracy: 1.0 Test accuracy: 0.9722\n",
      "7 Train accuracy: 1.0 Test accuracy: 0.9758\n",
      "8 Train accuracy: 1.0 Test accuracy: 0.977\n",
      "9 Train accuracy: 1.0 Test accuracy: 0.9777\n",
      "10 Train accuracy: 1.0 Test accuracy: 0.9787\n",
      "11 Train accuracy: 1.0 Test accuracy: 0.9768\n",
      "12 Train accuracy: 1.0 Test accuracy: 0.9737\n",
      "13 Train accuracy: 1.0 Test accuracy: 0.9795\n",
      "14 Train accuracy: 1.0 Test accuracy: 0.9798\n",
      "15 Train accuracy: 1.0 Test accuracy: 0.9796\n",
      "16 Train accuracy: 1.0 Test accuracy: 0.9795\n",
      "17 Train accuracy: 1.0 Test accuracy: 0.9798\n",
      "18 Train accuracy: 1.0 Test accuracy: 0.9804\n",
      "19 Train accuracy: 1.0 Test accuracy: 0.9796\n"
     ]
    }
   ],
   "source": [
    "n_epochs = 20\n",
    "batch_size = 50\n",
    "\n",
    "with tf.Session() as sess:\n",
    "    init.run()\n",
    "    for epoch in range(n_epochs):\n",
    "        for iteration in range(mnist.train.num_examples // batch_size):\n",
    "            X_batch, y_batch = mnist.train.next_batch(batch_size)\n",
    "            sess.run(training_opt, feed_dict={X: X_batch, Y: y_batch})\n",
    "        acc_train = accuracy.eval(feed_dict={X: X_batch, Y: y_batch})\n",
    "        acc_test = accuracy.eval(feed_dict={X: mnist.test.images, Y: mnist.test.labels})\n",
    "        print(epoch, \"Train accuracy:\", acc_train, \"Test accuracy:\", acc_test)"
   ]
  },
  {
   "cell_type": "code",
   "execution_count": null,
   "metadata": {
    "collapsed": true
   },
   "outputs": [],
   "source": []
  }
 ],
 "metadata": {
  "kernelspec": {
   "display_name": "Python 3",
   "language": "python",
   "name": "python3"
  },
  "language_info": {
   "codemirror_mode": {
    "name": "ipython",
    "version": 3
   },
   "file_extension": ".py",
   "mimetype": "text/x-python",
   "name": "python",
   "nbconvert_exporter": "python",
   "pygments_lexer": "ipython3",
   "version": "3.5.2"
  }
 },
 "nbformat": 4,
 "nbformat_minor": 2
}
