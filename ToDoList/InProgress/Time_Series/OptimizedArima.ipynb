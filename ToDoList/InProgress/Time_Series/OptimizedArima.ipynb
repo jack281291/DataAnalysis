{
 "cells": [
  {
   "cell_type": "markdown",
   "metadata": {},
   "source": [
    "# <center> Optimized Arima <center>"
   ]
  },
  {
   "cell_type": "code",
   "execution_count": 1,
   "metadata": {},
   "outputs": [
    {
     "name": "stdout",
     "output_type": "stream",
     "text": [
      "scipy: 0.19.0\n",
      "numpy: 1.12.1\n",
      "matplotlib: 2.0.1\n",
      "pandas: 0.20.1\n",
      "sklearn: 0.18.1\n",
      "statsmodels: 0.8.0\n"
     ]
    }
   ],
   "source": [
    "# scipy\n",
    "import scipy\n",
    "print('scipy: %s' % scipy.__version__)\n",
    "# numpy\n",
    "import numpy\n",
    "print('numpy: %s' % numpy.__version__)\n",
    "# matplotlib\n",
    "import matplotlib\n",
    "print('matplotlib: %s' % matplotlib.__version__)\n",
    "# pandas\n",
    "import pandas\n",
    "print('pandas: %s' % pandas.__version__)\n",
    "# scikit-learn\n",
    "import sklearn\n",
    "print('sklearn: %s' % sklearn.__version__)\n",
    "# statsmodels\n",
    "import statsmodels\n",
    "print('statsmodels: %s' % statsmodels.__version__)"
   ]
  },
  {
   "cell_type": "markdown",
   "metadata": {},
   "source": [
    "---\n",
    "## Problem Description"
   ]
  },
  {
   "cell_type": "markdown",
   "metadata": {},
   "source": [
    "The problem is to predict annual water usage.\n",
    "\n",
    "The dataset provides the annual water usage in Baltimore from 1885 to 1963, or 79 years of data.\n",
    "\n",
    "The values are in the units of liters per capita per day, and there are 79 observations.\n",
    "\n",
    "The dataset is credited to Hipel and McLeod, 1994."
   ]
  },
  {
   "cell_type": "markdown",
   "metadata": {},
   "source": [
    "---\n",
    "## Validation Set"
   ]
  },
  {
   "cell_type": "code",
   "execution_count": 2,
   "metadata": {},
   "outputs": [
    {
     "name": "stdout",
     "output_type": "stream",
     "text": [
      "Dataset 69, Validation 10\n"
     ]
    }
   ],
   "source": [
    "from pandas import Series\n",
    "series = Series.from_csv('water.csv', header=0)\n",
    "split_point = len(series) - 10\n",
    "dataset, validation = series[0:split_point], series[split_point:]\n",
    "print('Dataset %d, Validation %d' % (len(dataset), len(validation)))\n",
    "dataset.to_csv('dataset.csv')\n",
    "validation.to_csv('validation.csv')"
   ]
  },
  {
   "cell_type": "markdown",
   "metadata": {},
   "source": [
    "The specific contents of these files are:\n",
    "\n",
    "    dataset.csv: Observations from 1885 to 1953 (69 observations).\n",
    "    validation.csv: Observations from 1954 to 1963 (10 observations).\n",
    "    \n",
    "The validation dataset is about 12% of the original dataset."
   ]
  },
  {
   "cell_type": "markdown",
   "metadata": {},
   "source": [
    "---\n",
    "## Baseline"
   ]
  },
  {
   "cell_type": "markdown",
   "metadata": {},
   "source": [
    "The baseline prediction for time series forecasting is called the naive forecast, or persistence.\n",
    "\n",
    "This is where the observation from the previous time step is used as the prediction for the observation at the next time step."
   ]
  },
  {
   "cell_type": "code",
   "execution_count": 3,
   "metadata": {
    "scrolled": true
   },
   "outputs": [
    {
     "name": "stdout",
     "output_type": "stream",
     "text": [
      ">Predicted=503.000, Expected=503\n",
      ">Predicted=503.000, Expected=503\n",
      ">Predicted=503.000, Expected=515\n",
      ">Predicted=515.000, Expected=522\n",
      ">Predicted=522.000, Expected=492\n",
      ">Predicted=492.000, Expected=503\n",
      ">Predicted=503.000, Expected=503\n",
      ">Predicted=503.000, Expected=450\n",
      ">Predicted=450.000, Expected=432\n",
      ">Predicted=432.000, Expected=432\n",
      ">Predicted=432.000, Expected=458\n",
      ">Predicted=458.000, Expected=462\n",
      ">Predicted=462.000, Expected=503\n",
      ">Predicted=503.000, Expected=488\n",
      ">Predicted=488.000, Expected=466\n",
      ">Predicted=466.000, Expected=492\n",
      ">Predicted=492.000, Expected=503\n",
      ">Predicted=503.000, Expected=515\n",
      ">Predicted=515.000, Expected=500\n",
      ">Predicted=500.000, Expected=522\n",
      ">Predicted=522.000, Expected=575\n",
      ">Predicted=575.000, Expected=583\n",
      ">Predicted=583.000, Expected=587\n",
      ">Predicted=587.000, Expected=628\n",
      ">Predicted=628.000, Expected=640\n",
      ">Predicted=640.000, Expected=609\n",
      ">Predicted=609.000, Expected=606\n",
      ">Predicted=606.000, Expected=632\n",
      ">Predicted=632.000, Expected=617\n",
      ">Predicted=617.000, Expected=613\n",
      ">Predicted=613.000, Expected=598\n",
      ">Predicted=598.000, Expected=575\n",
      ">Predicted=575.000, Expected=564\n",
      ">Predicted=564.000, Expected=549\n",
      ">Predicted=549.000, Expected=538\n",
      "RMSE: 21.975\n"
     ]
    }
   ],
   "source": [
    "from sklearn.metrics import mean_squared_error\n",
    "from math import sqrt\n",
    "# load data\n",
    "series = Series.from_csv('dataset.csv')\n",
    "# prepare data\n",
    "X = series.values\n",
    "X = X.astype('float32')\n",
    "train_size = int(len(X) * 0.50)\n",
    "train, test = X[0:train_size], X[train_size:]\n",
    "# walk-forward validation\n",
    "history = [x for x in train]\n",
    "predictions = list()\n",
    "for i in range(len(test)):\n",
    "    # predict\n",
    "    yhat = history[-1]\n",
    "    predictions.append(yhat)\n",
    "    # observation\n",
    "    obs = test[i]\n",
    "    history.append(obs)\n",
    "    print('>Predicted=%.3f, Expected=%3.f' % (yhat, obs))\n",
    "# report performance\n",
    "mse = mean_squared_error(test, predictions)\n",
    "rmse = sqrt(mse)\n",
    "print('RMSE: %.3f' % rmse)"
   ]
  },
  {
   "cell_type": "markdown",
   "metadata": {},
   "source": [
    "---\n",
    "## Data Analysis"
   ]
  },
  {
   "cell_type": "code",
   "execution_count": 4,
   "metadata": {},
   "outputs": [
    {
     "data": {
      "text/plain": [
       "count     69.000000\n",
       "mean     500.478261\n",
       "std       73.901685\n",
       "min      344.000000\n",
       "25%      458.000000\n",
       "50%      492.000000\n",
       "75%      538.000000\n",
       "max      662.000000\n",
       "dtype: float64"
      ]
     },
     "execution_count": 4,
     "metadata": {},
     "output_type": "execute_result"
    }
   ],
   "source": [
    "series.describe()"
   ]
  },
  {
   "cell_type": "code",
   "execution_count": 5,
   "metadata": {},
   "outputs": [
    {
     "data": {
      "image/png": "[encoded data removed]",
      "text/plain": [
       "<matplotlib.figure.Figure at 0x7f13054ac7b8>"
      ]
     },
     "metadata": {},
     "output_type": "display_data"
    }
   ],
   "source": [
    "series.plot()\n",
    "matplotlib.pyplot.show()"
   ]
  },
  {
   "cell_type": "markdown",
   "metadata": {},
   "source": [
    "There may be some benefit in explicitly modeling the trend component and removing it. You may also explore using differencing with one or two levels in order to make the series stationary.\n",
    "\n",
    "Reviewing plots of the density of observations can provide further insight into the structure of the data.\n",
    "\n",
    "The example below creates a histogram and density plot of the observations without any temporal structure."
   ]
  },
  {
   "cell_type": "code",
   "execution_count": 6,
   "metadata": {},
   "outputs": [
    {
     "data": {
      "image/png": "[encoded data removed]",
      "text/plain": [
       "<matplotlib.figure.Figure at 0x7f13051adb70>"
      ]
     },
     "metadata": {},
     "output_type": "display_data"
    }
   ],
   "source": [
    "matplotlib.pyplot.figure(1)\n",
    "matplotlib.pyplot.subplot(211)\n",
    "series.hist()\n",
    "matplotlib.pyplot.subplot(212)\n",
    "series.plot(kind='kde')\n",
    "matplotlib.pyplot.show()"
   ]
  },
  {
   "cell_type": "markdown",
   "metadata": {},
   "source": [
    "Some observations from the plots include:\n",
    "\n",
    "    -The distribution is not Gaussian, but is pretty close.\n",
    "    -The distribution has a long right tail and may suggest an exponential distribution or a double Gaussian."
   ]
  },
  {
   "cell_type": "markdown",
   "metadata": {},
   "source": [
    "#### Box and Whisker Plots"
   ]
  },
  {
   "cell_type": "markdown",
   "metadata": {},
   "source": [
    "We can group the annual data by decade and get an idea of the spread of observations for each decade and how this may be changing.\n",
    "\n",
    "We do expect to see some trend (increasing mean or median), but it may be interesting to see how the rest of the distribution may be changing.\n",
    "\n",
    "The example below groups the observations by decade and creates one box and whisker plot for each decade of observations. The last decade only contains 9 years and may not be a useful comparison with the other decades. Therefore only data between 1885 and 1944 was plotted."
   ]
  },
  {
   "cell_type": "code",
   "execution_count": 7,
   "metadata": {},
   "outputs": [
    {
     "data": {
      "image/png": "[encoded data removed]",
      "text/plain": [
       "<matplotlib.figure.Figure at 0x7f13030f6a20>"
      ]
     },
     "metadata": {},
     "output_type": "display_data"
    }
   ],
   "source": [
    "from pandas import DataFrame\n",
    "from pandas import TimeGrouper\n",
    "groups = series['1885':'1944'].groupby(TimeGrouper('10AS'))\n",
    "decades = DataFrame()\n",
    "for name, group in groups:\n",
    "    decades[name.year] = group.values\n",
    "decades.boxplot()\n",
    "matplotlib.pyplot.show()"
   ]
  },
  {
   "cell_type": "markdown",
   "metadata": {},
   "source": [
    "Running the example creates 6 box and whisker plots side-by-side, one for the 6 decades of selected data.\n",
    "\n",
    "Some observations from reviewing the plot include:\n",
    "\n",
    "    -The median values for each year (red line) may show an increasing trend that may not be linear.\n",
    "    -The spread, or middle 50% of the data (blue boxes), does show some variability.\n",
    "    -There maybe outliers in some decades (crosses outside of the box and whiskers).\n",
    "    -The second to last decade seems to have a lower average consumption, perhaps related to the first world war."
   ]
  },
  {
   "cell_type": "markdown",
   "metadata": {},
   "source": [
    "#### ARIMA Models"
   ]
  },
  {
   "cell_type": "markdown",
   "metadata": {
    "collapsed": true
   },
   "source": [
    "We will develop Autoregressive Integrated Moving Average or ARIMA models for the problem.\n",
    "\n",
    "We will approach modeling by both manual and automatic configuration of the ARIMA model. This will be followed by a third step of investigating the residual errors of the chosen model.\n",
    "\n",
    "As such, this section is broken down into 3 steps:\n",
    "\n",
    "   - Manually Configure the ARIMA.\n",
    "   - Automatically Configure the ARIMA.\n",
    "   - Review Residual Errors."
   ]
  },
  {
   "cell_type": "markdown",
   "metadata": {},
   "source": [
    "The ARIMA(p,d,q) model requires three parameters and is traditionally configured manually.\n",
    "\n",
    "Analysis of the time series data assumes that we are working with a stationary time series.\n",
    "\n",
    "The time series is likely non-stationary. We can make it stationary by first differencing the series and using a statistical test to confirm that the result is stationary."
   ]
  },
  {
   "cell_type": "code",
   "execution_count": 8,
   "metadata": {},
   "outputs": [
    {
     "name": "stderr",
     "output_type": "stream",
     "text": [
      "/home/antonio/.local/lib/python3.5/site-packages/statsmodels/compat/pandas.py:56: FutureWarning: The pandas.core.datetools module is deprecated and will be removed in a future version. Please use the pandas.tseries module instead.\n",
      "  from pandas.core import datetools\n"
     ]
    }
   ],
   "source": [
    "from statsmodels.tsa.stattools import adfuller"
   ]
  },
  {
   "cell_type": "code",
   "execution_count": 9,
   "metadata": {},
   "outputs": [
    {
     "name": "stdout",
     "output_type": "stream",
     "text": [
      "ADF Statistic: -6.126719\n",
      "p-value: 0.000000\n",
      "Critical Values:\n",
      "\t10%: -2.591\n",
      "\t5%: -2.906\n",
      "\t1%: -3.534\n"
     ]
    },
    {
     "data": {
      "image/png": "[encoded data removed]",
      "text/plain": [
       "<matplotlib.figure.Figure at 0x7f1301a48f28>"
      ]
     },
     "metadata": {},
     "output_type": "display_data"
    }
   ],
   "source": [
    "# create a differe\n",
    "def difference(dataset):\n",
    "    diff = list()\n",
    "    for i in range(1, len(dataset)):\n",
    "        value = dataset[i] - dataset[i - 1]\n",
    "        diff.append(value)\n",
    "    return Series(diff)\n",
    " \n",
    "X = series.values\n",
    "X = X.astype('float32')\n",
    "# difference data\n",
    "stationary = difference(X)\n",
    "stationary.index = series.index[1:] # lost the first observation\n",
    "# check if stationary\n",
    "result = adfuller(stationary)\n",
    "print('ADF Statistic: %f' % result[0])\n",
    "print('p-value: %f' % result[1])\n",
    "print('Critical Values:')\n",
    "for key, value in result[4].items():\n",
    "    print('\\t%s: %.3f' % (key, value))\n",
    "# plot differenced data\n",
    "stationary.plot()\n",
    "matplotlib.pyplot.show()"
   ]
  },
  {
   "cell_type": "markdown",
   "metadata": {},
   "source": [
    "Rejecting the null hypothesis means that the process has no unit root, and in turn that the time series is stationary or does not have time-dependent structure."
   ]
  },
  {
   "cell_type": "markdown",
   "metadata": {},
   "source": [
    "The next first step is to select the **lag values for the Autoregression (AR) and Moving Average (MA) parameters, p and q respectively.**\n",
    "\n",
    "We can do this by reviewing **Autocorrelation Function (ACF) and Partial Autocorrelation Function (PACF) plots.**\n",
    "\n",
    "The example below creates ACF and PACF plots for the series."
   ]
  },
  {
   "cell_type": "code",
   "execution_count": 10,
   "metadata": {},
   "outputs": [
    {
     "data": {
      "image/png": "[encoded data removed]",
      "text/plain": [
       "<matplotlib.figure.Figure at 0x7f1301a37ac8>"
      ]
     },
     "metadata": {},
     "output_type": "display_data"
    }
   ],
   "source": [
    "from statsmodels.graphics.tsaplots import plot_acf\n",
    "from statsmodels.graphics.tsaplots import plot_pacf\n",
    "matplotlib.pyplot.figure(figsize=(20,20))\n",
    "matplotlib.pyplot.subplot(211)\n",
    "plot_acf(series, ax=matplotlib.pyplot.gca())\n",
    "matplotlib.pyplot.subplot(212)\n",
    "plot_pacf(series, ax=matplotlib.pyplot.gca())\n",
    "matplotlib.pyplot.show()"
   ]
  },
  {
   "cell_type": "markdown",
   "metadata": {},
   "source": [
    "Let's try an ARIMA(0,1,0):"
   ]
  },
  {
   "cell_type": "code",
   "execution_count": 12,
   "metadata": {},
   "outputs": [
    {
     "name": "stdout",
     "output_type": "stream",
     "text": [
      ">Predicted=507.455, Expected=503\n",
      ">Predicted=507.324, Expected=503\n",
      ">Predicted=507.200, Expected=515\n",
      ">Predicted=519.417, Expected=522\n",
      ">Predicted=526.486, Expected=492\n",
      ">Predicted=495.579, Expected=503\n",
      ">Predicted=506.769, Expected=503\n",
      ">Predicted=506.675, Expected=450\n",
      ">Predicted=452.293, Expected=432\n",
      ">Predicted=433.810, Expected=432\n",
      ">Predicted=433.767, Expected=458\n",
      ">Predicted=460.318, Expected=462\n",
      ">Predicted=464.356, Expected=503\n",
      ">Predicted=506.196, Expected=488\n",
      ">Predicted=490.809, Expected=466\n",
      ">Predicted=468.292, Expected=492\n",
      ">Predicted=494.776, Expected=503\n",
      ">Predicted=505.940, Expected=515\n",
      ">Predicted=518.118, Expected=500\n",
      ">Predicted=502.769, Expected=522\n",
      ">Predicted=525.132, Expected=575\n",
      ">Predicted=579.056, Expected=583\n",
      ">Predicted=587.127, Expected=587\n",
      ">Predicted=591.125, Expected=628\n",
      ">Predicted=632.772, Expected=640\n",
      ">Predicted=644.897, Expected=609\n",
      ">Predicted=613.288, Expected=606\n",
      ">Predicted=610.167, Expected=632\n",
      ">Predicted=636.525, Expected=617\n",
      ">Predicted=621.210, Expected=613\n",
      ">Predicted=617.079, Expected=598\n",
      ">Predicted=601.781, Expected=575\n",
      ">Predicted=578.369, Expected=564\n",
      ">Predicted=567.152, Expected=549\n",
      ">Predicted=551.881, Expected=538\n",
      "RMSE: 22.311\n"
     ]
    }
   ],
   "source": [
    "from statsmodels.tsa.arima_model import ARIMA\n",
    "from math import sqrt\n",
    "X = series.values\n",
    "X = X.astype('float32')\n",
    "train_size = int(len(X) * 0.50)\n",
    "train, test = X[0:train_size], X[train_size:]\n",
    "# walk-forward validation\n",
    "history = [x for x in train]\n",
    "predictions = list()\n",
    "for i in range(len(test)):\n",
    "    # predict\n",
    "    model = ARIMA(history, order=(0,1,0))\n",
    "    model_fit = model.fit(disp=0)\n",
    "    yhat = model_fit.forecast()[0]\n",
    "    predictions.append(yhat)\n",
    "    # observation\n",
    "    obs = test[i]\n",
    "    history.append(obs)\n",
    "    print('>Predicted=%.3f, Expected=%3.f' % (yhat, obs))\n",
    "# report performance\n",
    "mse = mean_squared_error(test, predictions)\n",
    "rmse = sqrt(mse)\n",
    "print('RMSE: %.3f' % rmse)"
   ]
  },
  {
   "cell_type": "markdown",
   "metadata": {},
   "source": [
    "Running this example results in an RMSE of 22.311, which is slightly higher than the persistence model above.\n",
    "\n",
    "This may be because of the details of the ARIMA implementation, such as an automatic trend constant that is calculated and added."
   ]
  },
  {
   "cell_type": "markdown",
   "metadata": {},
   "source": [
    "#### Grid Search ARIMA Hyperparameters"
   ]
  },
  {
   "cell_type": "code",
   "execution_count": 13,
   "metadata": {
    "scrolled": true
   },
   "outputs": [
    {
     "name": "stdout",
     "output_type": "stream",
     "text": [
      "ARIMA(0, 0, 1) RMSE=282.656\n",
      "ARIMA(0, 0, 4) RMSE=77.343\n",
      "ARIMA(0, 1, 1) RMSE=21.907\n",
      "ARIMA(0, 1, 2) RMSE=22.182\n",
      "ARIMA(0, 1, 3) RMSE=24.733\n",
      "ARIMA(0, 1, 4) RMSE=24.845\n",
      "ARIMA(0, 2, 1) RMSE=22.381\n",
      "ARIMA(0, 2, 2) RMSE=22.244\n",
      "ARIMA(1, 0, 0) RMSE=21.996\n",
      "ARIMA(1, 1, 0) RMSE=21.922\n",
      "ARIMA(1, 2, 0) RMSE=27.464\n",
      "ARIMA(1, 2, 1) RMSE=22.271\n",
      "ARIMA(2, 1, 0) RMSE=21.733\n",
      "ARIMA(2, 2, 0) RMSE=25.282\n",
      "ARIMA(3, 1, 0) RMSE=24.270\n",
      "ARIMA(3, 1, 1) RMSE=25.491\n",
      "ARIMA(3, 2, 0) RMSE=25.625\n",
      "ARIMA(3, 2, 1) RMSE=25.008\n",
      "ARIMA(4, 0, 0) RMSE=25.374\n",
      "ARIMA(4, 1, 0) RMSE=24.802\n",
      "ARIMA(4, 1, 1) RMSE=25.103\n",
      "ARIMA(4, 2, 0) RMSE=27.089\n",
      "ARIMA(4, 2, 1) RMSE=25.933\n",
      "ARIMA(4, 2, 2) RMSE=25.418\n",
      "Best ARIMA(2, 1, 0) RMSE=21.733\n"
     ]
    }
   ],
   "source": [
    "import warnings\n",
    "# evaluate an ARIMA model for a given order (p,d,q) and return RMSE\n",
    "def evaluate_arima_model(X, arima_order):\n",
    "    # prepare training dataset\n",
    "    X = X.astype('float32')\n",
    "    train_size = int(len(X) * 0.50)\n",
    "    train, test = X[0:train_size], X[train_size:]\n",
    "    history = [x for x in train]\n",
    "    # make predictions\n",
    "    predictions = list()\n",
    "    for t in range(len(test)):\n",
    "        model = ARIMA(history, order=arima_order)\n",
    "        # model_fit = model.fit(disp=0)\n",
    "        model_fit = model.fit(trend='nc', disp=0)\n",
    "        yhat = model_fit.forecast()[0]\n",
    "        predictions.append(yhat)\n",
    "        history.append(test[t])\n",
    "    # calculate out of sample error\n",
    "    mse = mean_squared_error(test, predictions)\n",
    "    rmse = sqrt(mse)\n",
    "    return rmse\n",
    " \n",
    "# evaluate combinations of p, d and q values for an ARIMA model\n",
    "def evaluate_models(dataset, p_values, d_values, q_values):\n",
    "    dataset = dataset.astype('float32')\n",
    "    best_score, best_cfg = float(\"inf\"), None\n",
    "    for p in p_values:\n",
    "        for d in d_values:\n",
    "            for q in q_values:\n",
    "                order = (p,d,q)\n",
    "                try:\n",
    "                    mse = evaluate_arima_model(dataset, order)\n",
    "                    if mse < best_score:\n",
    "                        best_score, best_cfg = mse, order\n",
    "                    print('ARIMA%s RMSE=%.3f' % (order,mse))\n",
    "                except:\n",
    "                    continue\n",
    "    print('Best ARIMA%s RMSE=%.3f' % (best_cfg, best_score))\n",
    " \n",
    "# load dataset\n",
    "series = Series.from_csv('dataset.csv')\n",
    "# evaluate parameters\n",
    "p_values = range(0, 5)\n",
    "d_values = range(0, 3)\n",
    "q_values = range(0, 5)\n",
    "warnings.filterwarnings(\"ignore\")\n",
    "evaluate_models(series.values, p_values, d_values, q_values)"
   ]
  },
  {
   "cell_type": "markdown",
   "metadata": {},
   "source": [
    "The results show that the best configuration discovered was ARIMA(2, 1, 0) with an RMSE of 21.733, slightly lower than the manual persistence model tested earlier, but may or may not be significantly different.\n",
    "\n",
    "A good final check of a model is to review residual forecast errors.\n",
    "\n",
    "Ideally, the distribution of residual errors should be a Gaussian with a zero mean.\n",
    "\n",
    "We can check this by using summary statistics and plots to investigate the residual errors from the ARIMA(2, 1, 0) model."
   ]
  },
  {
   "cell_type": "code",
   "execution_count": 14,
   "metadata": {},
   "outputs": [
    {
     "name": "stdout",
     "output_type": "stream",
     "text": [
      "               0\n",
      "count  35.000000\n",
      "mean    1.081624\n",
      "std    22.022566\n",
      "min   -52.103811\n",
      "25%   -16.202284\n",
      "50%    -0.459805\n",
      "75%    12.085091\n",
      "max    51.284339\n"
     ]
    },
    {
     "data": {
      "image/png": "[encoded data removed]",
      "text/plain": [
       "<matplotlib.figure.Figure at 0x7f1300e77978>"
      ]
     },
     "metadata": {},
     "output_type": "display_data"
    }
   ],
   "source": [
    "# walk-forward validation\n",
    "history = [x for x in train]\n",
    "predictions = list()\n",
    "for i in range(len(test)):\n",
    "    # predict\n",
    "    model = ARIMA(history, order=(2,1,0))\n",
    "    model_fit = model.fit(trend='nc', disp=0)\n",
    "    yhat = model_fit.forecast()[0]\n",
    "    predictions.append(yhat)\n",
    "    # observation\n",
    "    obs = test[i]\n",
    "    history.append(obs)\n",
    "# errors\n",
    "residuals = [test[i]-predictions[i] for i in range(len(test))]\n",
    "residuals = DataFrame(residuals)\n",
    "print(residuals.describe())\n",
    "matplotlib.pyplot.figure()\n",
    "matplotlib.pyplot.subplot(211)\n",
    "residuals.hist(ax=matplotlib.pyplot.gca())\n",
    "matplotlib.pyplot.subplot(212)\n",
    "residuals.plot(kind='kde', ax=matplotlib.pyplot.gca())\n",
    "matplotlib.pyplot.show()"
   ]
  },
  {
   "cell_type": "markdown",
   "metadata": {},
   "source": [
    "We could use this information to bias-correct predictions by adding the mean residual error of 1.081624 to each forecast made."
   ]
  },
  {
   "cell_type": "code",
   "execution_count": 17,
   "metadata": {
    "scrolled": true
   },
   "outputs": [
    {
     "name": "stdout",
     "output_type": "stream",
     "text": [
      ">Predicted=502.715, Expected=503\n",
      ">Predicted=505.894, Expected=503\n",
      ">Predicted=504.082, Expected=515\n",
      ">Predicted=516.336, Expected=522\n",
      ">Predicted=522.296, Expected=492\n",
      ">Predicted=491.911, Expected=503\n",
      ">Predicted=506.711, Expected=503\n",
      ">Predicted=503.185, Expected=450\n",
      ">Predicted=450.362, Expected=432\n",
      ">Predicted=437.369, Expected=432\n",
      ">Predicted=434.646, Expected=458\n",
      ">Predicted=459.810, Expected=462\n",
      ">Predicted=460.773, Expected=503\n",
      ">Predicted=505.057, Expected=488\n",
      ">Predicted=485.536, Expected=466\n",
      ">Predicted=467.835, Expected=492\n",
      ">Predicted=495.632, Expected=503\n",
      ">Predicted=501.814, Expected=515\n",
      ">Predicted=515.361, Expected=500\n",
      ">Predicted=499.634, Expected=522\n",
      ">Predicted=524.797, Expected=575\n",
      ">Predicted=575.576, Expected=583\n",
      ">Predicted=579.191, Expected=587\n",
      ">Predicted=587.500, Expected=628\n",
      ">Predicted=630.397, Expected=640\n",
      ">Predicted=638.047, Expected=609\n",
      ">Predicted=607.541, Expected=606\n",
      ">Predicted=610.112, Expected=632\n",
      ">Predicted=634.511, Expected=617\n",
      ">Predicted=614.670, Expected=613\n",
      ">Predicted=615.587, Expected=598\n",
      ">Predicted=598.945, Expected=575\n",
      ">Predicted=576.711, Expected=564\n",
      ">Predicted=566.984, Expected=549\n",
      ">Predicted=550.469, Expected=538\n",
      "RMSE: 21.706\n"
     ]
    }
   ],
   "source": [
    "bias = 1.081624\n",
    "X = series.values\n",
    "X = X.astype('float32')\n",
    "train_size = int(len(X) * 0.50)\n",
    "train, test = X[0:train_size], X[train_size:]\n",
    "# walk-forward validation\n",
    "history = [x for x in train]\n",
    "predictions = list()\n",
    "for i in range(len(test)):\n",
    "    # predict\n",
    "    model = ARIMA(history, order=(2,1,0))\n",
    "    model_fit = model.fit(disp=0, trend=\"nc\")\n",
    "    yhat = bias + model_fit.forecast()[0]\n",
    "    predictions.append(yhat)\n",
    "    # observation\n",
    "    obs = test[i]\n",
    "    history.append(obs)\n",
    "    print('>Predicted=%.3f, Expected=%3.f' % (yhat, obs))\n",
    "# report performance\n",
    "mse = mean_squared_error(test, predictions)\n",
    "rmse = sqrt(mse)\n",
    "print('RMSE: %.3f' % rmse)"
   ]
  },
  {
   "cell_type": "code",
   "execution_count": null,
   "metadata": {
    "collapsed": true
   },
   "outputs": [],
   "source": []
  }
 ],
 "metadata": {
  "kernelspec": {
   "display_name": "Python 3",
   "language": "python",
   "name": "python3"
  },
  "language_info": {
   "codemirror_mode": {
    "name": "ipython",
    "version": 3
   },
   "file_extension": ".py",
   "mimetype": "text/x-python",
   "name": "python",
   "nbconvert_exporter": "python",
   "pygments_lexer": "ipython3",
   "version": "3.6.2"
  }
 },
 "nbformat": 4,
 "nbformat_minor": 2
}
