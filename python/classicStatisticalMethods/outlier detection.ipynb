{
 "cells": [
  {
   "cell_type": "code",
   "execution_count": 1,
   "metadata": {
    "collapsed": false
   },
   "outputs": [],
   "source": [
    "import datetime\n",
    "import pandas as pd\n",
    "import numpy as np\n",
    "import pandas.io.data as pio\n",
    "import matplotlib.pyplot as plt\n",
    "%matplotlib inline"
   ]
  },
  {
   "cell_type": "code",
   "execution_count": 2,
   "metadata": {
    "collapsed": true
   },
   "outputs": [],
   "source": [
    "df = pd.read_csv(\"_births_and_deaths.csv\")"
   ]
  },
  {
   "cell_type": "code",
   "execution_count": 3,
   "metadata": {
    "collapsed": false
   },
   "outputs": [
    {
     "data": {
      "text/html": [
       "<div style=\"max-height:1000px;max-width:1500px;overflow:auto;\">\n",
       "<table border=\"1\" class=\"dataframe\">\n",
       "  <thead>\n",
       "    <tr style=\"text-align: right;\">\n",
       "      <th></th>\n",
       "      <th>Quarter</th>\n",
       "      <th>Male Live Births</th>\n",
       "      <th>Female Live Births</th>\n",
       "      <th>Male Deaths</th>\n",
       "      <th>Female Deaths</th>\n",
       "    </tr>\n",
       "  </thead>\n",
       "  <tbody>\n",
       "    <tr>\n",
       "      <th>0</th>\n",
       "      <td> 2000Q1</td>\n",
       "      <td> 7639</td>\n",
       "      <td> 7139</td>\n",
       "      <td> 3346</td>\n",
       "      <td> 3070</td>\n",
       "    </tr>\n",
       "    <tr>\n",
       "      <th>1</th>\n",
       "      <td> 2000Q2</td>\n",
       "      <td> 7365</td>\n",
       "      <td> 6866</td>\n",
       "      <td> 3372</td>\n",
       "      <td> 3178</td>\n",
       "    </tr>\n",
       "    <tr>\n",
       "      <th>2</th>\n",
       "      <td> 2000Q3</td>\n",
       "      <td> 7174</td>\n",
       "      <td> 6843</td>\n",
       "      <td> 3675</td>\n",
       "      <td> 3511</td>\n",
       "    </tr>\n",
       "    <tr>\n",
       "      <th>3</th>\n",
       "      <td> 2000Q4</td>\n",
       "      <td> 6979</td>\n",
       "      <td> 6600</td>\n",
       "      <td> 3357</td>\n",
       "      <td> 3151</td>\n",
       "    </tr>\n",
       "    <tr>\n",
       "      <th>4</th>\n",
       "      <td> 2001Q1</td>\n",
       "      <td> 7496</td>\n",
       "      <td> 7232</td>\n",
       "      <td> 3231</td>\n",
       "      <td> 3070</td>\n",
       "    </tr>\n",
       "  </tbody>\n",
       "</table>\n",
       "</div>"
      ],
      "text/plain": [
       "  Quarter  Male Live Births  Female Live Births  Male Deaths  Female Deaths\n",
       "0  2000Q1              7639                7139         3346           3070\n",
       "1  2000Q2              7365                6866         3372           3178\n",
       "2  2000Q3              7174                6843         3675           3511\n",
       "3  2000Q4              6979                6600         3357           3151\n",
       "4  2001Q1              7496                7232         3231           3070"
      ]
     },
     "execution_count": 3,
     "metadata": {},
     "output_type": "execute_result"
    }
   ],
   "source": [
    "df.head()"
   ]
  },
  {
   "cell_type": "code",
   "execution_count": 4,
   "metadata": {
    "collapsed": false
   },
   "outputs": [
    {
     "data": {
      "text/plain": [
       "(52, 5)"
      ]
     },
     "execution_count": 4,
     "metadata": {},
     "output_type": "execute_result"
    }
   ],
   "source": [
    "df.shape"
   ]
  },
  {
   "cell_type": "code",
   "execution_count": 5,
   "metadata": {
    "collapsed": true
   },
   "outputs": [],
   "source": [
    "from sklearn.cluster import MeanShift, estimate_bandwidth"
   ]
  },
  {
   "cell_type": "code",
   "execution_count": 6,
   "metadata": {
    "collapsed": true
   },
   "outputs": [],
   "source": [
    "X = df.drop(\"Quarter\",axis=1)"
   ]
  },
  {
   "cell_type": "code",
   "execution_count": 7,
   "metadata": {
    "collapsed": false
   },
   "outputs": [
    {
     "name": "stdout",
     "output_type": "stream",
     "text": [
      "number of estimated clusters : 5\n"
     ]
    }
   ],
   "source": [
    "bandwidth = estimate_bandwidth(np.array(X), quantile=0.2, n_samples=500)\n",
    "\n",
    "ms = MeanShift(bandwidth=bandwidth, bin_seeding=True)\n",
    "ms.fit(np.array(X))\n",
    "labels = ms.labels_\n",
    "cluster_centers = ms.cluster_centers_\n",
    "\n",
    "labels_unique = np.unique(labels)\n",
    "n_clusters_ = len(labels_unique)\n",
    "print(\"number of estimated clusters : %d\" % n_clusters_)"
   ]
  },
  {
   "cell_type": "code",
   "execution_count": 9,
   "metadata": {
    "collapsed": false
   },
   "outputs": [
    {
     "data": {
      "text/plain": [
       "array([1, 0, 2, 0, 0, 0, 2, 0, 0, 0, 2, 0, 0, 0, 2, 0, 1, 0, 4, 2, 0, 1, 2,\n",
       "       0, 1, 0, 4, 0, 3, 1, 3, 3, 1, 3, 3, 3, 1, 1, 3, 1, 3, 1, 3, 1, 3, 1,\n",
       "       4, 2, 1, 1, 4, 1])"
      ]
     },
     "execution_count": 9,
     "metadata": {},
     "output_type": "execute_result"
    }
   ],
   "source": [
    "labels"
   ]
  },
  {
   "cell_type": "code",
   "execution_count": 10,
   "metadata": {
    "collapsed": true
   },
   "outputs": [],
   "source": [
    "df[\"label\"] = labels"
   ]
  },
  {
   "cell_type": "code",
   "execution_count": 14,
   "metadata": {
    "collapsed": true
   },
   "outputs": [],
   "source": [
    "df_gb = df.groupby(by = \"label\")\n",
    "df_f = df_gb.count(\"Male Deaths\")"
   ]
  },
  {
   "cell_type": "code",
   "execution_count": 16,
   "metadata": {
    "collapsed": false
   },
   "outputs": [],
   "source": [
    "df_cluster = df_f.reset_index()"
   ]
  },
  {
   "cell_type": "code",
   "execution_count": 19,
   "metadata": {
    "collapsed": false
   },
   "outputs": [
    {
     "data": {
      "text/html": [
       "<div style=\"max-height:1000px;max-width:1500px;overflow:auto;\">\n",
       "<table border=\"1\" class=\"dataframe\">\n",
       "  <thead>\n",
       "    <tr style=\"text-align: right;\">\n",
       "      <th></th>\n",
       "      <th>label</th>\n",
       "      <th>Quarter</th>\n",
       "      <th>Male Live Births</th>\n",
       "      <th>Female Live Births</th>\n",
       "      <th>Male Deaths</th>\n",
       "      <th>Female Deaths</th>\n",
       "    </tr>\n",
       "  </thead>\n",
       "  <tbody>\n",
       "    <tr>\n",
       "      <th>0</th>\n",
       "      <td> 0</td>\n",
       "      <td> 16</td>\n",
       "      <td> 16</td>\n",
       "      <td> 16</td>\n",
       "      <td> 16</td>\n",
       "      <td> 16</td>\n",
       "    </tr>\n",
       "    <tr>\n",
       "      <th>1</th>\n",
       "      <td> 1</td>\n",
       "      <td> 15</td>\n",
       "      <td> 15</td>\n",
       "      <td> 15</td>\n",
       "      <td> 15</td>\n",
       "      <td> 15</td>\n",
       "    </tr>\n",
       "    <tr>\n",
       "      <th>3</th>\n",
       "      <td> 3</td>\n",
       "      <td> 10</td>\n",
       "      <td> 10</td>\n",
       "      <td> 10</td>\n",
       "      <td> 10</td>\n",
       "      <td> 10</td>\n",
       "    </tr>\n",
       "    <tr>\n",
       "      <th>2</th>\n",
       "      <td> 2</td>\n",
       "      <td>  7</td>\n",
       "      <td>  7</td>\n",
       "      <td>  7</td>\n",
       "      <td>  7</td>\n",
       "      <td>  7</td>\n",
       "    </tr>\n",
       "    <tr>\n",
       "      <th>4</th>\n",
       "      <td> 4</td>\n",
       "      <td>  4</td>\n",
       "      <td>  4</td>\n",
       "      <td>  4</td>\n",
       "      <td>  4</td>\n",
       "      <td>  4</td>\n",
       "    </tr>\n",
       "  </tbody>\n",
       "</table>\n",
       "</div>"
      ],
      "text/plain": [
       "   label  Quarter  Male Live Births  Female Live Births  Male Deaths  \\\n",
       "0      0       16                16                  16           16   \n",
       "1      1       15                15                  15           15   \n",
       "3      3       10                10                  10           10   \n",
       "2      2        7                 7                   7            7   \n",
       "4      4        4                 4                   4            4   \n",
       "\n",
       "   Female Deaths  \n",
       "0             16  \n",
       "1             15  \n",
       "3             10  \n",
       "2              7  \n",
       "4              4  "
      ]
     },
     "execution_count": 19,
     "metadata": {},
     "output_type": "execute_result"
    }
   ],
   "source": [
    "df_cluster.sort(columns=\"Male Live Births\", ascending=False)"
   ]
  },
  {
   "cell_type": "code",
   "execution_count": 21,
   "metadata": {
    "collapsed": false
   },
   "outputs": [],
   "source": [
    "df.drop([\"Quarter\", \"label\"],axis=1,inplace=True)"
   ]
  },
  {
   "cell_type": "code",
   "execution_count": 23,
   "metadata": {
    "collapsed": false
   },
   "outputs": [],
   "source": [
    "import numpy as np\n",
    "import pandas as pd\n",
    "from sklearn.neighbors import NearestNeighbors\n",
    "from mpl_toolkits.mplot3d import Axes3D\n",
    "import matplotlib.pyplot as plt\n",
    "import matplotlib.patches as mPatch\n",
    "from matplotlib.legend_handler import HandlerLine2D\n",
    "\n",
    "#knn function gets the dataset and calculates K-Nearest neighbors and distances\n",
    "def knn(df,k):\n",
    "    nbrs = NearestNeighbors(n_neighbors=3)\n",
    "    nbrs.fit(df)\n",
    "    distances, indices = nbrs.kneighbors(df)\n",
    "    return distances, indices\n",
    "\n",
    "#reachDist calculates the reach distance of each point to MinPts around it\n",
    "def reachDist(df,MinPts,knnDist):\n",
    "    nbrs = NearestNeighbors(n_neighbors=MinPts)\n",
    "    nbrs.fit(df)\n",
    "    distancesMinPts, indicesMinPts = nbrs.kneighbors(df)\n",
    "    distancesMinPts[:,0] = np.amax(distancesMinPts,axis=1)\n",
    "    distancesMinPts[:,1] = np.amax(distancesMinPts,axis=1)\n",
    "    distancesMinPts[:,2] = np.amax(distancesMinPts,axis=1)\n",
    "    return distancesMinPts, indicesMinPts\n",
    "\n",
    "#lrd calculates the Local Reachability Density\n",
    "def lrd(MinPts,knnDistMinPts):\n",
    "    return (MinPts/np.sum(knnDistMinPts,axis=1))\n",
    "\n",
    "#Finally lof calculates lot outlier scores\n",
    "def lof(Ird,MinPts,dsts):\n",
    "    lof=[]\n",
    "    for item in dsts:\n",
    "       tempIrd = np.divide(Ird[item[1:]],Ird[item[0]])\n",
    "       lof.append(tempIrd.sum()/MinPts)\n",
    "    return lof\n",
    "\n",
    "#We flag anything with outlier score greater than 1.2 as outlier#This is just for charting purposes\n",
    "def returnFlag(x):\n",
    "    if x['Score']>1.2:\n",
    "       return 1\n",
    "    else:\n",
    "       return 0\n",
    "\n",
    "#Read the file to data frame\n",
    "data = df\n",
    "\n",
    "#You can change below value for different MinPts\n",
    "m=15\n",
    "\n",
    "knndist, knnindices = knn(data,3)\n",
    "reachdist, reachindices = reachDist(data,m,knndist)\n",
    "irdMatrix = lrd(m,reachdist)\n",
    "lofScores = lof(irdMatrix,m,reachindices) \n",
    "scores= pd.DataFrame(lofScores,columns=['Score'])\n",
    "mergedData=pd.merge(data,scores,left_index=True,right_index=True)\n",
    "mergedData['flag'] = mergedData.apply(returnFlag,axis=1)\n",
    "Outliers = mergedData[(mergedData['flag']==1)]\n",
    "Normals = mergedData[(mergedData['flag']==0)]"
   ]
  },
  {
   "cell_type": "code",
   "execution_count": 24,
   "metadata": {
    "collapsed": false
   },
   "outputs": [
    {
     "data": {
      "text/html": [
       "<div style=\"max-height:1000px;max-width:1500px;overflow:auto;\">\n",
       "<table border=\"1\" class=\"dataframe\">\n",
       "  <thead>\n",
       "    <tr style=\"text-align: right;\">\n",
       "      <th></th>\n",
       "      <th>Male Live Births</th>\n",
       "      <th>Female Live Births</th>\n",
       "      <th>Male Deaths</th>\n",
       "      <th>Female Deaths</th>\n",
       "      <th>Score</th>\n",
       "      <th>flag</th>\n",
       "    </tr>\n",
       "  </thead>\n",
       "  <tbody>\n",
       "    <tr>\n",
       "      <th>6 </th>\n",
       "      <td> 6873</td>\n",
       "      <td> 6783</td>\n",
       "      <td> 3914</td>\n",
       "      <td> 4000</td>\n",
       "      <td> 1.357900</td>\n",
       "      <td> 1</td>\n",
       "    </tr>\n",
       "    <tr>\n",
       "      <th>9 </th>\n",
       "      <td> 6713</td>\n",
       "      <td> 6438</td>\n",
       "      <td> 3523</td>\n",
       "      <td> 3365</td>\n",
       "      <td> 1.333963</td>\n",
       "      <td> 1</td>\n",
       "    </tr>\n",
       "    <tr>\n",
       "      <th>10</th>\n",
       "      <td> 7061</td>\n",
       "      <td> 6634</td>\n",
       "      <td> 3959</td>\n",
       "      <td> 4003</td>\n",
       "      <td> 1.295122</td>\n",
       "      <td> 1</td>\n",
       "    </tr>\n",
       "    <tr>\n",
       "      <th>14</th>\n",
       "      <td> 7125</td>\n",
       "      <td> 6842</td>\n",
       "      <td> 4073</td>\n",
       "      <td> 4113</td>\n",
       "      <td> 1.449755</td>\n",
       "      <td> 1</td>\n",
       "    </tr>\n",
       "    <tr>\n",
       "      <th>28</th>\n",
       "      <td> 8602</td>\n",
       "      <td> 7934</td>\n",
       "      <td> 3450</td>\n",
       "      <td> 3436</td>\n",
       "      <td> 1.325092</td>\n",
       "      <td> 1</td>\n",
       "    </tr>\n",
       "    <tr>\n",
       "      <th>33</th>\n",
       "      <td> 8597</td>\n",
       "      <td> 8053</td>\n",
       "      <td> 3617</td>\n",
       "      <td> 3625</td>\n",
       "      <td> 1.279122</td>\n",
       "      <td> 1</td>\n",
       "    </tr>\n",
       "    <tr>\n",
       "      <th>34</th>\n",
       "      <td> 8262</td>\n",
       "      <td> 7854</td>\n",
       "      <td> 4075</td>\n",
       "      <td> 4198</td>\n",
       "      <td> 1.377244</td>\n",
       "      <td> 1</td>\n",
       "    </tr>\n",
       "    <tr>\n",
       "      <th>38</th>\n",
       "      <td> 8264</td>\n",
       "      <td> 8047</td>\n",
       "      <td> 3999</td>\n",
       "      <td> 3994</td>\n",
       "      <td> 1.394383</td>\n",
       "      <td> 1</td>\n",
       "    </tr>\n",
       "    <tr>\n",
       "      <th>40</th>\n",
       "      <td> 8756</td>\n",
       "      <td> 8212</td>\n",
       "      <td> 3289</td>\n",
       "      <td> 3211</td>\n",
       "      <td> 2.000142</td>\n",
       "      <td> 1</td>\n",
       "    </tr>\n",
       "    <tr>\n",
       "      <th>46</th>\n",
       "      <td> 7961</td>\n",
       "      <td> 7563</td>\n",
       "      <td> 4079</td>\n",
       "      <td> 4247</td>\n",
       "      <td> 1.278596</td>\n",
       "      <td> 1</td>\n",
       "    </tr>\n",
       "    <tr>\n",
       "      <th>50</th>\n",
       "      <td> 7639</td>\n",
       "      <td> 7316</td>\n",
       "      <td> 4149</td>\n",
       "      <td> 4287</td>\n",
       "      <td> 1.270763</td>\n",
       "      <td> 1</td>\n",
       "    </tr>\n",
       "  </tbody>\n",
       "</table>\n",
       "</div>"
      ],
      "text/plain": [
       "    Male Live Births  Female Live Births  Male Deaths  Female Deaths  \\\n",
       "6               6873                6783         3914           4000   \n",
       "9               6713                6438         3523           3365   \n",
       "10              7061                6634         3959           4003   \n",
       "14              7125                6842         4073           4113   \n",
       "28              8602                7934         3450           3436   \n",
       "33              8597                8053         3617           3625   \n",
       "34              8262                7854         4075           4198   \n",
       "38              8264                8047         3999           3994   \n",
       "40              8756                8212         3289           3211   \n",
       "46              7961                7563         4079           4247   \n",
       "50              7639                7316         4149           4287   \n",
       "\n",
       "       Score  flag  \n",
       "6   1.357900     1  \n",
       "9   1.333963     1  \n",
       "10  1.295122     1  \n",
       "14  1.449755     1  \n",
       "28  1.325092     1  \n",
       "33  1.279122     1  \n",
       "34  1.377244     1  \n",
       "38  1.394383     1  \n",
       "40  2.000142     1  \n",
       "46  1.278596     1  \n",
       "50  1.270763     1  "
      ]
     },
     "execution_count": 24,
     "metadata": {},
     "output_type": "execute_result"
    }
   ],
   "source": [
    "Outliers"
   ]
  },
  {
   "cell_type": "code",
   "execution_count": null,
   "metadata": {
    "collapsed": true
   },
   "outputs": [],
   "source": []
  }
 ],
 "metadata": {
  "kernelspec": {
   "display_name": "Python 3",
   "language": "python",
   "name": "python3"
  },
  "language_info": {
   "codemirror_mode": {
    "name": "ipython",
    "version": 3
   },
   "file_extension": ".py",
   "mimetype": "text/x-python",
   "name": "python",
   "nbconvert_exporter": "python",
   "pygments_lexer": "ipython3",
   "version": "3.4.3+"
  }
 },
 "nbformat": 4,
 "nbformat_minor": 0
}
