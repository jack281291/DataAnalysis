{
 "cells": [
  {
   "cell_type": "code",
   "execution_count": 1,
   "metadata": {
    "collapsed": true
   },
   "outputs": [],
   "source": [
    "import numpy as np\n",
    "from scipy.stats import linregress"
   ]
  },
  {
   "cell_type": "code",
   "execution_count": 7,
   "metadata": {
    "collapsed": false,
    "scrolled": true
   },
   "outputs": [
    {
     "name": "stdout",
     "output_type": "stream",
     "text": [
      "Searching for statsmodels\n",
      "Reading https://pypi.python.org/simple/statsmodels/\n",
      "Best match: statsmodels 0.8.0rc1\n",
      "Downloading https://pypi.python.org/packages/c8/0a/71ea3dbc6fd712e18123a9e513066c8f5e19dbcabc49b5ba7ab07c97ea29/statsmodels-0.8.0rc1.tar.gz#md5=da32434ebfebae2c7506e9577ac558f5\n",
      "Processing statsmodels-0.8.0rc1.tar.gz\n",
      "Writing /tmp/easy_install-zurhnlpr/statsmodels-0.8.0rc1/setup.cfg\n",
      "Running statsmodels-0.8.0rc1/setup.py -q bdist_egg --dist-dir /tmp/easy_install-zurhnlpr/statsmodels-0.8.0rc1/egg-dist-tmp-i8ix6ve9\n",
      "\u001b[31mpackage init file 'statsmodels/tsa/vector_ar/data/__init__.py' not found (or not a regular file)\u001b[0m\n",
      "\u001b[31mwarning: no files found matching '*.pxi' anywhere in distribution\u001b[0m\n",
      "\u001b[31mwarning: no previously-included files matching '*' found under directory 'build'\u001b[0m\n",
      "\u001b[31mwarning: no previously-included files matching '*' found under directory 'dist'\u001b[0m\n",
      "\u001b[31mwarning: no directories found matching 'statsmodels/tests'\u001b[0m\n",
      "\u001b[31mwarning: no previously-included files found matching 'docs/source/generated/*'\u001b[0m\n",
      "\u001b[31mwarning: no previously-included files matching '*' found under directory 'docs/build'\u001b[0m\n",
      "\u001b[31mwarning: no previously-included files matching '*' found under directory 'docs/build/htmlhelp'\u001b[0m\n",
      "\u001b[31mwarning: no files found matching 'statsmodels/statsmodelsdoc.chm'\u001b[0m\n",
      "\u001b[31mno previously-included directories found matching '*/__pycache__'\u001b[0m\n",
      "\u001b[31mwarning: no previously-included files matching '*~' found anywhere in distribution\u001b[0m\n",
      "\u001b[31mwarning: no previously-included files matching '*.swp' found anywhere in distribution\u001b[0m\n",
      "\u001b[31mwarning: no previously-included files matching '*.pyo' found anywhere in distribution\u001b[0m\n",
      "\u001b[31mwarning: no previously-included files matching '*.bak' found anywhere in distribution\u001b[0m\n",
      "In file included from /usr/local/lib/python3.4/dist-packages/numpy/core/include/numpy/ndarraytypes.h:1777:0,\n",
      "                 from /usr/local/lib/python3.4/dist-packages/numpy/core/include/numpy/ndarrayobject.h:18,\n",
      "                 from /usr/local/lib/python3.4/dist-packages/numpy/core/include/numpy/arrayobject.h:4,\n",
      "                 from statsmodels/nonparametric/linbin.c:250:\n",
      "/usr/local/lib/python3.4/dist-packages/numpy/core/include/numpy/npy_1_7_deprecated_api.h:15:2: warning: #warning \"Using deprecated NumPy API, disable it by \" \"#defining NPY_NO_DEPRECATED_API NPY_1_7_API_VERSION\" [-Wcpp]\n",
      " #warning \"Using deprecated NumPy API, disable it by \" \\\n",
      "  ^\n",
      "In file included from /usr/local/lib/python3.4/dist-packages/numpy/core/include/numpy/ndarrayobject.h:27:0,\n",
      "                 from /usr/local/lib/python3.4/dist-packages/numpy/core/include/numpy/arrayobject.h:4,\n",
      "                 from statsmodels/nonparametric/linbin.c:250:\n",
      "/usr/local/lib/python3.4/dist-packages/numpy/core/include/numpy/__multiarray_api.h:1448:1: warning: ‘_import_array’ defined but not used [-Wunused-function]\n",
      " _import_array(void)\n",
      " ^\n",
      "In file included from /usr/local/lib/python3.4/dist-packages/numpy/core/include/numpy/ndarraytypes.h:1777:0,\n",
      "                 from /usr/local/lib/python3.4/dist-packages/numpy/core/include/numpy/ndarrayobject.h:18,\n",
      "                 from /usr/local/lib/python3.4/dist-packages/numpy/core/include/numpy/arrayobject.h:4,\n",
      "                 from statsmodels/tsa/kalmanf/kalman_loglike.c:250:\n",
      "/usr/local/lib/python3.4/dist-packages/numpy/core/include/numpy/npy_1_7_deprecated_api.h:15:2: warning: #warning \"Using deprecated NumPy API, disable it by \" \"#defining NPY_NO_DEPRECATED_API NPY_1_7_API_VERSION\" [-Wcpp]\n",
      " #warning \"Using deprecated NumPy API, disable it by \" \\\n",
      "  ^\n",
      "In file included from /usr/local/lib/python3.4/dist-packages/numpy/core/include/numpy/ndarraytypes.h:1777:0,\n",
      "                 from /usr/local/lib/python3.4/dist-packages/numpy/core/include/numpy/ndarrayobject.h:18,\n",
      "                 from /usr/local/lib/python3.4/dist-packages/numpy/core/include/numpy/arrayobject.h:4,\n",
      "                 from statsmodels/tsa/regime_switching/_hamilton_filter.c:250:\n",
      "/usr/local/lib/python3.4/dist-packages/numpy/core/include/numpy/npy_1_7_deprecated_api.h:15:2: warning: #warning \"Using deprecated NumPy API, disable it by \" \"#defining NPY_NO_DEPRECATED_API NPY_1_7_API_VERSION\" [-Wcpp]\n",
      " #warning \"Using deprecated NumPy API, disable it by \" \\\n",
      "  ^\n",
      "In file included from /usr/local/lib/python3.4/dist-packages/numpy/core/include/numpy/ndarrayobject.h:27:0,\n",
      "                 from /usr/local/lib/python3.4/dist-packages/numpy/core/include/numpy/arrayobject.h:4,\n",
      "                 from statsmodels/tsa/regime_switching/_hamilton_filter.c:250:\n",
      "/usr/local/lib/python3.4/dist-packages/numpy/core/include/numpy/__multiarray_api.h:1448:1: warning: ‘_import_array’ defined but not used [-Wunused-function]\n",
      " _import_array(void)\n",
      " ^\n",
      "In file included from /usr/local/lib/python3.4/dist-packages/numpy/core/include/numpy/ndarraytypes.h:1777:0,\n",
      "                 from /usr/local/lib/python3.4/dist-packages/numpy/core/include/numpy/ndarrayobject.h:18,\n",
      "                 from /usr/local/lib/python3.4/dist-packages/numpy/core/include/numpy/arrayobject.h:4,\n",
      "                 from statsmodels/tsa/statespace/_statespace.c:250:\n",
      "/usr/local/lib/python3.4/dist-packages/numpy/core/include/numpy/npy_1_7_deprecated_api.h:15:2: warning: #warning \"Using deprecated NumPy API, disable it by \" \"#defining NPY_NO_DEPRECATED_API NPY_1_7_API_VERSION\" [-Wcpp]\n",
      " #warning \"Using deprecated NumPy API, disable it by \" \\\n",
      "  ^\n",
      "statsmodels/tsa/statespace/_statespace.c: In function ‘__pyx_f_11statsmodels_3tsa_10statespace_11_statespace_zabs’:\n",
      "statsmodels/tsa/statespace/_statespace.c:4096:3: warning: dereferencing type-punned pointer will break strict-aliasing rules [-Wstrict-aliasing]\n",
      "   __pyx_r = npy_cabs((((npy_cdouble *)(&__pyx_v_z))[0]));\n",
      "   ^\n",
      "statsmodels/tsa/statespace/_statespace.c: In function ‘__pyx_f_11statsmodels_3tsa_10statespace_11_statespace_zlog’:\n",
      "statsmodels/tsa/statespace/_statespace.c:4134:3: warning: dereferencing type-punned pointer will break strict-aliasing rules [-Wstrict-aliasing]\n",
      "   __pyx_v_x = npy_clog((((npy_cdouble *)(&__pyx_v_z))[0]));\n",
      "   ^\n",
      "statsmodels/tsa/statespace/_statespace.c:4143:3: warning: dereferencing type-punned pointer will break strict-aliasing rules [-Wstrict-aliasing]\n",
      "   __pyx_r = (((__pyx_t_double_complex *)(&__pyx_v_x))[0]);\n",
      "   ^\n",
      "In file included from /usr/local/lib/python3.4/dist-packages/numpy/core/include/numpy/ndarraytypes.h:1777:0,\n",
      "                 from /usr/local/lib/python3.4/dist-packages/numpy/core/include/numpy/ndarrayobject.h:18,\n",
      "                 from /usr/local/lib/python3.4/dist-packages/numpy/core/include/numpy/arrayobject.h:4,\n",
      "                 from statsmodels/nonparametric/_smoothers_lowess.c:250:\n",
      "/usr/local/lib/python3.4/dist-packages/numpy/core/include/numpy/npy_1_7_deprecated_api.h:15:2: warning: #warning \"Using deprecated NumPy API, disable it by \" \"#defining NPY_NO_DEPRECATED_API NPY_1_7_API_VERSION\" [-Wcpp]\n",
      " #warning \"Using deprecated NumPy API, disable it by \" \\\n",
      "  ^\n",
      "In file included from /usr/local/lib/python3.4/dist-packages/numpy/core/include/numpy/ndarrayobject.h:27:0,\n",
      "                 from /usr/local/lib/python3.4/dist-packages/numpy/core/include/numpy/arrayobject.h:4,\n",
      "                 from statsmodels/nonparametric/_smoothers_lowess.c:250:\n",
      "/usr/local/lib/python3.4/dist-packages/numpy/core/include/numpy/__multiarray_api.h:1448:1: warning: ‘_import_array’ defined but not used [-Wunused-function]\n",
      " _import_array(void)\n",
      " ^\n",
      "creating /resources/.virtualenv/python3/lib/python3.4/site-packages/statsmodels-0.8.0rc1-py3.4-linux-x86_64.egg\n",
      "Extracting statsmodels-0.8.0rc1-py3.4-linux-x86_64.egg to /resources/.virtualenv/python3/lib/python3.4/site-packages\n",
      "Adding statsmodels 0.8.0rc1 to easy-install.pth file\n",
      "\n",
      "Installed /resources/.virtualenv/python3/lib/python3.4/site-packages/statsmodels-0.8.0rc1-py3.4-linux-x86_64.egg\n",
      "Processing dependencies for statsmodels\n",
      "Searching for patsy\n",
      "Reading https://pypi.python.org/simple/patsy/\n",
      "Best match: patsy 0.4.1\n",
      "Downloading https://pypi.python.org/packages/0f/94/f33bbfcfc0ffc8f57837812b350d23dfba92baccdc56dd6771fa9fe6502c/patsy-0.4.1.zip#md5=9445f29e3426d1ed30d683a1e1453f84\n",
      "Processing patsy-0.4.1.zip\n",
      "Writing /tmp/easy_install-ibjvet4w/patsy-0.4.1/setup.cfg\n",
      "Running patsy-0.4.1/setup.py -q bdist_egg --dist-dir /tmp/easy_install-ibjvet4w/patsy-0.4.1/egg-dist-tmp-r6ou8bfg\n",
      "no previously-included directories found matching 'doc/_build'\n",
      "zip_safe flag not set; analyzing archive contents...\n",
      "Moving patsy-0.4.1-py3.4.egg to /resources/.virtualenv/python3/lib/python3.4/site-packages\n",
      "Adding patsy 0.4.1 to easy-install.pth file\n",
      "\n",
      "Installed /resources/.virtualenv/python3/lib/python3.4/site-packages/patsy-0.4.1-py3.4.egg\n",
      "Finished processing dependencies for statsmodels\n"
     ]
    }
   ],
   "source": [
    "!easy_install -U statsmodels"
   ]
  },
  {
   "cell_type": "code",
   "execution_count": 2,
   "metadata": {
    "collapsed": false
   },
   "outputs": [],
   "source": [
    "slope, intercept, r_value, p_value, stderr_slope = linregress([1,2,3,4,8,90,100], [1,5,6,8,9,100,80])"
   ]
  },
  {
   "cell_type": "code",
   "execution_count": 3,
   "metadata": {
    "collapsed": false
   },
   "outputs": [
    {
     "data": {
      "text/plain": [
       "0.90920874259756934"
      ]
     },
     "execution_count": 3,
     "metadata": {},
     "output_type": "execute_result"
    }
   ],
   "source": [
    "slope"
   ]
  },
  {
   "cell_type": "markdown",
   "metadata": {
    "collapsed": true
   },
   "source": [
    "# Advanced Linear Regression"
   ]
  },
  {
   "cell_type": "code",
   "execution_count": 4,
   "metadata": {
    "collapsed": false
   },
   "outputs": [
    {
     "name": "stderr",
     "output_type": "stream",
     "text": [
      "/usr/local/lib/python3.4/dist-packages/matplotlib/font_manager.py:273: UserWarning: Matplotlib is building the font cache using fc-list. This may take a moment.\n",
      "  warnings.warn('Matplotlib is building the font cache using fc-list. This may take a moment.')\n",
      "/usr/local/lib/python3.4/dist-packages/matplotlib/font_manager.py:273: UserWarning: Matplotlib is building the font cache using fc-list. This may take a moment.\n",
      "  warnings.warn('Matplotlib is building the font cache using fc-list. This may take a moment.')\n"
     ]
    }
   ],
   "source": [
    "import statsmodels.api as sm\n",
    "import pandas as pd\n",
    "import numpy as np\n",
    "import matplotlib.pyplot as plt\n",
    "%matplotlib inline"
   ]
  },
  {
   "cell_type": "code",
   "execution_count": 5,
   "metadata": {
    "collapsed": false
   },
   "outputs": [],
   "source": [
    "fsc = pd.read_csv('dati/fandango_score_comparison.csv')"
   ]
  },
  {
   "cell_type": "markdown",
   "metadata": {},
   "source": [
    "Statsmodels is a library which allows for rigorous statistical analysis in python. For linear models, statsmodels provides ample statistical measures for proper evaluation. The class sm.OLS is used to fit linear models, standing for ordinary least squares. After the initialization of our model we fit data to it using the .fit() method that estimates the coefficients of the linear model. OLS() does not automatically add an intercept to our model. We can add a column of 1's to add another coefficient to our model and since the coefficient is multiplied by 1 we are given an intercept."
   ]
  },
  {
   "cell_type": "code",
   "execution_count": 6,
   "metadata": {
    "collapsed": false
   },
   "outputs": [
    {
     "data": {
      "text/html": [
       "<div>\n",
       "<table border=\"1\" class=\"dataframe\">\n",
       "  <thead>\n",
       "    <tr style=\"text-align: right;\">\n",
       "      <th></th>\n",
       "      <th>FILM</th>\n",
       "      <th>RottenTomatoes</th>\n",
       "      <th>RottenTomatoes_User</th>\n",
       "      <th>Metacritic</th>\n",
       "      <th>Metacritic_User</th>\n",
       "      <th>IMDB</th>\n",
       "      <th>Fandango_Stars</th>\n",
       "      <th>Fandango_Ratingvalue</th>\n",
       "      <th>RT_norm</th>\n",
       "      <th>RT_user_norm</th>\n",
       "      <th>...</th>\n",
       "      <th>IMDB_norm</th>\n",
       "      <th>RT_norm_round</th>\n",
       "      <th>RT_user_norm_round</th>\n",
       "      <th>Metacritic_norm_round</th>\n",
       "      <th>Metacritic_user_norm_round</th>\n",
       "      <th>IMDB_norm_round</th>\n",
       "      <th>Metacritic_user_vote_count</th>\n",
       "      <th>IMDB_user_vote_count</th>\n",
       "      <th>Fandango_votes</th>\n",
       "      <th>Fandango_Difference</th>\n",
       "    </tr>\n",
       "  </thead>\n",
       "  <tbody>\n",
       "    <tr>\n",
       "      <th>0</th>\n",
       "      <td>Avengers: Age of Ultron (2015)</td>\n",
       "      <td>74</td>\n",
       "      <td>86</td>\n",
       "      <td>66</td>\n",
       "      <td>7.1</td>\n",
       "      <td>7.8</td>\n",
       "      <td>5.0</td>\n",
       "      <td>4.5</td>\n",
       "      <td>3.70</td>\n",
       "      <td>4.3</td>\n",
       "      <td>...</td>\n",
       "      <td>3.90</td>\n",
       "      <td>3.5</td>\n",
       "      <td>4.5</td>\n",
       "      <td>3.5</td>\n",
       "      <td>3.5</td>\n",
       "      <td>4.0</td>\n",
       "      <td>1330</td>\n",
       "      <td>271107</td>\n",
       "      <td>14846</td>\n",
       "      <td>0.5</td>\n",
       "    </tr>\n",
       "    <tr>\n",
       "      <th>1</th>\n",
       "      <td>Cinderella (2015)</td>\n",
       "      <td>85</td>\n",
       "      <td>80</td>\n",
       "      <td>67</td>\n",
       "      <td>7.5</td>\n",
       "      <td>7.1</td>\n",
       "      <td>5.0</td>\n",
       "      <td>4.5</td>\n",
       "      <td>4.25</td>\n",
       "      <td>4.0</td>\n",
       "      <td>...</td>\n",
       "      <td>3.55</td>\n",
       "      <td>4.5</td>\n",
       "      <td>4.0</td>\n",
       "      <td>3.5</td>\n",
       "      <td>4.0</td>\n",
       "      <td>3.5</td>\n",
       "      <td>249</td>\n",
       "      <td>65709</td>\n",
       "      <td>12640</td>\n",
       "      <td>0.5</td>\n",
       "    </tr>\n",
       "    <tr>\n",
       "      <th>2</th>\n",
       "      <td>Ant-Man (2015)</td>\n",
       "      <td>80</td>\n",
       "      <td>90</td>\n",
       "      <td>64</td>\n",
       "      <td>8.1</td>\n",
       "      <td>7.8</td>\n",
       "      <td>5.0</td>\n",
       "      <td>4.5</td>\n",
       "      <td>4.00</td>\n",
       "      <td>4.5</td>\n",
       "      <td>...</td>\n",
       "      <td>3.90</td>\n",
       "      <td>4.0</td>\n",
       "      <td>4.5</td>\n",
       "      <td>3.0</td>\n",
       "      <td>4.0</td>\n",
       "      <td>4.0</td>\n",
       "      <td>627</td>\n",
       "      <td>103660</td>\n",
       "      <td>12055</td>\n",
       "      <td>0.5</td>\n",
       "    </tr>\n",
       "    <tr>\n",
       "      <th>3</th>\n",
       "      <td>Do You Believe? (2015)</td>\n",
       "      <td>18</td>\n",
       "      <td>84</td>\n",
       "      <td>22</td>\n",
       "      <td>4.7</td>\n",
       "      <td>5.4</td>\n",
       "      <td>5.0</td>\n",
       "      <td>4.5</td>\n",
       "      <td>0.90</td>\n",
       "      <td>4.2</td>\n",
       "      <td>...</td>\n",
       "      <td>2.70</td>\n",
       "      <td>1.0</td>\n",
       "      <td>4.0</td>\n",
       "      <td>1.0</td>\n",
       "      <td>2.5</td>\n",
       "      <td>2.5</td>\n",
       "      <td>31</td>\n",
       "      <td>3136</td>\n",
       "      <td>1793</td>\n",
       "      <td>0.5</td>\n",
       "    </tr>\n",
       "    <tr>\n",
       "      <th>4</th>\n",
       "      <td>Hot Tub Time Machine 2 (2015)</td>\n",
       "      <td>14</td>\n",
       "      <td>28</td>\n",
       "      <td>29</td>\n",
       "      <td>3.4</td>\n",
       "      <td>5.1</td>\n",
       "      <td>3.5</td>\n",
       "      <td>3.0</td>\n",
       "      <td>0.70</td>\n",
       "      <td>1.4</td>\n",
       "      <td>...</td>\n",
       "      <td>2.55</td>\n",
       "      <td>0.5</td>\n",
       "      <td>1.5</td>\n",
       "      <td>1.5</td>\n",
       "      <td>1.5</td>\n",
       "      <td>2.5</td>\n",
       "      <td>88</td>\n",
       "      <td>19560</td>\n",
       "      <td>1021</td>\n",
       "      <td>0.5</td>\n",
       "    </tr>\n",
       "  </tbody>\n",
       "</table>\n",
       "<p>5 rows × 22 columns</p>\n",
       "</div>"
      ],
      "text/plain": [
       "                             FILM  RottenTomatoes  RottenTomatoes_User  \\\n",
       "0  Avengers: Age of Ultron (2015)              74                   86   \n",
       "1               Cinderella (2015)              85                   80   \n",
       "2                  Ant-Man (2015)              80                   90   \n",
       "3          Do You Believe? (2015)              18                   84   \n",
       "4   Hot Tub Time Machine 2 (2015)              14                   28   \n",
       "\n",
       "   Metacritic  Metacritic_User  IMDB  Fandango_Stars  Fandango_Ratingvalue  \\\n",
       "0          66              7.1   7.8             5.0                   4.5   \n",
       "1          67              7.5   7.1             5.0                   4.5   \n",
       "2          64              8.1   7.8             5.0                   4.5   \n",
       "3          22              4.7   5.4             5.0                   4.5   \n",
       "4          29              3.4   5.1             3.5                   3.0   \n",
       "\n",
       "   RT_norm  RT_user_norm         ...           IMDB_norm  RT_norm_round  \\\n",
       "0     3.70           4.3         ...                3.90            3.5   \n",
       "1     4.25           4.0         ...                3.55            4.5   \n",
       "2     4.00           4.5         ...                3.90            4.0   \n",
       "3     0.90           4.2         ...                2.70            1.0   \n",
       "4     0.70           1.4         ...                2.55            0.5   \n",
       "\n",
       "   RT_user_norm_round  Metacritic_norm_round  Metacritic_user_norm_round  \\\n",
       "0                 4.5                    3.5                         3.5   \n",
       "1                 4.0                    3.5                         4.0   \n",
       "2                 4.5                    3.0                         4.0   \n",
       "3                 4.0                    1.0                         2.5   \n",
       "4                 1.5                    1.5                         1.5   \n",
       "\n",
       "   IMDB_norm_round  Metacritic_user_vote_count  IMDB_user_vote_count  \\\n",
       "0              4.0                        1330                271107   \n",
       "1              3.5                         249                 65709   \n",
       "2              4.0                         627                103660   \n",
       "3              2.5                          31                  3136   \n",
       "4              2.5                          88                 19560   \n",
       "\n",
       "   Fandango_votes  Fandango_Difference  \n",
       "0           14846                  0.5  \n",
       "1           12640                  0.5  \n",
       "2           12055                  0.5  \n",
       "3            1793                  0.5  \n",
       "4            1021                  0.5  \n",
       "\n",
       "[5 rows x 22 columns]"
      ]
     },
     "execution_count": 6,
     "metadata": {},
     "output_type": "execute_result"
    }
   ],
   "source": [
    "fsc.head()"
   ]
  },
  {
   "cell_type": "code",
   "execution_count": 8,
   "metadata": {
    "collapsed": false
   },
   "outputs": [],
   "source": [
    "y = fsc['Metacritic_User']\n",
    "X = fsc[['Metacritic', 'Fandango_Stars', 'Fandango_Ratingvalue']]\n",
    "X = sm.add_constant(X)"
   ]
  },
  {
   "cell_type": "code",
   "execution_count": 9,
   "metadata": {
    "collapsed": false
   },
   "outputs": [
    {
     "data": {
      "text/html": [
       "<table class=\"simpletable\">\n",
       "<caption>OLS Regression Results</caption>\n",
       "<tr>\n",
       "  <th>Dep. Variable:</th>     <td>Metacritic_User</td> <th>  R-squared:         </th> <td>   0.569</td>\n",
       "</tr>\n",
       "<tr>\n",
       "  <th>Model:</th>                   <td>OLS</td>       <th>  Adj. R-squared:    </th> <td>   0.560</td>\n",
       "</tr>\n",
       "<tr>\n",
       "  <th>Method:</th>             <td>Least Squares</td>  <th>  F-statistic:       </th> <td>   62.47</td>\n",
       "</tr>\n",
       "<tr>\n",
       "  <th>Date:</th>             <td>Mon, 22 Aug 2016</td> <th>  Prob (F-statistic):</th> <td>8.19e-26</td>\n",
       "</tr>\n",
       "<tr>\n",
       "  <th>Time:</th>                 <td>14:34:05</td>     <th>  Log-Likelihood:    </th> <td> -205.47</td>\n",
       "</tr>\n",
       "<tr>\n",
       "  <th>No. Observations:</th>      <td>   146</td>      <th>  AIC:               </th> <td>   418.9</td>\n",
       "</tr>\n",
       "<tr>\n",
       "  <th>Df Residuals:</th>          <td>   142</td>      <th>  BIC:               </th> <td>   430.9</td>\n",
       "</tr>\n",
       "<tr>\n",
       "  <th>Df Model:</th>              <td>     3</td>      <th>                     </th>     <td> </td>   \n",
       "</tr>\n",
       "<tr>\n",
       "  <th>Covariance Type:</th>      <td>nonrobust</td>    <th>                     </th>     <td> </td>   \n",
       "</tr>\n",
       "</table>\n",
       "<table class=\"simpletable\">\n",
       "<tr>\n",
       "            <td></td>              <th>coef</th>     <th>std err</th>      <th>t</th>      <th>P>|t|</th>  <th>[0.025</th>    <th>0.975]</th>  \n",
       "</tr>\n",
       "<tr>\n",
       "  <th>const</th>                <td>    0.8839</td> <td>    0.660</td> <td>    1.339</td> <td> 0.183</td> <td>   -0.421</td> <td>    2.189</td>\n",
       "</tr>\n",
       "<tr>\n",
       "  <th>Metacritic</th>           <td>    0.0530</td> <td>    0.004</td> <td>   12.214</td> <td> 0.000</td> <td>    0.044</td> <td>    0.062</td>\n",
       "</tr>\n",
       "<tr>\n",
       "  <th>Fandango_Stars</th>       <td>    0.2323</td> <td>    0.549</td> <td>    0.423</td> <td> 0.673</td> <td>   -0.852</td> <td>    1.317</td>\n",
       "</tr>\n",
       "<tr>\n",
       "  <th>Fandango_Ratingvalue</th> <td>    0.4084</td> <td>    0.589</td> <td>    0.693</td> <td> 0.489</td> <td>   -0.756</td> <td>    1.573</td>\n",
       "</tr>\n",
       "</table>\n",
       "<table class=\"simpletable\">\n",
       "<tr>\n",
       "  <th>Omnibus:</th>       <td> 2.257</td> <th>  Durbin-Watson:     </th> <td>   2.057</td>\n",
       "</tr>\n",
       "<tr>\n",
       "  <th>Prob(Omnibus):</th> <td> 0.324</td> <th>  Jarque-Bera (JB):  </th> <td>   1.947</td>\n",
       "</tr>\n",
       "<tr>\n",
       "  <th>Skew:</th>          <td> 0.109</td> <th>  Prob(JB):          </th> <td>   0.378</td>\n",
       "</tr>\n",
       "<tr>\n",
       "  <th>Kurtosis:</th>      <td> 3.522</td> <th>  Cond. No.          </th> <td>    599.</td>\n",
       "</tr>\n",
       "</table>"
      ],
      "text/plain": [
       "<class 'statsmodels.iolib.summary.Summary'>\n",
       "\"\"\"\n",
       "                            OLS Regression Results                            \n",
       "==============================================================================\n",
       "Dep. Variable:        Metacritic_User   R-squared:                       0.569\n",
       "Model:                            OLS   Adj. R-squared:                  0.560\n",
       "Method:                 Least Squares   F-statistic:                     62.47\n",
       "Date:                Mon, 22 Aug 2016   Prob (F-statistic):           8.19e-26\n",
       "Time:                        14:34:05   Log-Likelihood:                -205.47\n",
       "No. Observations:                 146   AIC:                             418.9\n",
       "Df Residuals:                     142   BIC:                             430.9\n",
       "Df Model:                           3                                         \n",
       "Covariance Type:            nonrobust                                         \n",
       "========================================================================================\n",
       "                           coef    std err          t      P>|t|      [0.025      0.975]\n",
       "----------------------------------------------------------------------------------------\n",
       "const                    0.8839      0.660      1.339      0.183      -0.421       2.189\n",
       "Metacritic               0.0530      0.004     12.214      0.000       0.044       0.062\n",
       "Fandango_Stars           0.2323      0.549      0.423      0.673      -0.852       1.317\n",
       "Fandango_Ratingvalue     0.4084      0.589      0.693      0.489      -0.756       1.573\n",
       "==============================================================================\n",
       "Omnibus:                        2.257   Durbin-Watson:                   2.057\n",
       "Prob(Omnibus):                  0.324   Jarque-Bera (JB):                1.947\n",
       "Skew:                           0.109   Prob(JB):                        0.378\n",
       "Kurtosis:                       3.522   Cond. No.                         599.\n",
       "==============================================================================\n",
       "\n",
       "Warnings:\n",
       "[1] Standard Errors assume that the covariance matrix of the errors is correctly specified.\n",
       "\"\"\""
      ]
     },
     "execution_count": 9,
     "metadata": {},
     "output_type": "execute_result"
    }
   ],
   "source": [
    "# OLS -- Ordinary Least Squares Fit\n",
    "linear = sm.OLS(y, X)\n",
    "# fit model\n",
    "linearfit = linear.fit()\n",
    "linearfit.summary()"
   ]
  },
  {
   "cell_type": "code",
   "execution_count": 10,
   "metadata": {
    "collapsed": false
   },
   "outputs": [
    {
     "data": {
      "text/plain": [
       "1.0839122597949988e-13"
      ]
     },
     "execution_count": 10,
     "metadata": {},
     "output_type": "execute_result"
    }
   ],
   "source": [
    "yhat = linearfit.predict(X)\n",
    "residuals = y - yhat\n",
    "np.mean(residuals)"
   ]
  },
  {
   "cell_type": "code",
   "execution_count": 11,
   "metadata": {
    "collapsed": false
   },
   "outputs": [
    {
     "data": {
      "text/plain": [
       "(array([  3.,   9.,  14.,  27.,  35.,  35.,  14.,   5.,   3.,   1.]),\n",
       " array([-2.64244206, -2.05479525, -1.46714843, -0.87950162, -0.29185481,\n",
       "         0.295792  ,  0.88343881,  1.47108562,  2.05873243,  2.64637924,\n",
       "         3.23402605]),\n",
       " <a list of 10 Patch objects>)"
      ]
     },
     "execution_count": 11,
     "metadata": {},
     "output_type": "execute_result"
    },
    {
     "data": {
      "image/png": "[encoded data removed]",
      "text/plain": [
       "<matplotlib.figure.Figure at 0x7f13f59b4828>"
      ]
     },
     "metadata": {},
     "output_type": "display_data"
    }
   ],
   "source": [
    "plt.hist(residuals)"
   ]
  },
  {
   "cell_type": "code",
   "execution_count": 12,
   "metadata": {
    "collapsed": true
   },
   "outputs": [],
   "source": [
    "# sum the (predicted - observed) squared\n",
    "SSE = np.sum((yhat-y.values)**2)\n",
    "# Average y\n",
    "ybar = np.mean(y.values)\n",
    "\n",
    "# sum the (mean - predicted) squared\n",
    "RSS = np.sum((ybar-yhat)**2)\n",
    "\n",
    "# sum the (mean - observed) squared\n",
    "TSS = np.sum((ybar-y.values)**2)"
   ]
  },
  {
   "cell_type": "code",
   "execution_count": 13,
   "metadata": {
    "collapsed": false
   },
   "outputs": [
    {
     "name": "stdout",
     "output_type": "stream",
     "text": [
      "0.568923911631\n"
     ]
    }
   ],
   "source": [
    "# R-square:\n",
    "R2 = RSS/TSS\n",
    "print(R2)"
   ]
  },
  {
   "cell_type": "code",
   "execution_count": 14,
   "metadata": {
    "collapsed": false
   },
   "outputs": [
    {
     "data": {
      "text/plain": [
       "const                   0.883909\n",
       "Metacritic              0.052969\n",
       "Fandango_Stars          0.232267\n",
       "Fandango_Ratingvalue    0.408437\n",
       "dtype: float64"
      ]
     },
     "execution_count": 14,
     "metadata": {},
     "output_type": "execute_result"
    }
   ],
   "source": [
    "# Coefficients of the Linear Model\n",
    "linearfit.params"
   ]
  },
  {
   "cell_type": "code",
   "execution_count": null,
   "metadata": {
    "collapsed": true
   },
   "outputs": [],
   "source": []
  }
 ],
 "metadata": {
  "kernelspec": {
   "display_name": "Python 3",
   "language": "python",
   "name": "python3"
  },
  "language_info": {
   "codemirror_mode": {
    "name": "ipython",
    "version": 3
   },
   "file_extension": ".py",
   "mimetype": "text/x-python",
   "name": "python",
   "nbconvert_exporter": "python",
   "pygments_lexer": "ipython3",
   "version": "3.4.3"
  },
  "widgets": {
   "state": {},
   "version": "1.1.2"
  }
 },
 "nbformat": 4,
 "nbformat_minor": 0
}
