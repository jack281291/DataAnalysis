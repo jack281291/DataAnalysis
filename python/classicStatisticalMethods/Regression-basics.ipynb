{
 "cells": [
  {
   "cell_type": "code",
   "execution_count": 48,
   "metadata": {
    "collapsed": false
   },
   "outputs": [],
   "source": [
    "import pandas as pd\n",
    "import numpy as np\n",
    "import quandl\n",
    "from sklearn.linear_model import LinearRegression\n",
    "import numpy as np\n",
    "import random\n",
    "import matplotlib.pyplot as plt\n",
    "%matplotlib inline"
   ]
  },
  {
   "cell_type": "code",
   "execution_count": 2,
   "metadata": {
    "collapsed": true
   },
   "outputs": [],
   "source": [
    "sp500 = quandl.get(\"YAHOO/SP500TR\", authtoken=\"cv7txpR8XhuYxMvfgHV2\")"
   ]
  },
  {
   "cell_type": "code",
   "execution_count": 3,
   "metadata": {
    "collapsed": false
   },
   "outputs": [
    {
     "data": {
      "text/html": [
       "<div>\n",
       "<table border=\"1\" class=\"dataframe\">\n",
       "  <thead>\n",
       "    <tr style=\"text-align: right;\">\n",
       "      <th></th>\n",
       "      <th>Open</th>\n",
       "      <th>High</th>\n",
       "      <th>Low</th>\n",
       "      <th>Close</th>\n",
       "      <th>Volume</th>\n",
       "      <th>Adjusted Close</th>\n",
       "    </tr>\n",
       "    <tr>\n",
       "      <th>Date</th>\n",
       "      <th></th>\n",
       "      <th></th>\n",
       "      <th></th>\n",
       "      <th></th>\n",
       "      <th></th>\n",
       "      <th></th>\n",
       "    </tr>\n",
       "  </thead>\n",
       "  <tbody>\n",
       "    <tr>\n",
       "      <th>1988-01-04</th>\n",
       "      <td>256.019989</td>\n",
       "      <td>256.019989</td>\n",
       "      <td>256.019989</td>\n",
       "      <td>256.019989</td>\n",
       "      <td>0.0</td>\n",
       "      <td>256.019989</td>\n",
       "    </tr>\n",
       "    <tr>\n",
       "      <th>1988-01-05</th>\n",
       "      <td>258.769989</td>\n",
       "      <td>258.769989</td>\n",
       "      <td>258.769989</td>\n",
       "      <td>258.769989</td>\n",
       "      <td>0.0</td>\n",
       "      <td>258.769989</td>\n",
       "    </tr>\n",
       "  </tbody>\n",
       "</table>\n",
       "</div>"
      ],
      "text/plain": [
       "                  Open        High         Low       Close  Volume  \\\n",
       "Date                                                                 \n",
       "1988-01-04  256.019989  256.019989  256.019989  256.019989     0.0   \n",
       "1988-01-05  258.769989  258.769989  258.769989  258.769989     0.0   \n",
       "\n",
       "            Adjusted Close  \n",
       "Date                        \n",
       "1988-01-04      256.019989  \n",
       "1988-01-05      258.769989  "
      ]
     },
     "execution_count": 3,
     "metadata": {},
     "output_type": "execute_result"
    }
   ],
   "source": [
    "sp500.head(2)"
   ]
  },
  {
   "cell_type": "code",
   "execution_count": 4,
   "metadata": {
    "collapsed": false
   },
   "outputs": [],
   "source": [
    "sp500 = sp500.loc[sp500[\"Volume\"] == 0]"
   ]
  },
  {
   "cell_type": "code",
   "execution_count": 5,
   "metadata": {
    "collapsed": false
   },
   "outputs": [
    {
     "data": {
      "text/plain": [
       "(7138, 6)"
      ]
     },
     "execution_count": 5,
     "metadata": {},
     "output_type": "execute_result"
    }
   ],
   "source": [
    "sp500.shape"
   ]
  },
  {
   "cell_type": "code",
   "execution_count": 6,
   "metadata": {
    "collapsed": false
   },
   "outputs": [
    {
     "name": "stdout",
     "output_type": "stream",
     "text": [
      "                   Open         High          Low        Close  Volume  \\\n",
      "Date                                                                     \n",
      "2016-04-07  3881.679932  3881.679932  3826.770020  3841.979980     0.0   \n",
      "2016-04-08  3848.850098  3877.250000  3841.649902  3852.719971     0.0   \n",
      "2016-04-11  3857.679932  3881.500000  3842.020020  3842.169922     0.0   \n",
      "2016-04-12  3845.550049  3885.649902  3838.060059  3879.419922     0.0   \n",
      "2016-04-13  3887.899902  3920.330078  3887.899902  3918.949951     0.0   \n",
      "2016-04-14  3920.229980  3929.510010  3911.290039  3920.030029     0.0   \n",
      "2016-04-15  3920.620117  3920.620117  3907.899902  3916.169922     0.0   \n",
      "2016-04-18  3912.659912  3942.379883  3902.989990  3941.860107     0.0   \n",
      "2016-04-19  3945.070068  3960.090088  3936.850098  3954.010010     0.0   \n",
      "2016-04-20  3955.600098  3973.530029  3945.850098  3957.250000     0.0   \n",
      "\n",
      "            Adjusted Close  \n",
      "Date                        \n",
      "2016-04-07     3841.979980  \n",
      "2016-04-08     3852.719971  \n",
      "2016-04-11     3842.169922  \n",
      "2016-04-12     3879.419922  \n",
      "2016-04-13     3918.949951  \n",
      "2016-04-14     3920.030029  \n",
      "2016-04-15     3916.169922  \n",
      "2016-04-18     3941.860107  \n",
      "2016-04-19     3954.010010  \n",
      "2016-04-20     3957.250000  \n"
     ]
    }
   ],
   "source": [
    "print(sp500.tail(10))"
   ]
  },
  {
   "cell_type": "code",
   "execution_count": 7,
   "metadata": {
    "collapsed": false
   },
   "outputs": [],
   "source": [
    "next_days = sp500[\"Close\"].iloc[1:]\n",
    "sp500 = sp500.iloc[0:sp500.shape[0] - 1]"
   ]
  },
  {
   "cell_type": "code",
   "execution_count": 8,
   "metadata": {
    "collapsed": false
   },
   "outputs": [
    {
     "data": {
      "text/plain": [
       "(7137, 6)"
      ]
     },
     "execution_count": 8,
     "metadata": {},
     "output_type": "execute_result"
    }
   ],
   "source": [
    "sp500.shape"
   ]
  },
  {
   "cell_type": "code",
   "execution_count": 9,
   "metadata": {
    "collapsed": false
   },
   "outputs": [],
   "source": [
    "sp500[\"next_day\"] = next_days.values"
   ]
  },
  {
   "cell_type": "code",
   "execution_count": 10,
   "metadata": {
    "collapsed": false
   },
   "outputs": [
    {
     "data": {
      "text/html": [
       "<div>\n",
       "<table border=\"1\" class=\"dataframe\">\n",
       "  <thead>\n",
       "    <tr style=\"text-align: right;\">\n",
       "      <th></th>\n",
       "      <th>Open</th>\n",
       "      <th>High</th>\n",
       "      <th>Low</th>\n",
       "      <th>Close</th>\n",
       "      <th>Volume</th>\n",
       "      <th>Adjusted Close</th>\n",
       "      <th>next_day</th>\n",
       "    </tr>\n",
       "    <tr>\n",
       "      <th>Date</th>\n",
       "      <th></th>\n",
       "      <th></th>\n",
       "      <th></th>\n",
       "      <th></th>\n",
       "      <th></th>\n",
       "      <th></th>\n",
       "      <th></th>\n",
       "    </tr>\n",
       "  </thead>\n",
       "  <tbody>\n",
       "    <tr>\n",
       "      <th>1988-01-04</th>\n",
       "      <td>256.019989</td>\n",
       "      <td>256.019989</td>\n",
       "      <td>256.019989</td>\n",
       "      <td>256.019989</td>\n",
       "      <td>0.0</td>\n",
       "      <td>256.019989</td>\n",
       "      <td>258.769989</td>\n",
       "    </tr>\n",
       "    <tr>\n",
       "      <th>1988-01-05</th>\n",
       "      <td>258.769989</td>\n",
       "      <td>258.769989</td>\n",
       "      <td>258.769989</td>\n",
       "      <td>258.769989</td>\n",
       "      <td>0.0</td>\n",
       "      <td>258.769989</td>\n",
       "      <td>259.029999</td>\n",
       "    </tr>\n",
       "  </tbody>\n",
       "</table>\n",
       "</div>"
      ],
      "text/plain": [
       "                  Open        High         Low       Close  Volume  \\\n",
       "Date                                                                 \n",
       "1988-01-04  256.019989  256.019989  256.019989  256.019989     0.0   \n",
       "1988-01-05  258.769989  258.769989  258.769989  258.769989     0.0   \n",
       "\n",
       "            Adjusted Close    next_day  \n",
       "Date                                    \n",
       "1988-01-04      256.019989  258.769989  \n",
       "1988-01-05      258.769989  259.029999  "
      ]
     },
     "execution_count": 10,
     "metadata": {},
     "output_type": "execute_result"
    }
   ],
   "source": [
    "sp500.head(2)"
   ]
  },
  {
   "cell_type": "code",
   "execution_count": 11,
   "metadata": {
    "collapsed": false
   },
   "outputs": [
    {
     "data": {
      "text/plain": [
       "Open              float64\n",
       "High              float64\n",
       "Low               float64\n",
       "Close             float64\n",
       "Volume            float64\n",
       "Adjusted Close    float64\n",
       "next_day          float64\n",
       "dtype: object"
      ]
     },
     "execution_count": 11,
     "metadata": {},
     "output_type": "execute_result"
    }
   ],
   "source": [
    "sp500.dtypes"
   ]
  },
  {
   "cell_type": "code",
   "execution_count": 18,
   "metadata": {
    "collapsed": false
   },
   "outputs": [],
   "source": [
    "sp500[\"Open\"] = sp500[\"Open\"].astype(float)\n",
    "sp500.rename(columns={'Close':'value'}, inplace = True)"
   ]
  },
  {
   "cell_type": "code",
   "execution_count": 36,
   "metadata": {
    "collapsed": false
   },
   "outputs": [
    {
     "name": "stdout",
     "output_type": "stream",
     "text": [
      "(7137,)\n",
      "[ 2391.72764887  1975.18760161   511.48645084 ...,   439.83952754\n",
      "  1918.09212958  1279.0704222 ]\n"
     ]
    }
   ],
   "source": [
    "regressor = LinearRegression()\n",
    "\n",
    "# We're using 'value' as a predictor, and making predictions for 'next_day'.\n",
    "# The predictors need to be in a dataframe.\n",
    "# We pass in a list when we select predictor columns from \"sp500\" to force pandas not to generate a series.\n",
    "predictors = sp500[[\"value\"]]\n",
    "to_predict = sp500[\"next_day\"]\n",
    "\n",
    "# Train the linear regression model on our dataset.\n",
    "regressor.fit(predictors, to_predict)\n",
    "\n",
    "# Generate a list of predictions with our trained linear regression model\n",
    "next_day_predictions = regressor.predict(predictors)\n",
    "print(next_day_predictions)"
   ]
  },
  {
   "cell_type": "code",
   "execution_count": 21,
   "metadata": {
    "collapsed": true
   },
   "outputs": [],
   "source": [
    "mse = sum((to_predict - next_day_predictions)**2)/len(to_predict)\n",
    "sse = mse*len(to_predict)"
   ]
  },
  {
   "cell_type": "code",
   "execution_count": 45,
   "metadata": {
    "collapsed": false
   },
   "outputs": [],
   "source": [
    "# Set a random seed to make the shuffle deterministic.\n",
    "np.random.seed(1)\n",
    "random.seed(1)\n",
    "# Randomly shuffle the rows in our dataframe\n",
    "sp500 = sp500.loc[np.random.permutation(sp500.index)]\n",
    "\n",
    "# Select 70% of the dataset to be training data\n",
    "highest_train_row = int(sp500.shape[0] * .7)\n",
    "train = sp500.iloc[:highest_train_row,:]\n",
    "\n",
    "# Select 30% of the dataset to be test data.\n",
    "test = sp500.iloc[highest_train_row:,:]\n",
    "regressor = LinearRegression()\n",
    "predictors = train[[\"value\"]]\n",
    "to_predict = train[\"next_day\"]\n",
    "\n",
    "regressor.fit(predictors, to_predict)\n",
    "next_day_predictions = regressor.predict(test[['value']])\n",
    "mse = sum((test['next_day'] - next_day_predictions)**2)/len(next_day_predictions)"
   ]
  },
  {
   "cell_type": "code",
   "execution_count": 52,
   "metadata": {
    "collapsed": false
   },
   "outputs": [
    {
     "data": {
      "image/png": "[encoded data removed]",
      "text/plain": [
       "<matplotlib.figure.Figure at 0xd4a5e30>"
      ]
     },
     "metadata": {},
     "output_type": "display_data"
    }
   ],
   "source": [
    "plt.scatter(test[\"value\"], test[\"next_day\"])\n",
    "plt.plot(test[\"value\"], regressor.predict(test[[\"value\"]]))\n",
    "plt.show()"
   ]
  }
 ],
 "metadata": {
  "kernelspec": {
   "display_name": "Python 3",
   "language": "python",
   "name": "python3"
  },
  "language_info": {
   "codemirror_mode": {
    "name": "ipython",
    "version": 3
   },
   "file_extension": ".py",
   "mimetype": "text/x-python",
   "name": "python",
   "nbconvert_exporter": "python",
   "pygments_lexer": "ipython3",
   "version": "3.5.1"
  }
 },
 "nbformat": 4,
 "nbformat_minor": 0
}
