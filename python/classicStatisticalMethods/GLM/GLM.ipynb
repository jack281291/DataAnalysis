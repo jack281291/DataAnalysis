{
 "cells": [
  {
   "cell_type": "markdown",
   "metadata": {},
   "source": [
    "## Poisson"
   ]
  },
  {
   "cell_type": "code",
   "execution_count": 86,
   "metadata": {
    "collapsed": true
   },
   "outputs": [],
   "source": [
    "import pandas as pd\n",
    "import numpy as np\n",
    "import statsmodels.api as sm\n",
    "from statsmodels.genmod.families import family, links\n",
    "import matplotlib\n",
    "%matplotlib inline"
   ]
  },
  {
   "cell_type": "code",
   "execution_count": 2,
   "metadata": {
    "collapsed": true
   },
   "outputs": [],
   "source": [
    "df = pd.read_csv(\"/home/antonio/Dropbox/DataAnalysis/python/dati/glass.data.csv\")"
   ]
  },
  {
   "cell_type": "code",
   "execution_count": 89,
   "metadata": {
    "collapsed": true
   },
   "outputs": [],
   "source": [
    "X = df.drop([\"Type of glass\",\"Id number\"],axis=1)\n",
    "y = df[\"Type of glass\"]"
   ]
  },
  {
   "cell_type": "code",
   "execution_count": 90,
   "metadata": {
    "collapsed": false
   },
   "outputs": [
    {
     "name": "stdout",
     "output_type": "stream",
     "text": [
      "                 Generalized Linear Model Regression Results                  \n",
      "==============================================================================\n",
      "Dep. Variable:          Type of glass   No. Observations:                  214\n",
      "Model:                            GLM   Df Residuals:                      205\n",
      "Model Family:                 Poisson   Df Model:                            8\n",
      "Link Function:                    log   Scale:                             1.0\n",
      "Method:                          IRLS   Log-Likelihood:                -336.30\n",
      "Date:                Sat, 21 Jan 2017   Deviance:                       94.499\n",
      "Time:                        17:45:37   Pearson chi2:                     107.\n",
      "No. Iterations:                     8                                         \n",
      "==============================================================================\n",
      "                 coef    std err          z      P>|z|      [95.0% Conf. Int.]\n",
      "------------------------------------------------------------------------------\n",
      "RI             4.1865     24.244      0.173      0.863       -43.330    51.703\n",
      "Na             0.0617      0.380      0.162      0.871        -0.683     0.806\n",
      "Mg            -0.3207      0.397     -0.807      0.420        -1.100     0.458\n",
      "Al             0.1959      0.349      0.561      0.575        -0.489     0.880\n",
      "Si            -0.0624      0.361     -0.173      0.863        -0.769     0.644\n",
      "K             -0.1049      0.396     -0.265      0.791        -0.881     0.671\n",
      "Ca            -0.1243      0.425     -0.293      0.770        -0.957     0.708\n",
      "Ba            -0.0168      0.427     -0.039      0.969        -0.853     0.820\n",
      "Fe            -0.5106      0.536     -0.953      0.340        -1.560     0.539\n",
      "==============================================================================\n"
     ]
    }
   ],
   "source": [
    "fam = family.Poisson()\n",
    "fam.link = links.log()\n",
    "\n",
    "mod1 = sm.GLM(y, X, family=fam)\n",
    "rslt1 = mod1.fit()\n",
    "print(rslt1.summary())"
   ]
  },
  {
   "cell_type": "code",
   "execution_count": 91,
   "metadata": {
    "collapsed": true
   },
   "outputs": [],
   "source": [
    "from sklearn.metrics import confusion_matrix, accuracy_score"
   ]
  },
  {
   "cell_type": "code",
   "execution_count": 92,
   "metadata": {
    "collapsed": false
   },
   "outputs": [
    {
     "data": {
      "text/plain": [
       "array([[ 6, 64,  0,  0,  0,  0,  0,  0],\n",
       "       [ 2, 63,  8,  3,  0,  0,  0,  0],\n",
       "       [ 0, 17,  0,  0,  0,  0,  0,  0],\n",
       "       [ 0,  0,  0,  0,  0,  0,  0,  0],\n",
       "       [ 0,  2,  3,  3,  2,  3,  0,  0],\n",
       "       [ 0,  0,  4,  2,  1,  1,  1,  0],\n",
       "       [ 0,  1,  2,  4,  0,  0, 11, 11],\n",
       "       [ 0,  0,  0,  0,  0,  0,  0,  0]])"
      ]
     },
     "execution_count": 92,
     "metadata": {},
     "output_type": "execute_result"
    }
   ],
   "source": [
    "confusion_matrix(df[\"Type of glass\"], a(rslt1.predict(X)))"
   ]
  },
  {
   "cell_type": "code",
   "execution_count": 93,
   "metadata": {
    "collapsed": false
   },
   "outputs": [
    {
     "data": {
      "text/plain": [
       "0.38785046728971961"
      ]
     },
     "execution_count": 93,
     "metadata": {},
     "output_type": "execute_result"
    }
   ],
   "source": [
    "accuracy_score(df[\"Type of glass\"], a(rslt1.predict(X)))"
   ]
  },
  {
   "cell_type": "code",
   "execution_count": 94,
   "metadata": {
    "collapsed": false
   },
   "outputs": [
    {
     "data": {
      "text/plain": [
       "0.98598130841121501"
      ]
     },
     "execution_count": 94,
     "metadata": {},
     "output_type": "execute_result"
    }
   ],
   "source": [
    "RandomForestClassifier().fit(X,y).score(X,y)"
   ]
  }
 ],
 "metadata": {
  "kernelspec": {
   "display_name": "Python 3",
   "language": "python",
   "name": "python3"
  },
  "language_info": {
   "codemirror_mode": {
    "name": "ipython",
    "version": 3
   },
   "file_extension": ".py",
   "mimetype": "text/x-python",
   "name": "python",
   "nbconvert_exporter": "python",
   "pygments_lexer": "ipython3",
   "version": "3.5.2"
  }
 },
 "nbformat": 4,
 "nbformat_minor": 2
}
