{
 "cells": [
  {
   "cell_type": "code",
   "execution_count": 1,
   "metadata": {
    "collapsed": true
   },
   "outputs": [],
   "source": [
    "import pandas as pd\n",
    "import numpy as np\n",
    "import quandl\n",
    "from sklearn.linear_model import LinearRegression\n",
    "import numpy as np\n",
    "import random\n",
    "import matplotlib.pyplot as plt\n",
    "%matplotlib inline"
   ]
  },
  {
   "cell_type": "code",
   "execution_count": 2,
   "metadata": {
    "collapsed": true
   },
   "outputs": [],
   "source": [
    "sp500 = quandl.get(\"YAHOO/SP500TR\", authtoken=\"cv7txpR8XhuYxMvfgHV2\")"
   ]
  },
  {
   "cell_type": "code",
   "execution_count": 4,
   "metadata": {
    "collapsed": false
   },
   "outputs": [],
   "source": [
    "# Set a random seed to make the shuffle deterministic.\n",
    "np.random.seed(1)\n",
    "random.seed(1)\n",
    "# Randomly shuffle the rows in our dataframe\n",
    "sp500 = sp500.loc[np.random.permutation(sp500.index)]\n",
    "\n",
    "# Select 70% of the dataset to be training data\n",
    "highest_train_row = int(sp500.shape[0] * .7)\n",
    "train = sp500.iloc[:highest_train_row,:]\n",
    "\n",
    "# Select 30% of the dataset to be test data.\n",
    "test = sp500.iloc[highest_train_row:,:]"
   ]
  },
  {
   "cell_type": "code",
   "execution_count": null,
   "metadata": {
    "collapsed": true
   },
   "outputs": [],
   "source": []
  }
 ],
 "metadata": {
  "kernelspec": {
   "display_name": "Python 3",
   "language": "python",
   "name": "python3"
  },
  "language_info": {
   "codemirror_mode": {
    "name": "ipython",
    "version": 3
   },
   "file_extension": ".py",
   "mimetype": "text/x-python",
   "name": "python",
   "nbconvert_exporter": "python",
   "pygments_lexer": "ipython3",
   "version": "3.5.1"
  }
 },
 "nbformat": 4,
 "nbformat_minor": 0
}
