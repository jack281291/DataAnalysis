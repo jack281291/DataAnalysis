{
 "cells": [
  {
   "cell_type": "markdown",
   "metadata": {
    "collapsed": false
   },
   "source": [
    "The Jupyter console, formerly known as IPython, is an enhanced Python interpreter. From our earlier missions, you may recall that by typing python on the command line, you get access to an interactive shell that lets you write and execute Python code. Jupyter console enhances this shell, and adds several niceties that make working with data easier.\n",
    "\n",
    "Generally, it's useful to use the shell in situations where you need to quickly test some code you're writing. This happens frequently when you're writing data analysis scripts. It can also be used to quickly explore datasets and do basic analysis. Another use case is prototyping code before later saving it to a script file.\n",
    "\n",
    "The main difference between Jupyter console and Jupyter notebook is that the console functions in interactive mode. Whenever you type a line of code, it is immediately executed, and you can see the results. If you want to write medium-length pieces of code or do deep exploration of a dataset, the notebook is better. If you want to test out code you're writing, or run quick commands, the console is better.\n",
    "\n",
    "The Jupyter project is in the midst of rebranding from IPython to Jupyter. Depending on the version of Jupyter you have installed, you can access the console by typing either jupyter console or ipython at the command line."
   ]
  },
  {
   "cell_type": "markdown",
   "metadata": {},
   "source": [
    "Jupyter console has a robust built-in help system. You can get help in several ways:\n",
    "\n",
    "    You can type ? after starting the console. This will display help about Jupyter. You can exit by typing q.\n",
    "    You can type %quickref. This is a magic that will tell you some useful commands. We'll talk more about Jupyter magics shortly.\n",
    "    If you want information about a variable, just type the name of the variable, followed by ?. For information on the dq variable, you'd type dq?.\n",
    "    Type help() to get access to Python help. This will enable you to get help on all the modules and functions currently available. You can quit by typing quit.\n",
    "    If you want to use the Python help system to get information on a variable, type help(variable_name). If you wanted help with the variable dq, you'd type help(dq)."
   ]
  },
  {
   "cell_type": "markdown",
   "metadata": {},
   "source": [
    "You may have used the %quickref Jupyter magic in the last screen. Magics are special Jupyter commands that always start with %. They enable you to access Jupyter-specific functionality, without Python executing your commands.\n",
    "\n",
    "Some useful magics are:\n",
    "\n",
    "    %run -- allows you to run an external Python script. Any variables in the script will be stored in the current kernel session.\n",
    "    %edit -- opens a file editor. Any code you type into the editor will be executed by Jupyter when you exit the editor.\n",
    "    %debug -- if there's an error in any of your code, running %debug afterwards will open an interactive debugger you can use to trace the error.\n",
    "    %history -- shows you the last few commands you ran.\n",
    "    %save -- saves the last few commands you ran to a file.\n",
    "    %who -- print all the variables in the session.\n",
    "    %reset -- resets the session, and removes all stored variables.\n",
    "\n",
    "Here all the magics: http://ipython.readthedocs.io/en/stable/interactive/magics.html"
   ]
  },
  {
   "cell_type": "markdown",
   "metadata": {},
   "source": [
    "You can run shell commands in Jupyter console. Just prefix your shell commands with an exclamation point(!). Running !ls in Jupyter will show the contents of the current directory.\n",
    "\n",
    "This can be useful when you want to quickly inspect a file or check on the contents of a folder."
   ]
  },
  {
   "cell_type": "markdown",
   "metadata": {},
   "source": [
    "You'll often want to paste code into Jupyter console to see if it runs properly. Because of how Python handles indentation, nested for loops, functions, and if statements will fail if you just copy and paste them in.\n",
    "\n",
    "In order to paste in code with indents, you'll need to use paste magics:\n",
    "\n",
    "    %cpaste -- opens a special editing area where you can paste in code normally, without whitespace being a problem. You can type -- alone on a line to exit. After you exit, any code you pasted in will be immediately executed.\n",
    "    %paste -- takes code from your clipboard and runs it in Jupyter. This doesn't work on remote systems, where Jupyter doesn't have access to your clipboard.\n"
   ]
  }
 ],
 "metadata": {
  "kernelspec": {
   "display_name": "Python 2 (SageMath)",
   "language": "python",
   "name": "python2"
  },
  "language_info": {
   "codemirror_mode": {
    "name": "ipython",
    "version": 2
   },
   "file_extension": ".py",
   "mimetype": "text/x-python",
   "name": "python",
   "nbconvert_exporter": "python",
   "pygments_lexer": "ipython2",
   "version": "2.7.10"
  }
 },
 "nbformat": 4,
 "nbformat_minor": 0
}
