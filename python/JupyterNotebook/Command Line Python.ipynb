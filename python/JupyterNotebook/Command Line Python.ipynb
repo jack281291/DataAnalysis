{
 "cells": [
  {
   "cell_type": "markdown",
   "metadata": {},
   "source": [
    "We looked at the command line Python interpreter in the last mission. The interpreter lets you run Python commands and see their results immediately. It's very useful for quickly testing snippets of code and debugging. But it's not a good way to develop Python programs, because the commands aren't saved anywhere.\n",
    "\n",
    "In order to develop Python programs, we'll need to make files containing Python code. We'll then be able to use the interpreter to run them from the command line. This way, we can save all our commands, but still see what's happening.\n",
    "\n",
    "This is a very common way to develop using Python -- use an IDE or text editor to create Python files, then run them from the command line.\n",
    "\n",
    "In order to make a file that Python can execute on the command line, we'll need to add some lines to a blank file:\n",
    "\n",
    "if __name__ == \"__main__\":\n",
    "\n",
    "    print(\"Welcome to a Python script\")\n",
    "\n",
    "The code above will print Welcome to a Python script when it's run from the command line. To run it, we just need to put those lines into a file, and then call it with python file.py (assuming the file is called file.py).\n",
    "\n",
    "This works because the __name__ variable in Python scripts is automatically set to the name of the module. If the module is being run from the command line, it will be set to __main__. Checking this allows us to tell if a script is being run from the command line or not."
   ]
  },
  {
   "cell_type": "code",
   "execution_count": 3,
   "metadata": {
    "collapsed": false
   },
   "outputs": [],
   "source": [
    "%%bash\n",
    "touch script.py"
   ]
  },
  {
   "cell_type": "code",
   "execution_count": 4,
   "metadata": {
    "collapsed": false
   },
   "outputs": [
    {
     "name": "stdout",
     "output_type": "stream",
     "text": [
      "\u001b)0\u001b7\u001b[?47h\u001b[1;24r\u001b[m\u001b[4l\u001b[?1h\u001b=\u001b[?1h\u001b=\u001b[?1h\u001b=\u001b[m\u001b[m\u001b[m\u001b[H\u001b[2J\u001b[7m  GNU nano 2.4.2              File: script.py                                   \u001b[22;33H[ Read 0 lines ]\r",
      "\u001b[1B^G\u001b[m Get Help  \u001b[7m^O\u001b[m Write Out \u001b[7m^W\u001b[m Where Is  \u001b[7m^K\u001b[m Cut Text  \u001b[7m^J\u001b[m Justify   \u001b[7m^C\u001b[m Cur Pos\r",
      "\u001b[1B\u001b[7m^X\u001b[m Exit\u001b[6C\u001b[7m^R\u001b[m Read File \u001b[7m^\\\u001b[m Replace   \u001b[7m^U\u001b[m Uncut Text\u001b[7m^T\u001b[m To Linter \u001b[7m^_\u001b[m Go To Line\r",
      "\u001b[21A\u001b[24;1H\u001b[2J\u001b[?47l\u001b8\r",
      "\u001b[?1l\u001b>"
     ]
    },
    {
     "name": "stderr",
     "output_type": "stream",
     "text": [
      "Received SIGHUP or SIGTERM\n"
     ]
    }
   ],
   "source": [
    "%%bash\n",
    "nano script.py"
   ]
  },
  {
   "cell_type": "markdown",
   "metadata": {},
   "source": [
    "Modify the file in order to have if name... and call it using python script.py"
   ]
  },
  {
   "cell_type": "markdown",
   "metadata": {},
   "source": [
    "Packages are an important way to extend the functionality of Python. We've worked with packages like matplotlib and pandas. The best way to install packages is to use the command line, and a program called pip. The newest versions of Python include pip by default, so installing Python will automatically give you access to pip.\n",
    "\n",
    "In order to install a package with pip, we just use pip install. pip install requests will install the requests package, which can be used to interact with websites and APIs."
   ]
  },
  {
   "cell_type": "markdown",
   "metadata": {},
   "source": [
    "In the previous screen, we used the default version of pip, which installed requests for the python executable, which is Python version 2.\n",
    "\n",
    "What if we had instead wanted to install requests for Python 3? This type of version switching can get confusing, and different projects can require different packages and Python versions. A nice way to avoid issues with different package versions are virtual environments. By default, the system has one python executable, and you have to install all packages and libraries globally. This means that every single project on your machine has to use the same version of Python, and the same versions of every package.\n",
    "\n",
    "By default, you can't use different versions of Python without some hacks. One such hack is renaming python to python3 so we can have access to both Python 2 and Python 3.\n",
    "\n",
    "A better solution for this is for each project we write to have its own version of Python, along with its own packages. This way, we don't need to worry that upgrading the version of a package will affect other projects on the system and cause them to stop working.\n",
    "\n",
    "Virtual environments, or virtualenvs, let us do this. You can create a new virtualenv with the virtualenv command. In order to access this, you normally have to install the virtualenv package, but we've already installed it to simplify the process.\n",
    "\n",
    "Typing virtualenv main will create a virtualenv named main. It will create a folder in the current directory called main that will hold all the packages you install into the virtual environment."
   ]
  },
  {
   "cell_type": "code",
   "execution_count": null,
   "metadata": {
    "collapsed": true
   },
   "outputs": [],
   "source": [
    "virtualenv main #it makes a new enviroment called main and create a folder"
   ]
  },
  {
   "cell_type": "markdown",
   "metadata": {},
   "source": [
    "By default, virtualenv will use the python executable when it makes a new virtualenv, which means that it has the same version of Python as the system. In this case, we want to use python3 instead for our virtualenv. In order to do this, we pass the -p flag to the virtualenv command, which will allow us to change the Python interpreter that virtualenv uses.\n",
    "\n",
    "In this case, we can type virtualenv -p /usr/bin/python3 python3 to use Python 3 instead of Python 2."
   ]
  },
  {
   "cell_type": "code",
   "execution_count": null,
   "metadata": {
    "collapsed": true
   },
   "outputs": [],
   "source": [
    "virtualenv -p path/python3 python3"
   ]
  },
  {
   "cell_type": "markdown",
   "metadata": {},
   "source": [
    "Once a virtualenv is created, you can activate it using source python3/bin/activate (this assumes that the virtualenv is called python3, and the folder for the virtualenv is in our current directory).\n",
    "\n",
    "When a virtualenv is activated, the Python version and packages installed in the virtualenv will become the default Python version and packages when you type python."
   ]
  },
  {
   "cell_type": "code",
   "execution_count": null,
   "metadata": {
    "collapsed": true
   },
   "outputs": [],
   "source": [
    "python3/bin/activate"
   ]
  },
  {
   "cell_type": "markdown",
   "metadata": {},
   "source": [
    "You can check the version of Python you're using with python -V. You can check which packages are currently installed and their versions with pip freeze. If you activate a virtualenv, all the packages, including pip, will be from the virtualenv instead of the main system Python executable."
   ]
  },
  {
   "cell_type": "code",
   "execution_count": 6,
   "metadata": {
    "collapsed": false
   },
   "outputs": [
    {
     "name": "stdout",
     "output_type": "stream",
     "text": [
      "APLpy==1.0\n",
      "argh==0.26.1\n",
      "astropy==1.1.post2\n",
      "autobahn==0.9.6\n",
      "Babel==1.3\n",
      "backports-abc==0.4\n",
      "backports.ssl-match-hostname==3.5.0.1\n",
      "basemap==1.0.8\n",
      "bayespy==0.3.6\n",
      "beautifulsoup4==4.4.1\n",
      "biopython==1.66\n",
      "bitarray==0.8.1\n",
      "blinker==1.4\n",
      "bokeh==0.10.0\n",
      "boto==2.38.0\n",
      "brewer2mpl==1.4.1\n",
      "certifi==2015.11.20.1\n",
      "cffi==1.4.2\n",
      "characteristic==14.3.0\n",
      "Charm-Crypto==0.0.0\n",
      "clawpack==5.3.1\n",
      "cloudpickle==0.1.1\n",
      "colorpy==0.1.1\n",
      "configparser==3.3.0.post2\n",
      "control==0.7.0\n",
      "cryptography==1.1.2\n",
      "CryptoPlus==1.0\n",
      "cvxopt==1.1.7\n",
      "cycler==0.9.0\n",
      "Cython==0.23.3\n",
      "datasift==2.6.0\n",
      "decorator==4.0.6\n",
      "docutils==0.12\n",
      "doit==0.29.0\n",
      "dot2tex==2.9.0\n",
      "enum34==1.1.2\n",
      "ez-setup==0.9\n",
      "Fabric==1.10.2\n",
      "filterpy==0.1.0\n",
      "FiPy==3.1\n",
      "Flask==0.10.1\n",
      "Flask-AutoIndex==0.5\n",
      "Flask-Babel==0.9\n",
      "Flask-OldSessions==0.10\n",
      "Flask-OpenID==1.2.4\n",
      "Flask-Silk==0.2\n",
      "folium==0.1.6\n",
      "funcsigs==0.4\n",
      "functools32==3.2.3.post2\n",
      "futures==3.0.3\n",
      "FXrays==1.3.1\n",
      "gambit==14.1.0\n",
      "GDAL==2.0.1\n",
      "ggplot==0.6.8\n",
      "ghp-import2==1.0.0\n",
      "gmpy2==2.0.7\n",
      "gnuplot-py==1.8\n",
      "goslate==1.5.0\n",
      "greenlet==0.4.9\n",
      "guppy==0.1.10\n",
      "h5py==2.5.0\n",
      "holoviews==1.4.2\n",
      "husl==4.0.3\n",
      "idna==2.0\n",
      "ipaddress==1.0.16\n",
      "ipykernel==4.2.1\n",
      "ipython==4.0.1\n",
      "ipython-genutils==0.1.0\n",
      "ipythonblocks==1.7.0\n",
      "ipywidgets==4.0.2\n",
      "itsdangerous==0.24\n",
      "Jinja2==2.8\n",
      "joblib==0.9.3\n",
      "JSAnimation==0.1\n",
      "jsonschema==2.5.1\n",
      "jupyter-client==4.1.1\n",
      "jupyter-core==4.0.6\n",
      "line-profiler==1.0\n",
      "llvmlite==0.8.0\n",
      "Logbook==0.12.3\n",
      "lxml==3.5.0\n",
      "mahotas==1.4.1\n",
      "Mako==1.0.3\n",
      "Markdown==2.6.5\n",
      "markdown2==2.3.1\n",
      "MarkupSafe==0.23\n",
      "matplotlib==1.5.0\n",
      "mercurial==3.6.2\n",
      "metakernel==0.11.8\n",
      "micawber==0.3.3\n",
      "mistune==0.7.1\n",
      "mmh3==2.3.1\n",
      "mpld3==0.2\n",
      "mpmath==0.18\n",
      "mrjob==0.4.6\n",
      "munkres==1.0.7\n",
      "mygene==2.3.0\n",
      "MySQL-python==1.2.5\n",
      "natsort==4.0.4\n",
      "nbconvert==4.1.0\n",
      "nbformat==4.0.1\n",
      "ndg-httpsclient==0.4.0\n",
      "netCDF4==1.2.1\n",
      "networkx==1.10\n",
      "Nikola==7.7.4\n",
      "nltk==3.1\n",
      "nose==1.3.7\n",
      "notebook==4.0.6\n",
      "numba==0.22.1\n",
      "numexpr==2.4.6\n",
      "numpy==1.10.1\n",
      "NZMATH==1.1.0\n",
      "oct2py==3.3.3\n",
      "octave-kernel==0.14.3\n",
      "ore-algebra==0.2\n",
      "pandas==0.18.1\n",
      "pandas-datareader==0.2.1\n",
      "pandasql==0.6.3\n",
      "param==1.3.2\n",
      "paramiko==1.16.0\n",
      "path.py==8.1.2\n",
      "pathtools==0.1.2\n",
      "patsy==0.4.1\n",
      "Pattern==2.6\n",
      "pdfminer==20140328\n",
      "periodictable==1.4.1\n",
      "pexpect==4.0.1\n",
      "phpserialize==1.3\n",
      "pickleshare==0.5\n",
      "Pillow==3.0.0\n",
      "Pint==0.6\n",
      "pkgconfig==1.1.0\n",
      "plink==1.8\n",
      "plotly==1.9.3\n",
      "progressbar==2.3\n",
      "psage==2011.1.6\n",
      "psutil==3.3.0\n",
      "psycopg2==2.6.1\n",
      "ptyprocess==0.5\n",
      "pyasn1==0.1.9\n",
      "pybtex==0.19\n",
      "pycparser==2.14\n",
      "pycrypto==2.6.1\n",
      "pydelay==0.1.1\n",
      "PyDSTool==0.90.2\n",
      "pygal==2.0.12\n",
      "Pygments==2.0.2\n",
      "pygsl==2.1.1\n",
      "pyinotify==0.9.6\n",
      "pymongo==3.2\n",
      "pyOpenSSL==0.15.1\n",
      "pyparsing==2.0.6\n",
      "Pyphen==0.9.2\n",
      "pyproj==1.9.4\n",
      "PyRSS2Gen==1.1\n",
      "PySAL==1.10.0\n",
      "pystan==2.8.0.2\n",
      "python-dateutil==2.5.3\n",
      "python-igraph==0.7.1.post6\n",
      "python-openid==2.2.5\n",
      "pytz==2016.4\n",
      "PyYAML==3.11\n",
      "pyzmq==15.1.0\n",
      "QuantLib-Python==1.8\n",
      "qutip==3.1.0\n",
      "redis==2.10.5\n",
      "reproject==0.2\n",
      "requests==2.9.1\n",
      "requests-futures==0.9.5\n",
      "rethinkdb==2.2.0.post2\n",
      "rpy2==2.7.6\n",
      "sage==6.10\n",
      "sagenb==0.11.4\n",
      "sagetex==2.3.4\n",
      "scikit-image==0.11.3\n",
      "scikit-learn==0.17\n",
      "scikits.bootstrap==0.3.2\n",
      "scipy==0.16.1\n",
      "seaborn==0.6.0\n",
      "service-identity==14.0.0\n",
      "setuptools-scm==1.7.0\n",
      "Shapely==1.5.13\n",
      "simplegeneric==0.8.1\n",
      "simpy==3.0.8\n",
      "singledispatch==3.4.0.3\n",
      "six==1.10.0\n",
      "smartypants==1.8.6\n",
      "smc-sagews==1.0\n",
      "snappy==2.3.2\n",
      "speaklater==1.3\n",
      "spherogram==1.4.1\n",
      "Sphinx==1.2.2\n",
      "statsmodels==0.6.1\n",
      "sympy==0.7.6.1\n",
      "tables==3.2.2\n",
      "tabulate==0.7.5\n",
      "terminado==0.5\n",
      "Theano==0.7.0\n",
      "tinyarray==1.1.0\n",
      "tornado==4.3\n",
      "traitlets==4.0.0\n",
      "Twisted==14.0.2\n",
      "twitter==1.17.1\n",
      "txaio==2.2.0\n",
      "typogrify==2.0.7\n",
      "Unidecode==0.4.18\n",
      "watchdog==0.8.3\n",
      "wcsaxes==0.6\n",
      "webassets==0.11.1\n",
      "Werkzeug==0.9.6\n",
      "ws4py==0.3.4\n",
      "xlrd==0.9.4\n",
      "xlwt==1.0.0\n",
      "Yapsy==1.11.223\n",
      "zope.interface==4.1.2\n"
     ]
    },
    {
     "name": "stderr",
     "output_type": "stream",
     "text": [
      "Python 2.7.10\n"
     ]
    }
   ],
   "source": [
    "%%bash\n",
    "python -V\n",
    "pip freeze"
   ]
  },
  {
   "cell_type": "markdown",
   "metadata": {},
   "source": [
    "One of the great things about Python is that we can import functions from one package into a file. We can also import functions and classes from one file into another file. This gives us a powerful way to structure larger projects without having to put everything into one file.\n",
    "\n",
    "We'll experiment with this style of import by writing a function in a file, and then importing it from another file.\n",
    "\n",
    "If there's a file named utils.py, we can import it from another file in the same directory using import utils. All the functions and classes defined in utils.py will then be available using dot notation. If there's a function called keep_time in utils.py, we can access it with utils.keep_time() after importing it."
   ]
  },
  {
   "cell_type": "code",
   "execution_count": null,
   "metadata": {
    "collapsed": true
   },
   "outputs": [],
   "source": [
    "touch utils.py\n",
    "nano utils.py\n",
    "nano script.py #import utils\n",
    "python script.py"
   ]
  },
  {
   "cell_type": "markdown",
   "metadata": {},
   "source": [
    "You can also pass command line options into Python scripts. They can be retrieved inside the script using the sys package. The argv list allows you to retrieve the positional arguments passed into the script. We learned about positional arguments in the last mission -- they are any arguments that come after the command name. An example is python script.py 82. The first positional argument is script.py, and the second is 82.\n",
    "\n",
    "import sys\n",
    "\n",
    "if __name__ == \"__main__\":\n",
    "    print(sys.argv[1])\n",
    "\n",
    "The above code will read input from the command line, and print it back out. If the code is saved to script.py, you'd call python script.py \"Hello from the command line\" to pass in the text you want displayed.\n",
    "\n",
    "You'll notice that we print the second item in the argv list (sys.argv[1]). This is because the arguments start after the python command, so the first argument is the name of the file we want to run. The second argument is the actual text that we want to print."
   ]
  },
  {
   "cell_type": "code",
   "execution_count": null,
   "metadata": {
    "collapsed": true
   },
   "outputs": [],
   "source": [
    "nano script.py # import sys if name == 'main':print(sys.argv[1])\n",
    "python script.py 'Hello World'"
   ]
  },
  {
   "cell_type": "markdown",
   "metadata": {},
   "source": [
    "When you want to switch a virtualenv off so you can move to a different project, you can deactivate it with the deactivate command. You don't have to pass in the virtualenv name to the deactivate command -- just typing deactivate will deactivate the current virtualenv."
   ]
  }
 ],
 "metadata": {
  "kernelspec": {
   "display_name": "Python 2 (SageMath)",
   "language": "python",
   "name": "python2"
  },
  "language_info": {
   "codemirror_mode": {
    "name": "ipython",
    "version": 2
   },
   "file_extension": ".py",
   "mimetype": "text/x-python",
   "name": "python",
   "nbconvert_exporter": "python",
   "pygments_lexer": "ipython2",
   "version": "2.7.10"
  }
 },
 "nbformat": 4,
 "nbformat_minor": 0
}
