{
 "cells": [
  {
   "cell_type": "markdown",
   "metadata": {
    "collapsed": false
   },
   "source": [
    "# Bash"
   ]
  },
  {
   "cell_type": "markdown",
   "metadata": {},
   "source": [
    "Current folder:"
   ]
  },
  {
   "cell_type": "code",
   "execution_count": 30,
   "metadata": {
    "collapsed": false
   },
   "outputs": [
    {
     "name": "stdout",
     "output_type": "stream",
     "text": [
      "/projects/79ef3d4c-3fb6-4a01-9fcb-203a13a7f17e/notebook\n"
     ]
    }
   ],
   "source": [
    "%%bash\n",
    "pwd"
   ]
  },
  {
   "cell_type": "markdown",
   "metadata": {},
   "source": [
    "Files are stored in directories. Each directory can have subdirectories or files inside of it. A special directory is the root directory, or /. This will navigate to the root of the filesystem. We can use the cd command to switch directories. You can type cd / to switch to the root directory."
   ]
  },
  {
   "cell_type": "code",
   "execution_count": 31,
   "metadata": {
    "collapsed": true
   },
   "outputs": [],
   "source": [
    "%%bash\n",
    "cd /"
   ]
  },
  {
   "cell_type": "markdown",
   "metadata": {},
   "source": [
    "\n",
    "When you typed /, it switched to the root directory. Any path that starts with / is an absolute path. An absolute path is in relation to the root of the filesystem. No matter what folder you're in, typing cd /home/dq will switch to the dq folder, inside the home folder, which is at the root of the filesystem.\n",
    "\n",
    "On the other hand, relative paths are relative to the directory you're in. These don't start with a forward slash. If you're in the home folder, typing cd dq will move you to /home/dq. However, if you're in the root (/) of the filesystem, typing cd dq will cause an error because the dq folder doesn't exist at the root of the filesystem -- it's inside the home folder."
   ]
  },
  {
   "cell_type": "code",
   "execution_count": 32,
   "metadata": {
    "collapsed": false
   },
   "outputs": [
    {
     "name": "stdout",
     "output_type": "stream",
     "text": [
      "/projects\n"
     ]
    }
   ],
   "source": [
    "cd /projects/"
   ]
  },
  {
   "cell_type": "code",
   "execution_count": 33,
   "metadata": {
    "collapsed": false
   },
   "outputs": [
    {
     "name": "stdout",
     "output_type": "stream",
     "text": [
      "/projects\n"
     ]
    }
   ],
   "source": [
    "%%bash\n",
    "pwd"
   ]
  },
  {
   "cell_type": "code",
   "execution_count": 34,
   "metadata": {
    "collapsed": false
   },
   "outputs": [
    {
     "name": "stdout",
     "output_type": "stream",
     "text": [
      "/projects/79ef3d4c-3fb6-4a01-9fcb-203a13a7f17e/notebook\n"
     ]
    }
   ],
   "source": [
    "cd 79ef3d4c-3fb6-4a01-9fcb-203a13a7f17e/notebook"
   ]
  },
  {
   "cell_type": "code",
   "execution_count": 35,
   "metadata": {
    "collapsed": false
   },
   "outputs": [
    {
     "name": "stdout",
     "output_type": "stream",
     "text": [
      "/projects/79ef3d4c-3fb6-4a01-9fcb-203a13a7f17e/notebook\n"
     ]
    }
   ],
   "source": [
    "%%bash\n",
    "pwd"
   ]
  },
  {
   "cell_type": "markdown",
   "metadata": {},
   "source": [
    "Most popular operating systems have a concept of users. Users have certain permissions within the system, and can create their own files, and run their own programs. Users can restrict other users from accessing their files and running programs.\n",
    "We can check which user we are using the whoami command.\n"
   ]
  },
  {
   "cell_type": "code",
   "execution_count": 36,
   "metadata": {
    "collapsed": false
   },
   "outputs": [
    {
     "name": "stdout",
     "output_type": "stream",
     "text": [
      "79ef3d4c3fb64a019fcb203a13a7f17e\n"
     ]
    }
   ],
   "source": [
    "%%bash\n",
    "whoami"
   ]
  },
  {
   "cell_type": "markdown",
   "metadata": {},
   "source": [
    "Every user has a home directory, where they can add files specific to their user. Every home directory is at /home. A shortcut for referring to the home directory is ~. Typing cd ~ will automatically take you to the current user's home directory.\n"
   ]
  },
  {
   "cell_type": "code",
   "execution_count": 37,
   "metadata": {
    "collapsed": false
   },
   "outputs": [
    {
     "name": "stdout",
     "output_type": "stream",
     "text": [
      "/projects/79ef3d4c-3fb6-4a01-9fcb-203a13a7f17e\n"
     ]
    }
   ],
   "source": [
    "cd ~"
   ]
  },
  {
   "cell_type": "code",
   "execution_count": 38,
   "metadata": {
    "collapsed": false
   },
   "outputs": [
    {
     "name": "stdout",
     "output_type": "stream",
     "text": [
      "/projects/79ef3d4c-3fb6-4a01-9fcb-203a13a7f17e\n"
     ]
    }
   ],
   "source": [
    "%%bash \n",
    "pwd"
   ]
  },
  {
   "cell_type": "markdown",
   "metadata": {},
   "source": [
    "We can create files and directories with the terminal. We'll explore making a directory first. We can make directories with the mkdir command. We just have to type mkdir test to make a directory called test. Note that rules about absolute and relative paths apply here, and in almost every command involving paths. If you type mkdir test it will make a directory called test in the current folder, because it's a relative path. If you type mkdir /home/dq/test it will make a folder called test inside the /home/dq folder, because it's an absolute path."
   ]
  },
  {
   "cell_type": "code",
   "execution_count": 41,
   "metadata": {
    "collapsed": false
   },
   "outputs": [],
   "source": [
    "%%bash\n",
    "mkdir test"
   ]
  },
  {
   "cell_type": "code",
   "execution_count": 42,
   "metadata": {
    "collapsed": false
   },
   "outputs": [
    {
     "name": "stdout",
     "output_type": "stream",
     "text": [
      "notebook\n",
      "test\n"
     ]
    }
   ],
   "source": [
    "%%bash \n",
    "ls"
   ]
  },
  {
   "cell_type": "markdown",
   "metadata": {
    "collapsed": true
   },
   "source": [
    "Commands have options that can modify their behavior. We specify these options by adding them, preceded by one dash, after we invoke the command.\n",
    "\n",
    "For example, adding the -v option after the mkdir command will turn on \"verbose\" mode, and print output when it makes the folder."
   ]
  },
  {
   "cell_type": "code",
   "execution_count": 43,
   "metadata": {
    "collapsed": false
   },
   "outputs": [
    {
     "name": "stdout",
     "output_type": "stream",
     "text": [
      "mkdir: created directory ‘test2’\n"
     ]
    }
   ],
   "source": [
    "%%bash\n",
    "mkdir -v test2"
   ]
  },
  {
   "cell_type": "markdown",
   "metadata": {},
   "source": [
    "Most commands will let you use the --help flag to understand what all the possible options are. A flag comes after a command. When you use the --help flag, you don't need to specify a directory."
   ]
  },
  {
   "cell_type": "code",
   "execution_count": 45,
   "metadata": {
    "collapsed": false
   },
   "outputs": [
    {
     "name": "stdout",
     "output_type": "stream",
     "text": [
      "Usage: mkdir [OPTION]... DIRECTORY...\n",
      "Create the DIRECTORY(ies), if they do not already exist.\n",
      "\n",
      "Mandatory arguments to long options are mandatory for short options too.\n",
      "  -m, --mode=MODE   set file mode (as in chmod), not a=rwx - umask\n",
      "  -p, --parents     no error if existing, make parent directories as needed\n",
      "  -v, --verbose     print a message for each created directory\n",
      "  -Z                   set SELinux security context of each created directory\n",
      "                         to the default type\n",
      "      --context[=CTX]  like -Z, or if CTX is specified then set the SELinux\n",
      "                         or SMACK security context to CTX\n",
      "      --help     display this help and exit\n",
      "      --version  output version information and exit\n",
      "\n",
      "GNU coreutils online help: <http://www.gnu.org/software/coreutils/>\n",
      "Full documentation at: <http://www.gnu.org/software/coreutils/mkdir>\n",
      "or available locally via: info '(coreutils) mkdir invocation'\n"
     ]
    }
   ],
   "source": [
    "%%bash\n",
    "mkdir --help"
   ]
  },
  {
   "cell_type": "markdown",
   "metadata": {},
   "source": [
    "Now that we've made a couple of directories, let's see what's in our home folder. We can use the ls command for this. It lists all the files and folders in a directory. If we pass in the -l option, it will print a nicely formatted table of everything."
   ]
  },
  {
   "cell_type": "code",
   "execution_count": 46,
   "metadata": {
    "collapsed": false
   },
   "outputs": [
    {
     "name": "stdout",
     "output_type": "stream",
     "text": [
      "notebook\n",
      "test\n",
      "test2\n"
     ]
    }
   ],
   "source": [
    "%%bash\n",
    "ls"
   ]
  },
  {
   "cell_type": "code",
   "execution_count": 47,
   "metadata": {
    "collapsed": false
   },
   "outputs": [
    {
     "name": "stdout",
     "output_type": "stream",
     "text": [
      "total 12\r\n",
      "drwxr-x--- 4 79ef3d4c3fb64a019fcb203a13a7f17e 79ef3d4c3fb64a019fcb203a13a7f17e 4096 May 27 08:14 \u001b[0m\u001b[01;34mnotebook\u001b[0m/\r\n",
      "drwxr-x--- 2 79ef3d4c3fb64a019fcb203a13a7f17e 79ef3d4c3fb64a019fcb203a13a7f17e 4096 May 27 08:06 \u001b[01;34mtest\u001b[0m/\r\n",
      "drwxr-x--- 2 79ef3d4c3fb64a019fcb203a13a7f17e 79ef3d4c3fb64a019fcb203a13a7f17e 4096 May 27 08:11 \u001b[01;34mtest2\u001b[0m/\r\n"
     ]
    }
   ],
   "source": [
    "ls -l"
   ]
  },
  {
   "cell_type": "markdown",
   "metadata": {},
   "source": [
    "There's two directories, test and test2. Let's clean up the clutter by removing a directory. We can use the rmdir command to delete a directory."
   ]
  },
  {
   "cell_type": "code",
   "execution_count": 48,
   "metadata": {
    "collapsed": false
   },
   "outputs": [
    {
     "name": "stdout",
     "output_type": "stream",
     "text": [
      "total 8\n",
      "drwxr-x--- 4 79ef3d4c3fb64a019fcb203a13a7f17e 79ef3d4c3fb64a019fcb203a13a7f17e 4096 May 27 08:15 notebook\n",
      "drwxr-x--- 2 79ef3d4c3fb64a019fcb203a13a7f17e 79ef3d4c3fb64a019fcb203a13a7f17e 4096 May 27 08:06 test\n"
     ]
    }
   ],
   "source": [
    "%%bash\n",
    "rmdir test2\n",
    "ls -l"
   ]
  },
  {
   "cell_type": "markdown",
   "metadata": {},
   "source": [
    "We explored directories and looked at files in the last mission. In this mission, we'll look more closely at files, and how to interact with them.\n",
    "\n",
    "The first step in this process is creating a file. We can create files in several ways, but one is the touch command. This will create an empty file with a given name. touch file.txt will create a new file called file.txt in the current directory. We can later open the file and edit it if we want.\n",
    "\n",
    "Touch can also be used to update the date that a file was last accessed if we have a need to change that time."
   ]
  },
  {
   "cell_type": "code",
   "execution_count": 1,
   "metadata": {
    "collapsed": true
   },
   "outputs": [],
   "source": [
    "%%bash\n",
    "touch file.txt"
   ]
  },
  {
   "cell_type": "markdown",
   "metadata": {},
   "source": [
    "Now that you created the file.txt file, you can add text to it in a few different ways. The first is the echo command. The echo command will just print whatever you tell it to as output. If you type echo \"Dataquest is awesome\", it will print Dataquest is awesome.\n",
    "\n",
    "This text is printed into a stream called standard output, or stdout. Every program writes to standard output, and gets input through standard input (stdin). Whenever a program has an error while running, it writes the error message to standard error (stderr). These standard streams are how output is shown to you in the terminal, and how you enter input.\n",
    "\n",
    "Usually, stdout and stderr are shown on the monitor, and stdin is the input from the keyboard. In this case, echo is taking a string from stdin, and printing that string to stdout. By default, we see the message that is printed to stdout, because it shows on the monitor.\n",
    "\n",
    "The reason for stdout, stderr, and stdin is that the standard streams allow the interfaces to be abstract. A program doesn't need to care if it's getting input from a keyboard, from a file, or from somewhere else. A program also doesn't need to care if it's outputting to the display, to a file, or to somewhere else. The standard streams allow us to hook up various inputs and outputs to programs without the programs having to worry about what those inputs and outputs are."
   ]
  },
  {
   "cell_type": "code",
   "execution_count": 3,
   "metadata": {
    "collapsed": false
   },
   "outputs": [
    {
     "name": "stdout",
     "output_type": "stream",
     "text": [
      "hi\n"
     ]
    }
   ],
   "source": [
    "%%bash\n",
    "echo 'hi'"
   ]
  },
  {
   "cell_type": "markdown",
   "metadata": {},
   "source": [
    "We can redirect standard streams in order to connect them to different sources. One example is that we can connect stdout to a file. After doing this, the program it's connected to will write to a file instead of the screen.\n",
    "\n",
    "To redirect, we use the greater than sign (>). For example, echo \"Dataquest is awesome\" > dataquest.txt will write Dataquest is awesome to stdout, then redirect stdout to the file dataquest.txt. The end result is that Dataquest is awesome will be written to the file dataquest.txt.\n"
   ]
  },
  {
   "cell_type": "code",
   "execution_count": 4,
   "metadata": {
    "collapsed": true
   },
   "outputs": [],
   "source": [
    "%%bash\n",
    "echo 'hi' > file.txt"
   ]
  },
  {
   "cell_type": "markdown",
   "metadata": {},
   "source": [
    "We can also edit a file directly from the terminal, without redirection. There are a few programs that let us do this, but the simplest is called nano. Nano is a command-line text editor that lets us edit and save files all from the terminal.\n",
    "\n",
    "To run nano, type nano, followed by the name of the file you want to edit. nano test.txt will open the test.txt file for editing.\n",
    "\n",
    "After a file is open, you can make whatever changes you want, then hit ctrl+x to quit. When you quit, you'll be prompted to save your work. Typing Y, then hitting enter will save all your changes."
   ]
  },
  {
   "cell_type": "code",
   "execution_count": 7,
   "metadata": {
    "collapsed": false
   },
   "outputs": [
    {
     "name": "stdout",
     "output_type": "stream",
     "text": [
      "\u001b)0\u001b7\u001b[?47h\u001b[1;24r\u001b[m\u001b[4l\u001b[?1h\u001b=\u001b[?1h\u001b=\u001b[?1h\u001b=\u001b[m\u001b[m\u001b[m\u001b[H\u001b[2J\u001b[21B\u001b[7mFile file.txt is being edited (by 79ef3d4c3fb64a01 with nano 2.4.2, PID 7032);  \u001b[23;1H Y\u001b[m Yes\r",
      "\u001b[1B\u001b[7m N\u001b[m No\u001b[24;17H\u001b[7m^C\u001b[m Cancel\u001b[22;80H\u001b[24;1H\u001b[2J\u001b[?47l\u001b8\r",
      "\u001b[?1l\u001b>"
     ]
    },
    {
     "name": "stderr",
     "output_type": "stream",
     "text": [
      "Received SIGHUP or SIGTERM\n"
     ]
    }
   ],
   "source": [
    "%%bash\n",
    "nano file.txt"
   ]
  },
  {
   "cell_type": "markdown",
   "metadata": {},
   "source": [
    "In Unix, every file and folder has associated permissions. These permissions have three scopes:\n",
    "\n",
    "•owner -- the user who created the file or folder.\n",
    "\n",
    "•group -- users in the owner's group. Users on unix systems can be placed into groups.\n",
    "\n",
    "•everyone -- all other users on the system who aren't the user or in the user's group.\n",
    "\n",
    "Each scope can have any of three permissions (a scope can have multiple permissions at once):\n",
    "\n",
    "•read -- The ability to see what's in a file. If defined on a folder, the ability to see what files are in a folder.\n",
    "\n",
    "•write -- The ability to modify a file. If a folder, the ability to delete, modify, and rename files in the folder.\n",
    "\n",
    "•execute -- The ability to run a file. Some files are executable, and need this permission to be run.\n",
    "\n",
    "Each permission can be granted or denied to each scope.\n",
    "\n",
    "You can view the permissions on files and folders using ls -l. This shows the permissions on the left of each file. \n",
    "In the example above, the permissions for the file test.txt are -rw-r--r--. There are 10 characters in that string. \n",
    "\n",
    "Breakingdownthepermissionsstring-rw-r--r--IgnoreUserGroupEveryone\n",
    "\n",
    "We can ignore the first character for now. Starting at the second character, the permissions are split into three groups, one for user, one for group, and one for everyone. The owner has the permissions rw-, going from character 2 to character 4. This means that the owner can read and write the file, but not execute it. The first character represents read permissions, the second represents write permissions, and the third execute permissions. The character for read is r, the character for write is w, and the character for execute is x. If a scope doesn't have a permission, it shows as a dash -- -. If the permissions for the owner were instead rwx, they would be able to execute as well. \n",
    "\n",
    "The permissions for group are from character 5 to character 7. This is r--. People in the owner's group can only read the file.\n",
    "\n",
    "The permissions for everyone are r--. Anyone who has an account on this machine can read the file.\n"
   ]
  },
  {
   "cell_type": "code",
   "execution_count": 9,
   "metadata": {
    "collapsed": false
   },
   "outputs": [
    {
     "name": "stdout",
     "output_type": "stream",
     "text": [
      "total 1412\n",
      "-rw-r----- 1 79ef3d4c3fb64a019fcb203a13a7f17e 79ef3d4c3fb64a019fcb203a13a7f17e  28297 May 16 13:51 Avengers.ipynb\n",
      "-rw-r----- 1 79ef3d4c3fb64a019fcb203a13a7f17e 79ef3d4c3fb64a019fcb203a13a7f17e   1824 May 16 13:52 Class.ipynb\n",
      "-rw-r----- 1 79ef3d4c3fb64a019fcb203a13a7f17e 79ef3d4c3fb64a019fcb203a13a7f17e  92542 May 20 09:16 Clustering.ipynb\n",
      "-rw-r----- 1 79ef3d4c3fb64a019fcb203a13a7f17e 79ef3d4c3fb64a019fcb203a13a7f17e  18294 May 27 10:39 Command Line.ipynb\n",
      "-rw-r----- 1 79ef3d4c3fb64a019fcb203a13a7f17e 79ef3d4c3fb64a019fcb203a13a7f17e 220859 May 16 13:52 Dataframe.ipynb\n",
      "-rw-r----- 1 79ef3d4c3fb64a019fcb203a13a7f17e 79ef3d4c3fb64a019fcb203a13a7f17e  31722 May 16 13:52 Dates.ipynb\n",
      "drwxr-x--- 2 79ef3d4c3fb64a019fcb203a13a7f17e 79ef3d4c3fb64a019fcb203a13a7f17e   4096 May 22 08:42 dati\n",
      "-rw-r----- 1 79ef3d4c3fb64a019fcb203a13a7f17e 79ef3d4c3fb64a019fcb203a13a7f17e  56340 May 25 15:38 Decision Trees.ipynb\n",
      "-rw-r----- 1 79ef3d4c3fb64a019fcb203a13a7f17e 79ef3d4c3fb64a019fcb203a13a7f17e   4489 May 16 13:52 Distributions and sampling.ipynb\n",
      "-rw-r----- 1 79ef3d4c3fb64a019fcb203a13a7f17e 79ef3d4c3fb64a019fcb203a13a7f17e      3 May 27 09:49 file.txt\n",
      "-rw-r----- 1 79ef3d4c3fb64a019fcb203a13a7f17e 79ef3d4c3fb64a019fcb203a13a7f17e  25625 May 20 08:56 Linear Regression.ipynb\n",
      "-rw-r----- 1 79ef3d4c3fb64a019fcb203a13a7f17e 79ef3d4c3fb64a019fcb203a13a7f17e  69680 May 16 13:52 Logistic Regression.ipynb\n",
      "-rw-r----- 1 79ef3d4c3fb64a019fcb203a13a7f17e 79ef3d4c3fb64a019fcb203a13a7f17e  21277 May 16 13:52 Matplotlib_2.ipynb\n",
      "-rw-r----- 1 79ef3d4c3fb64a019fcb203a13a7f17e 79ef3d4c3fb64a019fcb203a13a7f17e  18358 May 16 13:52 Matplotlib.ipynb\n",
      "-rw-r----- 1 79ef3d4c3fb64a019fcb203a13a7f17e 79ef3d4c3fb64a019fcb203a13a7f17e 241335 May 16 13:52 Missing values.ipynb\n",
      "-rw-r----- 1 79ef3d4c3fb64a019fcb203a13a7f17e 79ef3d4c3fb64a019fcb203a13a7f17e  85991 May 16 14:42 Multiclass Classification.ipynb\n",
      "-rw-r----- 1 79ef3d4c3fb64a019fcb203a13a7f17e 79ef3d4c3fb64a019fcb203a13a7f17e   7272 May 21 16:22 Normalization-Standardization.ipynb\n",
      "-rw-r----- 1 79ef3d4c3fb64a019fcb203a13a7f17e 79ef3d4c3fb64a019fcb203a13a7f17e   9075 May 16 13:52 Numpy.ipynb\n",
      "-rw-r----- 1 79ef3d4c3fb64a019fcb203a13a7f17e 79ef3d4c3fb64a019fcb203a13a7f17e 277315 May 16 13:52 Pandas.ipynb\n",
      "-rw-r----- 1 79ef3d4c3fb64a019fcb203a13a7f17e 79ef3d4c3fb64a019fcb203a13a7f17e  11134 May 16 13:52 Random Forest.ipynb\n",
      "-rw-r----- 1 79ef3d4c3fb64a019fcb203a13a7f17e 79ef3d4c3fb64a019fcb203a13a7f17e  31204 May 16 13:52 Regression-basics.ipynb\n",
      "-rw-r----- 1 79ef3d4c3fb64a019fcb203a13a7f17e 79ef3d4c3fb64a019fcb203a13a7f17e   6610 May 16 13:52 Regular Expressions.ipynb\n",
      "-rw-r----- 1 79ef3d4c3fb64a019fcb203a13a7f17e 79ef3d4c3fb64a019fcb203a13a7f17e  18862 May 26 15:00 roc_curve.ipynb\n",
      "-rw-r----- 1 79ef3d4c3fb64a019fcb203a13a7f17e 79ef3d4c3fb64a019fcb203a13a7f17e  58600 May 16 13:52 Seaborn.ipynb\n",
      "-rw-r----- 1 79ef3d4c3fb64a019fcb203a13a7f17e 79ef3d4c3fb64a019fcb203a13a7f17e  38507 May 16 13:52 Series.ipynb\n",
      "-rw-r----- 1 79ef3d4c3fb64a019fcb203a13a7f17e 79ef3d4c3fb64a019fcb203a13a7f17e   9680 May 16 13:52 Statistical indicators.ipynb\n",
      "-rw-r----- 1 79ef3d4c3fb64a019fcb203a13a7f17e 79ef3d4c3fb64a019fcb203a13a7f17e   2878 May 16 13:52 The CSV module.ipynb\n",
      "-rw-r----- 1 79ef3d4c3fb64a019fcb203a13a7f17e 79ef3d4c3fb64a019fcb203a13a7f17e   1854 May 16 13:52 Train - Test set split.ipynb\n"
     ]
    }
   ],
   "source": [
    "%%bash\n",
    "ls -l"
   ]
  },
  {
   "cell_type": "markdown",
   "metadata": {
    "collapsed": true
   },
   "source": [
    "The downside to symbolic notation is that if we want to change permissions, it takes a long time to type out. Another way to represent permissions is using octal notation.\n",
    "\n",
    "Octal notation lets us represent the permissions for all scopes in 4 digits instead of 10 characters like in symbolic notation. There are 8 possible combinations of the 3 permissions r, w, and x. We can express each combination as a single digit in an octal (base 8) counting system. Thus, we can represent each scope as a single digit in base 8.\n",
    "\n",
    "Here are the combinations and their corresponding digits:\n",
    "\n",
    "•--- -- no permissions, corresponds to 0.\n",
    "\n",
    "•--x -- execute only permission, corresponds to 1.\n",
    "\n",
    "•-w- -- write only permissions, corresponds to 2.\n",
    "\n",
    "•-wx -- write and execute permissions, corresponds to 3.\n",
    "\n",
    "•r-- -- read only permissions, corresponds to 4.\n",
    "\n",
    "•r-x -- read and execute permissions, corresponds to 5.\n",
    "\n",
    "•rw- -- read and write permissions, corresponds to 6.\n",
    "\n",
    "•rwx -- grants read, write, and execute permissions, corresponds to 7.\n",
    "\n",
    "We can turn the permissions string -rw-r--r-- into 0644. Just like with symbolic notation, don't worry about the first digit in octal notation right this second -- we'll get to it later.\n",
    "\n",
    "You can see the octal permissions of a file by using the stat command. Typing stat test.txt will show you some information about the file test.txt, including the octal permissions."
   ]
  },
  {
   "cell_type": "code",
   "execution_count": 1,
   "metadata": {
    "collapsed": false
   },
   "outputs": [
    {
     "name": "stdout",
     "output_type": "stream",
     "text": [
      "  File: ‘file.txt’\n",
      "  Size: 3         \tBlocks: 8          IO Block: 4096   regular file\n",
      "Device: 812h/2066d\tInode: 11288622    Links: 1\n",
      "Access: (0640/-rw-r-----)  Uid: (1221867617/79ef3d4c3fb64a019fcb203a13a7f17e)   Gid: (1221867617/79ef3d4c3fb64a019fcb203a13a7f17e)\n",
      "Access: 2016-05-27 09:53:01.881186095 +0000\n",
      "Modify: 2016-05-27 09:49:05.877264783 +0000\n",
      "Change: 2016-05-27 09:49:05.877264783 +0000\n",
      " Birth: -\n"
     ]
    }
   ],
   "source": [
    "%%bash\n",
    "stat file.txt"
   ]
  },
  {
   "cell_type": "markdown",
   "metadata": {},
   "source": [
    "Now that we understand file permissions, we can modify them using the chmod command. We pass in an octal permissions string and a file name, and it modifies the file we specify to have the permissions reflected by that string."
   ]
  },
  {
   "cell_type": "code",
   "execution_count": 2,
   "metadata": {
    "collapsed": true
   },
   "outputs": [],
   "source": [
    "%%bash\n",
    "chmod 0664 file.txt "
   ]
  },
  {
   "cell_type": "code",
   "execution_count": 3,
   "metadata": {
    "collapsed": false
   },
   "outputs": [
    {
     "name": "stdout",
     "output_type": "stream",
     "text": [
      "  File: ‘file.txt’\n",
      "  Size: 3         \tBlocks: 8          IO Block: 4096   regular file\n",
      "Device: 812h/2066d\tInode: 11288622    Links: 1\n",
      "Access: (0664/-rw-rw-r--)  Uid: (1221867617/79ef3d4c3fb64a019fcb203a13a7f17e)   Gid: (1221867617/79ef3d4c3fb64a019fcb203a13a7f17e)\n",
      "Access: 2016-05-27 09:53:01.881186095 +0000\n",
      "Modify: 2016-05-27 09:49:05.877264783 +0000\n",
      "Change: 2016-05-30 08:46:15.999313251 +0000\n",
      " Birth: -\n"
     ]
    }
   ],
   "source": [
    "%%bash\n",
    "stat file.txt"
   ]
  },
  {
   "cell_type": "markdown",
   "metadata": {},
   "source": [
    "You can move files with the mv command. Typing mv test.txt /dq will move the test.txt file to the /dq folder. This assume that test.txt is in your current directory.\n"
   ]
  },
  {
   "cell_type": "code",
   "execution_count": 4,
   "metadata": {
    "collapsed": false
   },
   "outputs": [
    {
     "name": "stderr",
     "output_type": "stream",
     "text": [
      "mv: ‘file.txt’ and ‘/projects/79ef3d4c-3fb6-4a01-9fcb-203a13a7f17e/notebook/file.txt’ are the same file\n"
     ]
    }
   ],
   "source": [
    "%%bash\n",
    "mv file.txt /projects/79ef3d4c-3fb6-4a01-9fcb-203a13a7f17e/notebook"
   ]
  },
  {
   "cell_type": "markdown",
   "metadata": {},
   "source": [
    "Sometimes, instead of moving a file, you'll want to make a copy, and move that copy somewhere else. The cp command is useful for this. cp test.txt test2.txt will copy the test.txt file, and create a new file called test2.txt with the contents of test.txt."
   ]
  },
  {
   "cell_type": "code",
   "execution_count": 6,
   "metadata": {
    "collapsed": true
   },
   "outputs": [],
   "source": [
    "%%bash\n",
    "mkdir test"
   ]
  },
  {
   "cell_type": "code",
   "execution_count": 7,
   "metadata": {
    "collapsed": false
   },
   "outputs": [
    {
     "name": "stdout",
     "output_type": "stream",
     "text": [
      "Avengers.ipynb                    Multiclass Classification.ipynb\r\n",
      "Class.ipynb                       Normalization-Standardization.ipynb\r\n",
      "Clustering.ipynb                  Numpy.ipynb\r\n",
      "Command Line.ipynb                Pandas.ipynb\r\n",
      "Dataframe.ipynb                   Random Forest.ipynb\r\n",
      "Dates.ipynb                       Regression-basics.ipynb\r\n",
      "\u001b[0m\u001b[01;34mdati\u001b[0m/                             Regular Expressions.ipynb\r\n",
      "Decision Trees.ipynb              roc_curve.ipynb\r\n",
      "Distributions and sampling.ipynb  Seaborn.ipynb\r\n",
      "file.txt                          Series.ipynb\r\n",
      "Linear Regression.ipynb           Statistical indicators.ipynb\r\n",
      "Logistic Regression.ipynb         \u001b[01;34mtest\u001b[0m/\r\n",
      "Matplotlib_2.ipynb                The CSV module.ipynb\r\n",
      "Matplotlib.ipynb                  Train - Test set split.ipynb\r\n",
      "Missing values.ipynb\r\n"
     ]
    }
   ],
   "source": [
    "ls"
   ]
  },
  {
   "cell_type": "code",
   "execution_count": 8,
   "metadata": {
    "collapsed": true
   },
   "outputs": [],
   "source": [
    "%%bash\n",
    "cp file.txt file_1.txt"
   ]
  },
  {
   "cell_type": "markdown",
   "metadata": {
    "collapsed": true
   },
   "source": [
    "\n",
    "Typically, files have extensions, such as .txt and .csv, that indicate the type of the file, and are used to determine the default program to open these files in Windows. For instance, on Windows, a text editor will be the default program to open files with the .txt extension.\n",
    "\n",
    "Rather than relying on extensions to determine file type, Unix-based operating systems such as Linux use media types, also called MIME types. The MIME type application/pdf indicates that a file is a pdf, and the MIME type image/png indicates that a file is a png image. The first part of a MIME type string is the type, such as application, or image, and the second part is the subtype, such as pdf, or png. \n",
    "\n",
    "There are MIME types for every type of file. MIME types are stored in the file metadata, which is stored as part of the file. Because of this, Linux can figure out the type of a file and open it properly even if it doesn't have an extension.\n",
    "\n",
    "You can rename files and remove extensions whenever you want, and you'll often run across files without extensions, such as test.\n",
    "\n",
    "Specifying a folder as the second argument to mv will preserve the file name, and move it into the folder. If you instead specify a full path, including filename, it will move the original file to the new file name, essentially renaming it. For example, mv test.txt test2.txt will move the file test.txt to test2.txt. This will basically rename test.txt."
   ]
  },
  {
   "cell_type": "code",
   "execution_count": 2,
   "metadata": {
    "collapsed": false
   },
   "outputs": [],
   "source": [
    "%%bash\n",
    "mv file_1.txt file_no_extension"
   ]
  },
  {
   "cell_type": "code",
   "execution_count": 3,
   "metadata": {
    "collapsed": false
   },
   "outputs": [
    {
     "name": "stdout",
     "output_type": "stream",
     "text": [
      "Avengers.ipynb                    Missing values.ipynb\r\n",
      "Class.ipynb                       Multiclass Classification.ipynb\r\n",
      "Clustering.ipynb                  Normalization-Standardization.ipynb\r\n",
      "Command Line.ipynb                Numpy.ipynb\r\n",
      "Dataframe.ipynb                   Pandas.ipynb\r\n",
      "Dates.ipynb                       Random Forest.ipynb\r\n",
      "\u001b[0m\u001b[01;34mdati\u001b[0m/                             Regression-basics.ipynb\r\n",
      "Decision Trees.ipynb              Regular Expressions.ipynb\r\n",
      "Distributions and sampling.ipynb  roc_curve.ipynb\r\n",
      "file_no_extension                 Seaborn.ipynb\r\n",
      "file.txt                          Series.ipynb\r\n",
      "Linear Regression.ipynb           Statistical indicators.ipynb\r\n",
      "Logistic Regression.ipynb         \u001b[01;34mtest\u001b[0m/\r\n",
      "Matplotlib_2.ipynb                The CSV module.ipynb\r\n",
      "Matplotlib.ipynb                  Train - Test set split.ipynb\r\n"
     ]
    }
   ],
   "source": [
    "ls"
   ]
  },
  {
   "cell_type": "markdown",
   "metadata": {},
   "source": [
    "You can delete a file with the rm command. Typing rm test.txt will remove the test.txt file, provided it's in the same folder that you're in."
   ]
  },
  {
   "cell_type": "code",
   "execution_count": 4,
   "metadata": {
    "collapsed": true
   },
   "outputs": [],
   "source": [
    "rm file.txt"
   ]
  },
  {
   "cell_type": "markdown",
   "metadata": {},
   "source": [
    "\n",
    "Unix systems have a special user, called the root user. You can run commands as the root user using sudo. Adding sudo to the beginning of any command will run that command as the root user. Typing sudo rm test.txt will switch to the root user, then delete the test.txt file as the root user. This is useful in situations where the current user doesn't have permission to delete the file. The root user has access to all files and has all permissions by default.\n",
    "\n",
    "You typically will need a password to switch to the root user -- for security reasons, you don't want anyone to be able to switch to the root user whenever they want.\n",
    "\n",
    "In the Dataquest terminal, access to the root user is restricted for security reasons. Adding sudo to a command will result in an error."
   ]
  },
  {
   "cell_type": "code",
   "execution_count": 13,
   "metadata": {
    "collapsed": false
   },
   "outputs": [
    {
     "name": "stderr",
     "output_type": "stream",
     "text": [
      "rm: cannot remove ‘file_no_extension’: No such file or directory\n"
     ]
    }
   ],
   "source": [
    "%%bash\n",
    "rm file_no_extension"
   ]
  },
  {
   "cell_type": "markdown",
   "metadata": {},
   "source": [
    "In these shell tutorials, we've been interacting with a computer through the command line. In order to interact with it, we type commands in, those commands are executed, and we're shown the results. That interaction is happening within a shell called bash. A shell is a way to access and control a computer. Command-line shells have a text interface for typing commands and seeing results, versus graphical shells which allow you to click on icons with a mouse. There are many unix shells, but Bash is one of the most popular. Bash is the default shell on most Linux and OSX computers.\n",
    "\n",
    "Bash is essentially a program that lets us run other programs. To do this, Bash implements a command language. This language specifies how we can type and structure commands that will be executed. A command language is a special kind of programming language through which we can control applications and the system. Just like other programming languages, like Python, we can create scripts, set variables, and more. Because it is a language, bash is far more powerful than a graphical shell.\n",
    "\n",
    "We can set variables by assigning to them. Variables consist entirely of uppercase characters, numbers, and underscores. You can assign any datatype to a variable. Here are some examples:\n",
    "\n",
    "OS=linux\n",
    "\n",
    "OPERATING_SYSTEM=\"linux\"\n",
    "\n",
    "Both of the above variables OS and OPERATING_SYSTEM will actually be assigned the same value. Quotes are optional when using strings in bash, unless there's a space in the string -- bash is sensitive to spaces, and strings with spaces won't work properly if they aren't surrounded with quotes.\n",
    "\n",
    "This assignment won't work:\n",
    "\n",
    "ANIMAL=Shark with a laser beam on its head\n",
    "\n",
    "But this will: ANIMAL=\"Shark with a laser beam on its head\"\n",
    "\n",
    "It's also important not to add in stray spaces. This won't work: ANIMAL = \"Shark with a laser beam on its head\""
   ]
  },
  {
   "cell_type": "code",
   "execution_count": 14,
   "metadata": {
    "collapsed": true
   },
   "outputs": [],
   "source": [
    "%%bash\n",
    "FOOD='Shrimp gumbo'"
   ]
  },
  {
   "cell_type": "markdown",
   "metadata": {},
   "source": [
    "\n",
    "Variables in bash work similarly to variables in other languages such as Python in that we can access the values again after we set them. One major difference is that in order to access the value of a variable, you have to add a dollar sign to the beginning of the variable name.\n",
    "\n",
    "For example, if you create a variable named FOOD with the value Shrimp gumbo, you'll need to use $FOOD when you want to access the value again later. This is because typing FOOD at the command prompt will attempt to call the command FOOD, and will return an error, because there is no executable named FOOD in PATH.\n",
    "\n",
    "Another difference between Python variables and bash variables is that when you type $FOOD at the command prompt, it will resolve to the value of the variable, or Shrimp gumbo. By default, bash will try to turn this into a command, and will try to call the command Shrimp. Since there is no executable named Shrimp in PATH, this will cause an error.\n",
    "\n",
    "If you want to see the value of a variable named FOOD, you'll need to type echo $FOOD. This will turn into echo \"Shrimp gumbo\", which will print Shrimp gumbo to stdout.\n"
   ]
  },
  {
   "cell_type": "code",
   "execution_count": 15,
   "metadata": {
    "collapsed": false
   },
   "outputs": [
    {
     "name": "stdout",
     "output_type": "stream",
     "text": [
      "\n"
     ]
    }
   ],
   "source": [
    "%%bash\n",
    "echo $FOOD"
   ]
  },
  {
   "cell_type": "markdown",
   "metadata": {},
   "source": [
    "So far, we've been creating shell variables. These variables can be accessed only within the bash shell. \n",
    "\n",
    "Another type of variable is an environment variable. These can be accessed by any program that is run from the shell.\n",
    "\n",
    "We can create environment variables using the export command. export FOOD=\"Chicken and waffles\" will create an environment variable called FOOD."
   ]
  },
  {
   "cell_type": "markdown",
   "metadata": {},
   "source": [
    "%%bash\n",
    "export FOOD='Chicken and waffles'"
   ]
  },
  {
   "cell_type": "markdown",
   "metadata": {},
   "source": [
    "We can run many programs from bash, including Python. To run the Python interpreter from the bash shell, just type python at the command prompt.\n",
    "\n",
    "Once inside the command prompt, you can access environment variables like this:\n",
    "\n",
    "import os\n",
    "\n",
    "print(os.environ[\"FOOD\"])\n",
    "\n",
    "The os package is built into the Python standard library, and contains many useful functions for working with the operating system.\n",
    "\n",
    "os.environ is a dictionary containing all of the values of environment variables. You can access any environment variable by specifying it as a key, just like with any Python dictionary.\n",
    "\n",
    "This shows you a hint of the power of environment variables -- we can use them to set configuration in Python scripts and in other places. This is useful when configuration is secret (like access keys), or is changing quickly.\n"
   ]
  },
  {
   "cell_type": "code",
   "execution_count": null,
   "metadata": {
    "collapsed": true
   },
   "outputs": [],
   "source": [
    "import os\n",
    "print(os.environ['FOOD'])"
   ]
  },
  {
   "cell_type": "markdown",
   "metadata": {},
   "source": [
    "In the last screen, we accessed Python by typing python in the shell. We can run many programs this way. There's nothing special about a program -- it's a file somewhere on the system.\n",
    "\n",
    "Any program can be accessed by typing its full path. The full path for Python, which itself is a program, is /usr/bin/python."
   ]
  },
  {
   "cell_type": "code",
   "execution_count": null,
   "metadata": {
    "collapsed": true
   },
   "outputs": [],
   "source": [
    "%%bash\n",
    "/usr/bin/python\n",
    "exit()"
   ]
  },
  {
   "cell_type": "markdown",
   "metadata": {},
   "source": [
    "In the last screen, we typed /usr/bin/python to access the Python interpreter. If the Python interpreter is at that location, how come we can also access it by typing python? We can do this because of the PATH variable. The PATH environment variable contains several folders. Any program in any one of these folders can be run simply by typing the name of the program. Since /usr/bin is one of the folders in PATH, we can access python, which is in the folder, by just typing python instead of the full path."
   ]
  },
  {
   "cell_type": "code",
   "execution_count": 24,
   "metadata": {
    "collapsed": false
   },
   "outputs": [
    {
     "name": "stderr",
     "output_type": "stream",
     "text": [
      "bash: line 1: /projects/sage/sage-6.10/build/bin:/projects/sage/sage-6.10/src/bin:/projects/sage/sage-6.10/local/bin:/projects/79ef3d4c-3fb6-4a01-9fcb-203a13a7f17e/bin:/usr/local/sbin:/usr/local/bin:/usr/sbin:/usr/bin:/sbin:/bin: No such file or directory\n"
     ]
    }
   ],
   "source": [
    "%%bash\n",
    "$PATH"
   ]
  },
  {
   "cell_type": "markdown",
   "metadata": {},
   "source": [
    "The command $PATH is used to see which folders are in PATH enviroment variable."
   ]
  },
  {
   "cell_type": "markdown",
   "metadata": {},
   "source": [
    "Some of the programs we've been running have arguments, and some don't. When you type echo $$FOOD, you're passing the value of the $FOOD variable as a positional argument to the echo program. This is similar to a function in Python, which has positional and keyword arguments. Programs can have any number of positional arguments, including zero. python is an example of a program that doesn't require any positional arguments.\n",
    "\n",
    "cp is an example of a command with two positional arguments -- you need to pass the file, and the path to which you want it to be copied.\n",
    "\n",
    "Programs can also have flags, which are akin to keyword arguments in Python. These are optional, and modify program behavior. Flags sometimes have values specified. If they don't have a value specified, then they're boolean. Boolean flags are true when they appear, and false when they don't. For example, the -l flag, when passed to ls, will list the files in the directory in long mode, and show more information about them."
   ]
  },
  {
   "cell_type": "code",
   "execution_count": 25,
   "metadata": {
    "collapsed": false
   },
   "outputs": [
    {
     "name": "stdout",
     "output_type": "stream",
     "text": [
      "total 1436\r\n",
      "-rw-r----- 1 79ef3d4c3fb64a019fcb203a13a7f17e 79ef3d4c3fb64a019fcb203a13a7f17e  28297 May 16 13:51 Avengers.ipynb\r\n",
      "-rw-r----- 1 79ef3d4c3fb64a019fcb203a13a7f17e 79ef3d4c3fb64a019fcb203a13a7f17e   1824 May 16 13:52 Class.ipynb\r\n",
      "-rw-r----- 1 79ef3d4c3fb64a019fcb203a13a7f17e 79ef3d4c3fb64a019fcb203a13a7f17e  92542 May 20 09:16 Clustering.ipynb\r\n",
      "-rw-r----- 1 79ef3d4c3fb64a019fcb203a13a7f17e 79ef3d4c3fb64a019fcb203a13a7f17e  42041 May 30 21:30 Command Line.ipynb\r\n",
      "-rw-r----- 1 79ef3d4c3fb64a019fcb203a13a7f17e 79ef3d4c3fb64a019fcb203a13a7f17e 220859 May 16 13:52 Dataframe.ipynb\r\n",
      "-rw-r----- 1 79ef3d4c3fb64a019fcb203a13a7f17e 79ef3d4c3fb64a019fcb203a13a7f17e  31722 May 16 13:52 Dates.ipynb\r\n",
      "drwxr-x--- 2 79ef3d4c3fb64a019fcb203a13a7f17e 79ef3d4c3fb64a019fcb203a13a7f17e   4096 May 22 08:42 \u001b[0m\u001b[01;34mdati\u001b[0m/\r\n",
      "-rw-r----- 1 79ef3d4c3fb64a019fcb203a13a7f17e 79ef3d4c3fb64a019fcb203a13a7f17e  56340 May 25 15:38 Decision Trees.ipynb\r\n",
      "-rw-r----- 1 79ef3d4c3fb64a019fcb203a13a7f17e 79ef3d4c3fb64a019fcb203a13a7f17e   4489 May 16 13:52 Distributions and sampling.ipynb\r\n",
      "-rw-r----- 1 79ef3d4c3fb64a019fcb203a13a7f17e 79ef3d4c3fb64a019fcb203a13a7f17e  25625 May 20 08:56 Linear Regression.ipynb\r\n",
      "-rw-r----- 1 79ef3d4c3fb64a019fcb203a13a7f17e 79ef3d4c3fb64a019fcb203a13a7f17e  69680 May 16 13:52 Logistic Regression.ipynb\r\n",
      "-rw-r----- 1 79ef3d4c3fb64a019fcb203a13a7f17e 79ef3d4c3fb64a019fcb203a13a7f17e  21277 May 16 13:52 Matplotlib_2.ipynb\r\n",
      "-rw-r----- 1 79ef3d4c3fb64a019fcb203a13a7f17e 79ef3d4c3fb64a019fcb203a13a7f17e  18358 May 16 13:52 Matplotlib.ipynb\r\n",
      "-rw-r----- 1 79ef3d4c3fb64a019fcb203a13a7f17e 79ef3d4c3fb64a019fcb203a13a7f17e 241335 May 16 13:52 Missing values.ipynb\r\n",
      "-rw-r----- 1 79ef3d4c3fb64a019fcb203a13a7f17e 79ef3d4c3fb64a019fcb203a13a7f17e  85991 May 16 14:42 Multiclass Classification.ipynb\r\n",
      "-rw-r----- 1 79ef3d4c3fb64a019fcb203a13a7f17e 79ef3d4c3fb64a019fcb203a13a7f17e   7272 May 21 16:22 Normalization-Standardization.ipynb\r\n",
      "-rw-r----- 1 79ef3d4c3fb64a019fcb203a13a7f17e 79ef3d4c3fb64a019fcb203a13a7f17e   9075 May 16 13:52 Numpy.ipynb\r\n",
      "-rw-r----- 1 79ef3d4c3fb64a019fcb203a13a7f17e 79ef3d4c3fb64a019fcb203a13a7f17e 277315 May 16 13:52 Pandas.ipynb\r\n",
      "-rw-r----- 1 79ef3d4c3fb64a019fcb203a13a7f17e 79ef3d4c3fb64a019fcb203a13a7f17e  11134 May 16 13:52 Random Forest.ipynb\r\n",
      "-rw-r----- 1 79ef3d4c3fb64a019fcb203a13a7f17e 79ef3d4c3fb64a019fcb203a13a7f17e  31204 May 16 13:52 Regression-basics.ipynb\r\n",
      "-rw-r----- 1 79ef3d4c3fb64a019fcb203a13a7f17e 79ef3d4c3fb64a019fcb203a13a7f17e   6610 May 16 13:52 Regular Expressions.ipynb\r\n",
      "-rw-r----- 1 79ef3d4c3fb64a019fcb203a13a7f17e 79ef3d4c3fb64a019fcb203a13a7f17e  18862 May 26 15:00 roc_curve.ipynb\r\n",
      "-rw-r----- 1 79ef3d4c3fb64a019fcb203a13a7f17e 79ef3d4c3fb64a019fcb203a13a7f17e  58600 May 16 13:52 Seaborn.ipynb\r\n",
      "-rw-r----- 1 79ef3d4c3fb64a019fcb203a13a7f17e 79ef3d4c3fb64a019fcb203a13a7f17e  38507 May 16 13:52 Series.ipynb\r\n",
      "-rw-r----- 1 79ef3d4c3fb64a019fcb203a13a7f17e 79ef3d4c3fb64a019fcb203a13a7f17e   9680 May 16 13:52 Statistical indicators.ipynb\r\n",
      "drwxr-x--- 2 79ef3d4c3fb64a019fcb203a13a7f17e 79ef3d4c3fb64a019fcb203a13a7f17e   4096 May 30 08:52 \u001b[01;34mtest\u001b[0m/\r\n",
      "-rw-r----- 1 79ef3d4c3fb64a019fcb203a13a7f17e 79ef3d4c3fb64a019fcb203a13a7f17e   2878 May 16 13:52 The CSV module.ipynb\r\n",
      "-rw-r----- 1 79ef3d4c3fb64a019fcb203a13a7f17e 79ef3d4c3fb64a019fcb203a13a7f17e   1854 May 16 13:52 Train - Test set split.ipynb\r\n"
     ]
    }
   ],
   "source": [
    "ls -l"
   ]
  },
  {
   "cell_type": "markdown",
   "metadata": {},
   "source": [
    "There are many times when you'll want to specify multiple flags. Most flags have short, single-character names, as well as longer names. See the ls manual page for a closer look at this.\n",
    "\n",
    "For example, specifying ls -a, and ls --all will both list all of the files in a directory, instead of hiding anything that starts with .. The commands are equivalent.\n",
    "\n",
    "When we have multiple flags with short, single-character names, we can chain them together to save time. ls -la will list all of the files in a long format, and is equivalent to ls -a -l. The order of the l and the a don't matter. This is commonly done by experienced programmers, and can be a bit confusing to parse at first."
   ]
  },
  {
   "cell_type": "code",
   "execution_count": 26,
   "metadata": {
    "collapsed": false
   },
   "outputs": [
    {
     "name": "stdout",
     "output_type": "stream",
     "text": [
      "total 1556\n",
      "drwxr-x---  5 79ef3d4c3fb64a019fcb203a13a7f17e 79ef3d4c3fb64a019fcb203a13a7f17e   4096 May 30 21:39 .\n",
      "drwx------ 14 79ef3d4c3fb64a019fcb203a13a7f17e 79ef3d4c3fb64a019fcb203a13a7f17e   4096 May 30 18:38 ..\n",
      "-rw-r-----  1 79ef3d4c3fb64a019fcb203a13a7f17e 79ef3d4c3fb64a019fcb203a13a7f17e  28297 May 16 13:51 Avengers.ipynb\n",
      "-rw-r-----  1 79ef3d4c3fb64a019fcb203a13a7f17e 79ef3d4c3fb64a019fcb203a13a7f17e   1824 May 16 13:52 Class.ipynb\n",
      "-rw-r-----  1 79ef3d4c3fb64a019fcb203a13a7f17e 79ef3d4c3fb64a019fcb203a13a7f17e  92542 May 20 09:16 Clustering.ipynb\n",
      "-rw-r-----  1 79ef3d4c3fb64a019fcb203a13a7f17e 79ef3d4c3fb64a019fcb203a13a7f17e   5632 May 20 09:16 .Clustering.ipynb.sage-jupyter\n",
      "-rw-r-----  1 79ef3d4c3fb64a019fcb203a13a7f17e 79ef3d4c3fb64a019fcb203a13a7f17e  46048 May 30 21:39 Command Line.ipynb\n",
      "-rw-r-----  1 79ef3d4c3fb64a019fcb203a13a7f17e 79ef3d4c3fb64a019fcb203a13a7f17e  40238 May 30 21:45 .Command Line.ipynb.sage-jupyter\n",
      "-rw-r-----  1 79ef3d4c3fb64a019fcb203a13a7f17e 79ef3d4c3fb64a019fcb203a13a7f17e    668 May 26 14:46 .Cross-validation.ipynb.sage-jupyter\n",
      "-rw-r-----  1 79ef3d4c3fb64a019fcb203a13a7f17e 79ef3d4c3fb64a019fcb203a13a7f17e 220859 May 16 13:52 Dataframe.ipynb\n",
      "-rw-r-----  1 79ef3d4c3fb64a019fcb203a13a7f17e 79ef3d4c3fb64a019fcb203a13a7f17e  31722 May 16 13:52 Dates.ipynb\n",
      "drwxr-x---  2 79ef3d4c3fb64a019fcb203a13a7f17e 79ef3d4c3fb64a019fcb203a13a7f17e   4096 May 22 08:42 dati\n",
      "-rw-r-----  1 79ef3d4c3fb64a019fcb203a13a7f17e 79ef3d4c3fb64a019fcb203a13a7f17e  56340 May 25 15:38 Decision Trees.ipynb\n",
      "-rw-r-----  1 79ef3d4c3fb64a019fcb203a13a7f17e 79ef3d4c3fb64a019fcb203a13a7f17e   7149 May 25 15:38 .Decision Trees.ipynb.sage-jupyter\n",
      "-rw-r-----  1 79ef3d4c3fb64a019fcb203a13a7f17e 79ef3d4c3fb64a019fcb203a13a7f17e   4489 May 16 13:52 Distributions and sampling.ipynb\n",
      "-rw-r-----  1 79ef3d4c3fb64a019fcb203a13a7f17e 79ef3d4c3fb64a019fcb203a13a7f17e   1024 May 27 09:52 .fie.txt.swp\n",
      "-rw-r-----  1 79ef3d4c3fb64a019fcb203a13a7f17e 79ef3d4c3fb64a019fcb203a13a7f17e   1024 May 27 09:53 .file.txt.swp\n",
      "-rw-r-----  1 79ef3d4c3fb64a019fcb203a13a7f17e 79ef3d4c3fb64a019fcb203a13a7f17e   3486 May 21 16:04 .Gradient Descent.ipynb.sage-jupyter\n",
      "drwxr-x---  2 79ef3d4c3fb64a019fcb203a13a7f17e 79ef3d4c3fb64a019fcb203a13a7f17e   4096 May 27 07:18 .ipynb_checkpoints\n",
      "-rw-r-----  1 79ef3d4c3fb64a019fcb203a13a7f17e 79ef3d4c3fb64a019fcb203a13a7f17e  25625 May 20 08:56 Linear Regression.ipynb\n",
      "-rw-r-----  1 79ef3d4c3fb64a019fcb203a13a7f17e 79ef3d4c3fb64a019fcb203a13a7f17e   5020 May 20 08:58 .Linear Regression.ipynb.sage-jupyter\n",
      "-rw-r-----  1 79ef3d4c3fb64a019fcb203a13a7f17e 79ef3d4c3fb64a019fcb203a13a7f17e      0 May 27 07:17 .Line command.ipynb.sage-jupyter\n",
      "-rw-r-----  1 79ef3d4c3fb64a019fcb203a13a7f17e 79ef3d4c3fb64a019fcb203a13a7f17e  69680 May 16 13:52 Logistic Regression.ipynb\n",
      "-rw-r-----  1 79ef3d4c3fb64a019fcb203a13a7f17e 79ef3d4c3fb64a019fcb203a13a7f17e  21277 May 16 13:52 Matplotlib_2.ipynb\n",
      "-rw-r-----  1 79ef3d4c3fb64a019fcb203a13a7f17e 79ef3d4c3fb64a019fcb203a13a7f17e  18358 May 16 13:52 Matplotlib.ipynb\n",
      "-rw-r-----  1 79ef3d4c3fb64a019fcb203a13a7f17e 79ef3d4c3fb64a019fcb203a13a7f17e 241335 May 16 13:52 Missing values.ipynb\n",
      "-rw-r-----  1 79ef3d4c3fb64a019fcb203a13a7f17e 79ef3d4c3fb64a019fcb203a13a7f17e  85991 May 16 14:42 Multiclass Classification.ipynb\n",
      "-rw-r-----  1 79ef3d4c3fb64a019fcb203a13a7f17e 79ef3d4c3fb64a019fcb203a13a7f17e   8531 May 16 14:42 .Multiclass Classification.ipynb.sage-jupyter\n",
      "-rw-r-----  1 79ef3d4c3fb64a019fcb203a13a7f17e 79ef3d4c3fb64a019fcb203a13a7f17e   1909 May 21 18:13 .Neural Networks.ipynb.sage-jupyter\n",
      "-rw-r-----  1 79ef3d4c3fb64a019fcb203a13a7f17e 79ef3d4c3fb64a019fcb203a13a7f17e   7272 May 21 16:22 Normalization-Standardization.ipynb\n",
      "-rw-r-----  1 79ef3d4c3fb64a019fcb203a13a7f17e 79ef3d4c3fb64a019fcb203a13a7f17e   3372 May 21 16:22 .Normalization-Standardization.ipynb.sage-jupyter\n",
      "-rw-r-----  1 79ef3d4c3fb64a019fcb203a13a7f17e 79ef3d4c3fb64a019fcb203a13a7f17e   9075 May 16 13:52 Numpy.ipynb\n",
      "-rw-r-----  1 79ef3d4c3fb64a019fcb203a13a7f17e 79ef3d4c3fb64a019fcb203a13a7f17e 277315 May 16 13:52 Pandas.ipynb\n",
      "-rw-r-----  1 79ef3d4c3fb64a019fcb203a13a7f17e 79ef3d4c3fb64a019fcb203a13a7f17e  11134 May 16 13:52 Random Forest.ipynb\n",
      "-rw-r-----  1 79ef3d4c3fb64a019fcb203a13a7f17e 79ef3d4c3fb64a019fcb203a13a7f17e  31204 May 16 13:52 Regression-basics.ipynb\n",
      "-rw-r-----  1 79ef3d4c3fb64a019fcb203a13a7f17e 79ef3d4c3fb64a019fcb203a13a7f17e   6610 May 16 13:52 Regular Expressions.ipynb\n",
      "-rw-r-----  1 79ef3d4c3fb64a019fcb203a13a7f17e 79ef3d4c3fb64a019fcb203a13a7f17e  18862 May 26 15:00 roc_curve.ipynb\n",
      "-rw-r-----  1 79ef3d4c3fb64a019fcb203a13a7f17e 79ef3d4c3fb64a019fcb203a13a7f17e   3628 May 26 15:00 .roc_curve.ipynb.sage-jupyter\n",
      "-rw-r-----  1 79ef3d4c3fb64a019fcb203a13a7f17e 79ef3d4c3fb64a019fcb203a13a7f17e  58600 May 16 13:52 Seaborn.ipynb\n",
      "-rw-r-----  1 79ef3d4c3fb64a019fcb203a13a7f17e 79ef3d4c3fb64a019fcb203a13a7f17e  38507 May 16 13:52 Series.ipynb\n",
      "-rw-r-----  1 79ef3d4c3fb64a019fcb203a13a7f17e 79ef3d4c3fb64a019fcb203a13a7f17e   9680 May 16 13:52 Statistical indicators.ipynb\n",
      "-rw-r-----  1 79ef3d4c3fb64a019fcb203a13a7f17e 79ef3d4c3fb64a019fcb203a13a7f17e      0 May 20 08:54 .Statistical indicators.ipynb.sage-jupyter\n",
      "drwxr-x---  2 79ef3d4c3fb64a019fcb203a13a7f17e 79ef3d4c3fb64a019fcb203a13a7f17e   4096 May 30 08:52 test\n",
      "-rw-r-----  1 79ef3d4c3fb64a019fcb203a13a7f17e 79ef3d4c3fb64a019fcb203a13a7f17e   2878 May 16 13:52 The CSV module.ipynb\n",
      "-rw-r-----  1 79ef3d4c3fb64a019fcb203a13a7f17e 79ef3d4c3fb64a019fcb203a13a7f17e   1854 May 16 13:52 Train - Test set split.ipynb\n"
     ]
    }
   ],
   "source": [
    "%%bash\n",
    "ls -la"
   ]
  },
  {
   "cell_type": "code",
   "execution_count": 29,
   "metadata": {
    "collapsed": false
   },
   "outputs": [
    {
     "name": "stdout",
     "output_type": "stream",
     "text": [
      "total 1556\r\n",
      "drwxr-x---  5 79ef3d4c3fb64a019fcb203a13a7f17e 79ef3d4c3fb64a019fcb203a13a7f17e   4096 May 30 21:39 \u001b[0m\u001b[01;34m.\u001b[0m/\r\n",
      "drwx------ 14 79ef3d4c3fb64a019fcb203a13a7f17e 79ef3d4c3fb64a019fcb203a13a7f17e   4096 May 30 18:38 \u001b[01;34m..\u001b[0m/\r\n",
      "-rw-r-----  1 79ef3d4c3fb64a019fcb203a13a7f17e 79ef3d4c3fb64a019fcb203a13a7f17e  28297 May 16 13:51 Avengers.ipynb\r\n",
      "-rw-r-----  1 79ef3d4c3fb64a019fcb203a13a7f17e 79ef3d4c3fb64a019fcb203a13a7f17e   1824 May 16 13:52 Class.ipynb\r\n",
      "-rw-r-----  1 79ef3d4c3fb64a019fcb203a13a7f17e 79ef3d4c3fb64a019fcb203a13a7f17e  92542 May 20 09:16 Clustering.ipynb\r\n",
      "-rw-r-----  1 79ef3d4c3fb64a019fcb203a13a7f17e 79ef3d4c3fb64a019fcb203a13a7f17e   5632 May 20 09:16 .Clustering.ipynb.sage-jupyter\r\n",
      "-rw-r-----  1 79ef3d4c3fb64a019fcb203a13a7f17e 79ef3d4c3fb64a019fcb203a13a7f17e  46048 May 30 21:39 Command Line.ipynb\r\n",
      "-rw-r-----  1 79ef3d4c3fb64a019fcb203a13a7f17e 79ef3d4c3fb64a019fcb203a13a7f17e  40238 May 30 21:45 .Command Line.ipynb.sage-jupyter\r\n",
      "-rw-r-----  1 79ef3d4c3fb64a019fcb203a13a7f17e 79ef3d4c3fb64a019fcb203a13a7f17e    668 May 26 14:46 .Cross-validation.ipynb.sage-jupyter\r\n",
      "-rw-r-----  1 79ef3d4c3fb64a019fcb203a13a7f17e 79ef3d4c3fb64a019fcb203a13a7f17e 220859 May 16 13:52 Dataframe.ipynb\r\n",
      "-rw-r-----  1 79ef3d4c3fb64a019fcb203a13a7f17e 79ef3d4c3fb64a019fcb203a13a7f17e  31722 May 16 13:52 Dates.ipynb\r\n",
      "drwxr-x---  2 79ef3d4c3fb64a019fcb203a13a7f17e 79ef3d4c3fb64a019fcb203a13a7f17e   4096 May 22 08:42 \u001b[01;34mdati\u001b[0m/\r\n",
      "-rw-r-----  1 79ef3d4c3fb64a019fcb203a13a7f17e 79ef3d4c3fb64a019fcb203a13a7f17e  56340 May 25 15:38 Decision Trees.ipynb\r\n",
      "-rw-r-----  1 79ef3d4c3fb64a019fcb203a13a7f17e 79ef3d4c3fb64a019fcb203a13a7f17e   7149 May 25 15:38 .Decision Trees.ipynb.sage-jupyter\r\n",
      "-rw-r-----  1 79ef3d4c3fb64a019fcb203a13a7f17e 79ef3d4c3fb64a019fcb203a13a7f17e   4489 May 16 13:52 Distributions and sampling.ipynb\r\n",
      "-rw-r-----  1 79ef3d4c3fb64a019fcb203a13a7f17e 79ef3d4c3fb64a019fcb203a13a7f17e   1024 May 27 09:52 .fie.txt.swp\r\n",
      "-rw-r-----  1 79ef3d4c3fb64a019fcb203a13a7f17e 79ef3d4c3fb64a019fcb203a13a7f17e   1024 May 27 09:53 .file.txt.swp\r\n",
      "-rw-r-----  1 79ef3d4c3fb64a019fcb203a13a7f17e 79ef3d4c3fb64a019fcb203a13a7f17e   3486 May 21 16:04 .Gradient Descent.ipynb.sage-jupyter\r\n",
      "drwxr-x---  2 79ef3d4c3fb64a019fcb203a13a7f17e 79ef3d4c3fb64a019fcb203a13a7f17e   4096 May 27 07:18 \u001b[01;34m.ipynb_checkpoints\u001b[0m/\r\n",
      "-rw-r-----  1 79ef3d4c3fb64a019fcb203a13a7f17e 79ef3d4c3fb64a019fcb203a13a7f17e  25625 May 20 08:56 Linear Regression.ipynb\r\n",
      "-rw-r-----  1 79ef3d4c3fb64a019fcb203a13a7f17e 79ef3d4c3fb64a019fcb203a13a7f17e   5020 May 20 08:58 .Linear Regression.ipynb.sage-jupyter\r\n",
      "-rw-r-----  1 79ef3d4c3fb64a019fcb203a13a7f17e 79ef3d4c3fb64a019fcb203a13a7f17e      0 May 27 07:17 .Line command.ipynb.sage-jupyter\r\n",
      "-rw-r-----  1 79ef3d4c3fb64a019fcb203a13a7f17e 79ef3d4c3fb64a019fcb203a13a7f17e  69680 May 16 13:52 Logistic Regression.ipynb\r\n",
      "-rw-r-----  1 79ef3d4c3fb64a019fcb203a13a7f17e 79ef3d4c3fb64a019fcb203a13a7f17e  21277 May 16 13:52 Matplotlib_2.ipynb\r\n",
      "-rw-r-----  1 79ef3d4c3fb64a019fcb203a13a7f17e 79ef3d4c3fb64a019fcb203a13a7f17e  18358 May 16 13:52 Matplotlib.ipynb\r\n",
      "-rw-r-----  1 79ef3d4c3fb64a019fcb203a13a7f17e 79ef3d4c3fb64a019fcb203a13a7f17e 241335 May 16 13:52 Missing values.ipynb\r\n",
      "-rw-r-----  1 79ef3d4c3fb64a019fcb203a13a7f17e 79ef3d4c3fb64a019fcb203a13a7f17e  85991 May 16 14:42 Multiclass Classification.ipynb\r\n",
      "-rw-r-----  1 79ef3d4c3fb64a019fcb203a13a7f17e 79ef3d4c3fb64a019fcb203a13a7f17e   8531 May 16 14:42 .Multiclass Classification.ipynb.sage-jupyter\r\n",
      "-rw-r-----  1 79ef3d4c3fb64a019fcb203a13a7f17e 79ef3d4c3fb64a019fcb203a13a7f17e   1909 May 21 18:13 .Neural Networks.ipynb.sage-jupyter\r\n",
      "-rw-r-----  1 79ef3d4c3fb64a019fcb203a13a7f17e 79ef3d4c3fb64a019fcb203a13a7f17e   7272 May 21 16:22 Normalization-Standardization.ipynb\r\n",
      "-rw-r-----  1 79ef3d4c3fb64a019fcb203a13a7f17e 79ef3d4c3fb64a019fcb203a13a7f17e   3372 May 21 16:22 .Normalization-Standardization.ipynb.sage-jupyter\r\n",
      "-rw-r-----  1 79ef3d4c3fb64a019fcb203a13a7f17e 79ef3d4c3fb64a019fcb203a13a7f17e   9075 May 16 13:52 Numpy.ipynb\r\n",
      "-rw-r-----  1 79ef3d4c3fb64a019fcb203a13a7f17e 79ef3d4c3fb64a019fcb203a13a7f17e 277315 May 16 13:52 Pandas.ipynb\r\n",
      "-rw-r-----  1 79ef3d4c3fb64a019fcb203a13a7f17e 79ef3d4c3fb64a019fcb203a13a7f17e  11134 May 16 13:52 Random Forest.ipynb\r\n",
      "-rw-r-----  1 79ef3d4c3fb64a019fcb203a13a7f17e 79ef3d4c3fb64a019fcb203a13a7f17e  31204 May 16 13:52 Regression-basics.ipynb\r\n",
      "-rw-r-----  1 79ef3d4c3fb64a019fcb203a13a7f17e 79ef3d4c3fb64a019fcb203a13a7f17e   6610 May 16 13:52 Regular Expressions.ipynb\r\n",
      "-rw-r-----  1 79ef3d4c3fb64a019fcb203a13a7f17e 79ef3d4c3fb64a019fcb203a13a7f17e  18862 May 26 15:00 roc_curve.ipynb\r\n",
      "-rw-r-----  1 79ef3d4c3fb64a019fcb203a13a7f17e 79ef3d4c3fb64a019fcb203a13a7f17e   3628 May 26 15:00 .roc_curve.ipynb.sage-jupyter\r\n",
      "-rw-r-----  1 79ef3d4c3fb64a019fcb203a13a7f17e 79ef3d4c3fb64a019fcb203a13a7f17e  58600 May 16 13:52 Seaborn.ipynb\r\n",
      "-rw-r-----  1 79ef3d4c3fb64a019fcb203a13a7f17e 79ef3d4c3fb64a019fcb203a13a7f17e  38507 May 16 13:52 Series.ipynb\r\n",
      "-rw-r-----  1 79ef3d4c3fb64a019fcb203a13a7f17e 79ef3d4c3fb64a019fcb203a13a7f17e   9680 May 16 13:52 Statistical indicators.ipynb\r\n",
      "-rw-r-----  1 79ef3d4c3fb64a019fcb203a13a7f17e 79ef3d4c3fb64a019fcb203a13a7f17e      0 May 20 08:54 .Statistical indicators.ipynb.sage-jupyter\r\n",
      "drwxr-x---  2 79ef3d4c3fb64a019fcb203a13a7f17e 79ef3d4c3fb64a019fcb203a13a7f17e   4096 May 30 08:52 \u001b[01;34mtest\u001b[0m/\r\n",
      "-rw-r-----  1 79ef3d4c3fb64a019fcb203a13a7f17e 79ef3d4c3fb64a019fcb203a13a7f17e   2878 May 16 13:52 The CSV module.ipynb\r\n",
      "-rw-r-----  1 79ef3d4c3fb64a019fcb203a13a7f17e 79ef3d4c3fb64a019fcb203a13a7f17e   1854 May 16 13:52 Train - Test set split.ipynb\r\n"
     ]
    }
   ],
   "source": [
    "ls -l -a"
   ]
  },
  {
   "cell_type": "code",
   "execution_count": 30,
   "metadata": {
    "collapsed": false
   },
   "outputs": [
    {
     "name": "stdout",
     "output_type": "stream",
     "text": [
      "\u001b[0m\u001b[01;34m.\u001b[0m/\r\n",
      "\u001b[01;34m..\u001b[0m/\r\n",
      "Avengers.ipynb\r\n",
      "Class.ipynb\r\n",
      "Clustering.ipynb\r\n",
      ".Clustering.ipynb.sage-jupyter\r\n",
      "Command Line.ipynb\r\n",
      ".Command Line.ipynb.sage-jupyter\r\n",
      ".Cross-validation.ipynb.sage-jupyter\r\n",
      "Dataframe.ipynb\r\n",
      "Dates.ipynb\r\n",
      "\u001b[01;34mdati\u001b[0m/\r\n",
      "Decision Trees.ipynb\r\n",
      ".Decision Trees.ipynb.sage-jupyter\r\n",
      "Distributions and sampling.ipynb\r\n",
      ".fie.txt.swp\r\n",
      ".file.txt.swp\r\n",
      ".Gradient Descent.ipynb.sage-jupyter\r\n",
      "\u001b[01;34m.ipynb_checkpoints\u001b[0m/\r\n",
      "Linear Regression.ipynb\r\n",
      ".Linear Regression.ipynb.sage-jupyter\r\n",
      ".Line command.ipynb.sage-jupyter\r\n",
      "Logistic Regression.ipynb\r\n",
      "Matplotlib_2.ipynb\r\n",
      "Matplotlib.ipynb\r\n",
      "Missing values.ipynb\r\n",
      "Multiclass Classification.ipynb\r\n",
      ".Multiclass Classification.ipynb.sage-jupyter\r\n",
      ".Neural Networks.ipynb.sage-jupyter\r\n",
      "Normalization-Standardization.ipynb\r\n",
      ".Normalization-Standardization.ipynb.sage-jupyter\r\n",
      "Numpy.ipynb\r\n",
      "Pandas.ipynb\r\n",
      "Random Forest.ipynb\r\n",
      "Regression-basics.ipynb\r\n",
      "Regular Expressions.ipynb\r\n",
      "roc_curve.ipynb\r\n",
      ".roc_curve.ipynb.sage-jupyter\r\n",
      "Seaborn.ipynb\r\n",
      "Series.ipynb\r\n",
      "Statistical indicators.ipynb\r\n",
      ".Statistical indicators.ipynb.sage-jupyter\r\n",
      "\u001b[01;34mtest\u001b[0m/\r\n",
      "The CSV module.ipynb\r\n",
      "Train - Test set split.ipynb\r\n"
     ]
    }
   ],
   "source": [
    "ls -a"
   ]
  },
  {
   "cell_type": "markdown",
   "metadata": {},
   "source": [
    "You can specify longer flags with two dashes. One such longer flag for ls is --ignore. Using ls --ignore=test.txt won't list any files named test.txt in the output of ls."
   ]
  },
  {
   "cell_type": "code",
   "execution_count": 31,
   "metadata": {
    "collapsed": false
   },
   "outputs": [
    {
     "name": "stdout",
     "output_type": "stream",
     "text": [
      "total 1588\r\n",
      "drwxr-x---  5 79ef3d4c3fb64a019fcb203a13a7f17e 79ef3d4c3fb64a019fcb203a13a7f17e   4096 May 30 21:46 \u001b[0m\u001b[01;34m.\u001b[0m/\r\n",
      "drwx------ 14 79ef3d4c3fb64a019fcb203a13a7f17e 79ef3d4c3fb64a019fcb203a13a7f17e   4096 May 30 18:38 \u001b[01;34m..\u001b[0m/\r\n",
      "-rw-r-----  1 79ef3d4c3fb64a019fcb203a13a7f17e 79ef3d4c3fb64a019fcb203a13a7f17e  28297 May 16 13:51 Avengers.ipynb\r\n",
      "-rw-r-----  1 79ef3d4c3fb64a019fcb203a13a7f17e 79ef3d4c3fb64a019fcb203a13a7f17e   1824 May 16 13:52 Class.ipynb\r\n",
      "-rw-r-----  1 79ef3d4c3fb64a019fcb203a13a7f17e 79ef3d4c3fb64a019fcb203a13a7f17e  92542 May 20 09:16 Clustering.ipynb\r\n",
      "-rw-r-----  1 79ef3d4c3fb64a019fcb203a13a7f17e 79ef3d4c3fb64a019fcb203a13a7f17e   5632 May 20 09:16 .Clustering.ipynb.sage-jupyter\r\n",
      "-rw-r-----  1 79ef3d4c3fb64a019fcb203a13a7f17e 79ef3d4c3fb64a019fcb203a13a7f17e  61705 May 30 21:46 Command Line.ipynb\r\n",
      "-rw-r-----  1 79ef3d4c3fb64a019fcb203a13a7f17e 79ef3d4c3fb64a019fcb203a13a7f17e  53697 May 30 21:47 .Command Line.ipynb.sage-jupyter\r\n",
      "-rw-r-----  1 79ef3d4c3fb64a019fcb203a13a7f17e 79ef3d4c3fb64a019fcb203a13a7f17e    668 May 26 14:46 .Cross-validation.ipynb.sage-jupyter\r\n",
      "-rw-r-----  1 79ef3d4c3fb64a019fcb203a13a7f17e 79ef3d4c3fb64a019fcb203a13a7f17e 220859 May 16 13:52 Dataframe.ipynb\r\n",
      "-rw-r-----  1 79ef3d4c3fb64a019fcb203a13a7f17e 79ef3d4c3fb64a019fcb203a13a7f17e  31722 May 16 13:52 Dates.ipynb\r\n",
      "drwxr-x---  2 79ef3d4c3fb64a019fcb203a13a7f17e 79ef3d4c3fb64a019fcb203a13a7f17e   4096 May 22 08:42 \u001b[01;34mdati\u001b[0m/\r\n",
      "-rw-r-----  1 79ef3d4c3fb64a019fcb203a13a7f17e 79ef3d4c3fb64a019fcb203a13a7f17e  56340 May 25 15:38 Decision Trees.ipynb\r\n",
      "-rw-r-----  1 79ef3d4c3fb64a019fcb203a13a7f17e 79ef3d4c3fb64a019fcb203a13a7f17e   7149 May 25 15:38 .Decision Trees.ipynb.sage-jupyter\r\n",
      "-rw-r-----  1 79ef3d4c3fb64a019fcb203a13a7f17e 79ef3d4c3fb64a019fcb203a13a7f17e   4489 May 16 13:52 Distributions and sampling.ipynb\r\n",
      "-rw-r-----  1 79ef3d4c3fb64a019fcb203a13a7f17e 79ef3d4c3fb64a019fcb203a13a7f17e   1024 May 27 09:52 .fie.txt.swp\r\n",
      "-rw-r-----  1 79ef3d4c3fb64a019fcb203a13a7f17e 79ef3d4c3fb64a019fcb203a13a7f17e   1024 May 27 09:53 .file.txt.swp\r\n",
      "-rw-r-----  1 79ef3d4c3fb64a019fcb203a13a7f17e 79ef3d4c3fb64a019fcb203a13a7f17e   3486 May 21 16:04 .Gradient Descent.ipynb.sage-jupyter\r\n",
      "drwxr-x---  2 79ef3d4c3fb64a019fcb203a13a7f17e 79ef3d4c3fb64a019fcb203a13a7f17e   4096 May 27 07:18 \u001b[01;34m.ipynb_checkpoints\u001b[0m/\r\n",
      "-rw-r-----  1 79ef3d4c3fb64a019fcb203a13a7f17e 79ef3d4c3fb64a019fcb203a13a7f17e  25625 May 20 08:56 Linear Regression.ipynb\r\n",
      "-rw-r-----  1 79ef3d4c3fb64a019fcb203a13a7f17e 79ef3d4c3fb64a019fcb203a13a7f17e   5020 May 20 08:58 .Linear Regression.ipynb.sage-jupyter\r\n",
      "-rw-r-----  1 79ef3d4c3fb64a019fcb203a13a7f17e 79ef3d4c3fb64a019fcb203a13a7f17e      0 May 27 07:17 .Line command.ipynb.sage-jupyter\r\n",
      "-rw-r-----  1 79ef3d4c3fb64a019fcb203a13a7f17e 79ef3d4c3fb64a019fcb203a13a7f17e  69680 May 16 13:52 Logistic Regression.ipynb\r\n",
      "-rw-r-----  1 79ef3d4c3fb64a019fcb203a13a7f17e 79ef3d4c3fb64a019fcb203a13a7f17e  21277 May 16 13:52 Matplotlib_2.ipynb\r\n",
      "-rw-r-----  1 79ef3d4c3fb64a019fcb203a13a7f17e 79ef3d4c3fb64a019fcb203a13a7f17e  18358 May 16 13:52 Matplotlib.ipynb\r\n",
      "-rw-r-----  1 79ef3d4c3fb64a019fcb203a13a7f17e 79ef3d4c3fb64a019fcb203a13a7f17e 241335 May 16 13:52 Missing values.ipynb\r\n",
      "-rw-r-----  1 79ef3d4c3fb64a019fcb203a13a7f17e 79ef3d4c3fb64a019fcb203a13a7f17e  85991 May 16 14:42 Multiclass Classification.ipynb\r\n",
      "-rw-r-----  1 79ef3d4c3fb64a019fcb203a13a7f17e 79ef3d4c3fb64a019fcb203a13a7f17e   8531 May 16 14:42 .Multiclass Classification.ipynb.sage-jupyter\r\n",
      "-rw-r-----  1 79ef3d4c3fb64a019fcb203a13a7f17e 79ef3d4c3fb64a019fcb203a13a7f17e   1909 May 21 18:13 .Neural Networks.ipynb.sage-jupyter\r\n",
      "-rw-r-----  1 79ef3d4c3fb64a019fcb203a13a7f17e 79ef3d4c3fb64a019fcb203a13a7f17e   7272 May 21 16:22 Normalization-Standardization.ipynb\r\n",
      "-rw-r-----  1 79ef3d4c3fb64a019fcb203a13a7f17e 79ef3d4c3fb64a019fcb203a13a7f17e   3372 May 21 16:22 .Normalization-Standardization.ipynb.sage-jupyter\r\n",
      "-rw-r-----  1 79ef3d4c3fb64a019fcb203a13a7f17e 79ef3d4c3fb64a019fcb203a13a7f17e   9075 May 16 13:52 Numpy.ipynb\r\n",
      "-rw-r-----  1 79ef3d4c3fb64a019fcb203a13a7f17e 79ef3d4c3fb64a019fcb203a13a7f17e 277315 May 16 13:52 Pandas.ipynb\r\n",
      "-rw-r-----  1 79ef3d4c3fb64a019fcb203a13a7f17e 79ef3d4c3fb64a019fcb203a13a7f17e  11134 May 16 13:52 Random Forest.ipynb\r\n",
      "-rw-r-----  1 79ef3d4c3fb64a019fcb203a13a7f17e 79ef3d4c3fb64a019fcb203a13a7f17e  31204 May 16 13:52 Regression-basics.ipynb\r\n",
      "-rw-r-----  1 79ef3d4c3fb64a019fcb203a13a7f17e 79ef3d4c3fb64a019fcb203a13a7f17e   6610 May 16 13:52 Regular Expressions.ipynb\r\n",
      "-rw-r-----  1 79ef3d4c3fb64a019fcb203a13a7f17e 79ef3d4c3fb64a019fcb203a13a7f17e  18862 May 26 15:00 roc_curve.ipynb\r\n",
      "-rw-r-----  1 79ef3d4c3fb64a019fcb203a13a7f17e 79ef3d4c3fb64a019fcb203a13a7f17e   3628 May 26 15:00 .roc_curve.ipynb.sage-jupyter\r\n",
      "-rw-r-----  1 79ef3d4c3fb64a019fcb203a13a7f17e 79ef3d4c3fb64a019fcb203a13a7f17e  58600 May 16 13:52 Seaborn.ipynb\r\n",
      "-rw-r-----  1 79ef3d4c3fb64a019fcb203a13a7f17e 79ef3d4c3fb64a019fcb203a13a7f17e  38507 May 16 13:52 Series.ipynb\r\n",
      "-rw-r-----  1 79ef3d4c3fb64a019fcb203a13a7f17e 79ef3d4c3fb64a019fcb203a13a7f17e   9680 May 16 13:52 Statistical indicators.ipynb\r\n",
      "-rw-r-----  1 79ef3d4c3fb64a019fcb203a13a7f17e 79ef3d4c3fb64a019fcb203a13a7f17e      0 May 20 08:54 .Statistical indicators.ipynb.sage-jupyter\r\n",
      "drwxr-x---  2 79ef3d4c3fb64a019fcb203a13a7f17e 79ef3d4c3fb64a019fcb203a13a7f17e   4096 May 30 08:52 \u001b[01;34mtest\u001b[0m/\r\n",
      "-rw-r-----  1 79ef3d4c3fb64a019fcb203a13a7f17e 79ef3d4c3fb64a019fcb203a13a7f17e   2878 May 16 13:52 The CSV module.ipynb\r\n",
      "-rw-r-----  1 79ef3d4c3fb64a019fcb203a13a7f17e 79ef3d4c3fb64a019fcb203a13a7f17e   1854 May 16 13:52 Train - Test set split.ipynb\r\n"
     ]
    }
   ],
   "source": [
    "ls -al --ignore=file.txt"
   ]
  },
  {
   "cell_type": "code",
   "execution_count": 32,
   "metadata": {
    "collapsed": false
   },
   "outputs": [
    {
     "name": "stdout",
     "output_type": "stream",
     "text": [
      "\u001b[0m\u001b[01;34m.\u001b[0m/\r\n",
      "\u001b[01;34m..\u001b[0m/\r\n",
      "Avengers.ipynb\r\n",
      "Class.ipynb\r\n",
      "Clustering.ipynb\r\n",
      ".Clustering.ipynb.sage-jupyter\r\n",
      "Command Line.ipynb\r\n",
      ".Command Line.ipynb.sage-jupyter\r\n",
      ".Cross-validation.ipynb.sage-jupyter\r\n",
      "Dataframe.ipynb\r\n",
      "Dates.ipynb\r\n",
      "\u001b[01;34mdati\u001b[0m/\r\n",
      "Decision Trees.ipynb\r\n",
      ".Decision Trees.ipynb.sage-jupyter\r\n",
      "Distributions and sampling.ipynb\r\n",
      ".fie.txt.swp\r\n",
      ".file.txt.swp\r\n",
      ".Gradient Descent.ipynb.sage-jupyter\r\n",
      "\u001b[01;34m.ipynb_checkpoints\u001b[0m/\r\n",
      "Linear Regression.ipynb\r\n",
      ".Linear Regression.ipynb.sage-jupyter\r\n",
      ".Line command.ipynb.sage-jupyter\r\n",
      "Logistic Regression.ipynb\r\n",
      "Matplotlib_2.ipynb\r\n",
      "Matplotlib.ipynb\r\n",
      "Missing values.ipynb\r\n",
      "Multiclass Classification.ipynb\r\n",
      ".Multiclass Classification.ipynb.sage-jupyter\r\n",
      ".Neural Networks.ipynb.sage-jupyter\r\n",
      "Normalization-Standardization.ipynb\r\n",
      ".Normalization-Standardization.ipynb.sage-jupyter\r\n",
      "Numpy.ipynb\r\n",
      "Pandas.ipynb\r\n",
      "Random Forest.ipynb\r\n",
      "Regression-basics.ipynb\r\n",
      "Regular Expressions.ipynb\r\n",
      "roc_curve.ipynb\r\n",
      ".roc_curve.ipynb.sage-jupyter\r\n",
      "Seaborn.ipynb\r\n",
      "Series.ipynb\r\n",
      "Statistical indicators.ipynb\r\n",
      ".Statistical indicators.ipynb.sage-jupyter\r\n",
      "\u001b[01;34mtest\u001b[0m/\r\n",
      "The CSV module.ipynb\r\n",
      "Train - Test set split.ipynb\r\n"
     ]
    }
   ],
   "source": [
    "ls --all"
   ]
  },
  {
   "cell_type": "code",
   "execution_count": null,
   "metadata": {
    "collapsed": true
   },
   "outputs": [],
   "source": []
  }
 ],
 "metadata": {
  "kernelspec": {
   "display_name": "Python 2 (SageMath)",
   "language": "python",
   "name": "python2"
  },
  "language_info": {
   "codemirror_mode": {
    "name": "ipython",
    "version": 2
   },
   "file_extension": ".py",
   "mimetype": "text/x-python",
   "name": "python",
   "nbconvert_exporter": "python",
   "pygments_lexer": "ipython2",
   "version": "2.7.10"
  }
 },
 "nbformat": 4,
 "nbformat_minor": 0
}
