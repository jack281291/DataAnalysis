{
 "cells": [
  {
   "cell_type": "markdown",
   "metadata": {
    "collapsed": true
   },
   "source": [
    "## Performance and Code Optimization"
   ]
  },
  {
   "cell_type": "markdown",
   "metadata": {},
   "source": [
    "Occasionally the performance of a direct implementation of a statistical algorithm will not execute quickly\n",
    "enough be applied to interesting data sets. When this occurs, there are a number of alternatives ranging\n",
    "from improvements possible using only NumPy and Python to using native code through a Python mod-\n",
    "ule.\n",
    "Note that before any code optimization, it is essential that a clean, working implementation is avail-\n",
    "able. This allows for both measuring performance improvements and to ensure that optimizations have\n",
    "not introduced any bugs."
   ]
  },
  {
   "cell_type": "markdown",
   "metadata": {},
   "source": [
    "Timing code is an important step in measuring performance. IPython contains the magic keywords %timeit and %time which can be used to measure the execution time of a block of code. %time simply runs the code and reports the time needed."
   ]
  },
  {
   "cell_type": "code",
   "execution_count": 16,
   "metadata": {
    "collapsed": true
   },
   "outputs": [],
   "source": [
    "import random\n",
    "import numpy as np\n",
    "import pandas as pd"
   ]
  },
  {
   "cell_type": "code",
   "execution_count": 17,
   "metadata": {
    "collapsed": false
   },
   "outputs": [
    {
     "name": "stdout",
     "output_type": "stream",
     "text": [
      "CPU times: user 3 µs, sys: 3 µs, total: 6 µs\n",
      "Wall time: 11 µs\n"
     ]
    }
   ],
   "source": [
    "%time\n",
    "c = 0\n",
    "for i in range(1000):\n",
    "    c += 1"
   ]
  },
  {
   "cell_type": "markdown",
   "metadata": {},
   "source": [
    "###  Profile Long Running Functions"
   ]
  },
  {
   "cell_type": "markdown",
   "metadata": {},
   "source": [
    "Profiling provides detailed information about the number of times a line is executed as well as the exe-\n",
    "cution time spent on each line. The default Python profiling tools are not adequate to address all perfor-\n",
    "mance measurement issues in NumPy code, and so a third party library known as line_profiler is needed.\n",
    "line_profiler is not currently available in Anaconda and so it must be installed before use. "
   ]
  },
  {
   "cell_type": "code",
   "execution_count": 18,
   "metadata": {
    "collapsed": false
   },
   "outputs": [
    {
     "name": "stdout",
     "output_type": "stream",
     "text": [
      "Requirement already satisfied (use --upgrade to upgrade): line_profiler in ./.virtualenv/python2/lib/python2.7/site-packages\r\n"
     ]
    }
   ],
   "source": [
    "!pip install line_profiler"
   ]
  },
  {
   "cell_type": "markdown",
   "metadata": {},
   "source": [
    "The simplest method to profile function is to use IPython. This requires a small amount of setup to define\n",
    "a new magic word,\n",
    "%lprun\n",
    "."
   ]
  },
  {
   "cell_type": "code",
   "execution_count": 19,
   "metadata": {
    "collapsed": false
   },
   "outputs": [],
   "source": [
    "import IPython, line_profiler"
   ]
  },
  {
   "cell_type": "code",
   "execution_count": 20,
   "metadata": {
    "collapsed": true
   },
   "outputs": [],
   "source": [
    "ip = IPython.get_ipython()"
   ]
  },
  {
   "cell_type": "code",
   "execution_count": 21,
   "metadata": {
    "collapsed": false
   },
   "outputs": [],
   "source": [
    "ip.define_magic('lprun', line_profiler.magic_lprun)"
   ]
  },
  {
   "cell_type": "code",
   "execution_count": 22,
   "metadata": {
    "collapsed": false
   },
   "outputs": [],
   "source": [
    "glass_data = pd.read_csv('data/dati/glass.data.csv')"
   ]
  },
  {
   "cell_type": "code",
   "execution_count": 23,
   "metadata": {
    "collapsed": true
   },
   "outputs": [],
   "source": [
    "def test_1(x,y):\n",
    "    z = x + y\n",
    "    u = x*y\n",
    "    return z*u"
   ]
  },
  {
   "cell_type": "code",
   "execution_count": 24,
   "metadata": {
    "collapsed": true
   },
   "outputs": [],
   "source": [
    "%lprun test_1(1,2)"
   ]
  },
  {
   "cell_type": "markdown",
   "metadata": {},
   "source": [
    "#### Use always xrange to be faster"
   ]
  },
  {
   "cell_type": "markdown",
   "metadata": {},
   "source": [
    "## Executing Code in Parallel"
   ]
  },
  {
   "cell_type": "markdown",
   "metadata": {},
   "source": [
    "### map and related functions"
   ]
  },
  {
   "cell_type": "markdown",
   "metadata": {},
   "source": [
    "map\n",
    "is a built-in method to apply a function to a generic iterable.  It is used as\n",
    "map(\n",
    "function\n",
    ",\n",
    "iterable\n",
    ")\n",
    ",\n",
    "and returns a list containing the results of applying\n",
    "function\n",
    "to each item of\n",
    "iterable\n",
    ". The list returned can\n",
    "be either a simple list if the function returns a single item, or a list of tuples if the function returns more\n",
    "than 1 value."
   ]
  },
  {
   "cell_type": "code",
   "execution_count": 25,
   "metadata": {
    "collapsed": true
   },
   "outputs": [],
   "source": [
    "def powers(x):\n",
    "    return x**2,x**3,x**4"
   ]
  },
  {
   "cell_type": "code",
   "execution_count": 26,
   "metadata": {
    "collapsed": false
   },
   "outputs": [
    {
     "data": {
      "text/plain": [
       "[(1.0, 1.0, 1.0), (4.0, 8.0, 16.0), (9.0, 27.0, 81.0), (16.0, 64.0, 256.0)]"
      ]
     },
     "execution_count": 26,
     "metadata": {},
     "output_type": "execute_result"
    }
   ],
   "source": [
    "y = [1.0, 2.0, 3.0, 4.0]\n",
    "map(powers, y)"
   ]
  },
  {
   "cell_type": "markdown",
   "metadata": {},
   "source": [
    "map\n",
    "can be used with more than 1 iterable, in which case it iterates using the length of the longest iterable.\n",
    "If one of the iterable is shorter than the other(s), then it is extended with\n",
    "None\n",
    ". It is usually best practice to\n",
    "ensure that all iterables have the same length before using\n",
    "map\n",
    "."
   ]
  },
  {
   "cell_type": "code",
   "execution_count": 27,
   "metadata": {
    "collapsed": false
   },
   "outputs": [],
   "source": [
    "def powers(x,y):\n",
    "    if x is None or y is None:\n",
    "        return None\n",
    "    else:\n",
    "        return x**2,x*y,y**2"
   ]
  },
  {
   "cell_type": "code",
   "execution_count": 28,
   "metadata": {
    "collapsed": false
   },
   "outputs": [
    {
     "data": {
      "text/plain": [
       "[(100.0, 10.0, 1.0), (400.0, 40.0, 4.0), (900.0, 90.0, 9.0), None]"
      ]
     },
     "execution_count": 28,
     "metadata": {},
     "output_type": "execute_result"
    }
   ],
   "source": [
    "x = [10.0, 20.0, 30.0]\n",
    "y = [1.0, 2.0, 3.0, 4.0]\n",
    "map(powers, x, y)"
   ]
  },
  {
   "cell_type": "markdown",
   "metadata": {},
   "source": [
    "A\n",
    "related function is\n",
    "zip\n",
    "which\n",
    "combines two or more lists into a single list of tuples. It is similar to calling\n",
    "map\n",
    "except that it will stop at the end of the shortest iterable, rather than extending using\n",
    "None\n",
    "."
   ]
  },
  {
   "cell_type": "code",
   "execution_count": 29,
   "metadata": {
    "collapsed": false
   },
   "outputs": [
    {
     "data": {
      "text/plain": [
       "[(10.0, 1.0), (20.0, 2.0), (30.0, 3.0)]"
      ]
     },
     "execution_count": 29,
     "metadata": {},
     "output_type": "execute_result"
    }
   ],
   "source": [
    "x = [10.0, 20.0, 30.0]\n",
    "y = [1.0, 2.0, 3.0, 4.0]\n",
    "zip(x, y)"
   ]
  },
  {
   "cell_type": "markdown",
   "metadata": {},
   "source": [
    "### multiprocessing"
   ]
  },
  {
   "cell_type": "markdown",
   "metadata": {},
   "source": [
    "The\n",
    "real advantage of\n",
    "map\n",
    "over list comprehensions is that it can be combined with the\n",
    "multiprocessing\n",
    "module to run code on more than 1 (local) processor.\n",
    "Note that on Windows, the\n",
    "multiprocessing\n",
    "module\n",
    "does not work correctly in IPython, and so it is necessary to use stand-alone Python programs.\n",
    "multiprocessing\n",
    "includes a\n",
    "map\n",
    "function which is similar to that in the standard Python distribution except that it exe-\n",
    "cutes using a\n",
    "Pool\n",
    "rather than on a single processor. The performance gains to using a\n",
    "Pool\n",
    "may be large,\n",
    "and should be close to the number of pool processes if code execution is completely independent (which\n",
    "should be less than or equal to the number of physical processors on a system).\n",
    "This example uses\n",
    "multiprocessing\n",
    "to compute critical values for a non-standard distribution and\n",
    "is illustrative of a Monte Carlo-like setup.   The program has the standard set of imports including the\n",
    "multiprocessing\n",
    "module."
   ]
  },
  {
   "cell_type": "code",
   "execution_count": 30,
   "metadata": {
    "collapsed": true
   },
   "outputs": [],
   "source": [
    "import multiprocessing as mp"
   ]
  },
  {
   "cell_type": "markdown",
   "metadata": {},
   "source": [
    "U\n",
    "sing\n",
    "multiprocessing\n",
    "requires a\n",
    "__name__==\n",
    "’main’\n",
    "block in the function.   The main block does three\n",
    "things:\n",
    "1.  Compute the setup for the simulation.  This is done so that the the variables can be passed to the\n",
    "function executed in parallel.\n",
    "305\n",
    "2.  I\n",
    "nitialize the pool using\n",
    "mp.Pool(processes=2)\n",
    "(nor\n",
    "mally should use the same number as the num-\n",
    "ber of physical cores on the system)\n",
    "3.  Call\n",
    "map\n",
    "from the\n",
    "multiprocessing\n",
    "module>"
   ]
  },
  {
   "cell_type": "code",
   "execution_count": 31,
   "metadata": {
    "collapsed": true
   },
   "outputs": [],
   "source": [
    "def powers(x):\n",
    "    return x**2,x**3,x**4"
   ]
  },
  {
   "cell_type": "code",
   "execution_count": 32,
   "metadata": {
    "collapsed": false
   },
   "outputs": [
    {
     "name": "stdout",
     "output_type": "stream",
     "text": [
      "[(100.0, 1000.0, 10000.0), (400.0, 8000.0, 160000.0), (900.0, 27000.0, 810000.0)]\n"
     ]
    }
   ],
   "source": [
    "x = [10.0, 20.0, 30.0]\n",
    "po = mp.Pool(processes=4)\n",
    "res = po.map(powers, x)\n",
    "print(res)\n",
    "po.close()"
   ]
  },
  {
   "cell_type": "markdown",
   "metadata": {
    "collapsed": true
   },
   "source": [
    "### joblib"
   ]
  },
  {
   "cell_type": "markdown",
   "metadata": {},
   "source": [
    "joblib\n",
    "is\n",
    "a Python package that provides a simple interface to the\n",
    "multiprocessing\n",
    "module with a bet-\n",
    "ter syntax, especially for functions taking multiple arguments.  This improved syntax allow for some ar-\n",
    "guments to vary according to an index but others to stay fixed, which is not simple to handle in\n",
    "map\n",
    "(it\n",
    "requires setting up a tuple with the both the dynamic and fixed parameters).  It is not part of Anaconda,\n",
    "but can be easily installed using pip from the console:"
   ]
  },
  {
   "cell_type": "code",
   "execution_count": 33,
   "metadata": {
    "collapsed": false
   },
   "outputs": [
    {
     "name": "stdout",
     "output_type": "stream",
     "text": [
      "Requirement already satisfied (use --upgrade to upgrade): joblib in ./.virtualenv/python2/lib/python2.7/site-packages\r\n"
     ]
    }
   ],
   "source": [
    "!pip install joblib"
   ]
  },
  {
   "cell_type": "markdown",
   "metadata": {},
   "source": [
    "Using\n",
    "joblib\n",
    "is a two step process:\n",
    "1.  Produce a delayed version of the function to be called using\n",
    "delayed(\n",
    "func\n",
    ")\n",
    "2.  Call\n",
    "Parallel\n",
    "with\n",
    "a simple loop across iterations\n",
    "\n",
    "Parallel\n",
    "takes two sets of inputs. The first are options for use by\n",
    "Parallel\n",
    ", while the second is the func-\n",
    "tion and loop statement.  The most important options are\n",
    "n_jobs\n",
    "which sets the number of jobs (can be\n",
    "omitted to use all cores) and\n",
    "verbose\n",
    "which takes a non-negative integer and instructs\n",
    "joblib\n",
    "to produce\n",
    "some output about progress and expected completion time.  Reasonable values for\n",
    "verbose\n",
    "are typically\n",
    "between 5 and 10 – using 50 will produce an update on every job completion, while used 0 produces no\n",
    "output."
   ]
  },
  {
   "cell_type": "code",
   "execution_count": 34,
   "metadata": {
    "collapsed": true
   },
   "outputs": [],
   "source": [
    "from joblib import Parallel, delayed"
   ]
  },
  {
   "cell_type": "code",
   "execution_count": 35,
   "metadata": {
    "collapsed": false
   },
   "outputs": [],
   "source": [
    "func = delayed(powers)"
   ]
  },
  {
   "cell_type": "code",
   "execution_count": 38,
   "metadata": {
    "collapsed": false
   },
   "outputs": [
    {
     "name": "stderr",
     "output_type": "stream",
     "text": [
      "[Parallel(n_jobs=4)]: Batch computation too fast (0.0028s.) Setting batch_size=144.\n",
      "[Parallel(n_jobs=4)]: Done   5 tasks      | elapsed:    0.0s\n",
      "[Parallel(n_jobs=4)]: Done 1000 out of 1000 | elapsed:    0.0s finished\n"
     ]
    }
   ],
   "source": [
    "res = Parallel(n_jobs=4, verbose=10)(func(s) for s in xrange(1000))"
   ]
  },
  {
   "cell_type": "code",
   "execution_count": 40,
   "metadata": {
    "collapsed": true
   },
   "outputs": [],
   "source": [
    "def powers(x,y):\n",
    "    if x is None or y is None:\n",
    "        return None\n",
    "    else:\n",
    "        return x**2,x*y,y**2"
   ]
  },
  {
   "cell_type": "code",
   "execution_count": 41,
   "metadata": {
    "collapsed": true
   },
   "outputs": [],
   "source": [
    "func = delayed(powers)"
   ]
  },
  {
   "cell_type": "code",
   "execution_count": 44,
   "metadata": {
    "collapsed": false
   },
   "outputs": [
    {
     "name": "stderr",
     "output_type": "stream",
     "text": [
      "[Parallel(n_jobs=4)]: Batch computation too fast (0.0035s.) Setting batch_size=114.\n",
      "[Parallel(n_jobs=4)]: Done   5 tasks      | elapsed:    0.0s\n",
      "[Parallel(n_jobs=4)]: Batch computation too fast (0.0101s.) Setting batch_size=4526.\n",
      "[Parallel(n_jobs=4)]: Done 236 tasks      | elapsed:    0.0s\n",
      "[Parallel(n_jobs=4)]: Done 5446 tasks      | elapsed:    0.3s\n",
      "[Parallel(n_jobs=4)]: Done 37128 tasks      | elapsed:    1.1s\n",
      "[Parallel(n_jobs=4)]: Done 100000 out of 100000 | elapsed:    2.5s finished\n"
     ]
    }
   ],
   "source": [
    "res = Parallel(n_jobs=4, verbose=10)(func(s, t) for s in xrange(1000) for t in xrange(100))"
   ]
  }
 ],
 "metadata": {
  "kernelspec": {
   "display_name": "Python 3",
   "language": "python",
   "name": "python3"
  },
  "language_info": {
   "codemirror_mode": {
    "name": "ipython",
    "version": 3
   },
   "file_extension": ".py",
   "mimetype": "text/x-python",
   "name": "python",
   "nbconvert_exporter": "python",
   "pygments_lexer": "ipython3",
   "version": "3.5.2"
  },
  "widgets": {
   "state": {},
   "version": "1.1.2"
  }
 },
 "nbformat": 4,
 "nbformat_minor": 0
}
