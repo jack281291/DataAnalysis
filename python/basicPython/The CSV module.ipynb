{
 "cells": [
  {
   "cell_type": "markdown",
   "metadata": {},
   "source": [
    "# The CSV module"
   ]
  },
  {
   "cell_type": "markdown",
   "metadata": {},
   "source": [
    " The csv module contains a reader() function that takes a file object as its argument. The reader() function returns an object that represents our data.\n",
    " \n",
    "import csv\n",
    "f = open('nfl.csv')\n",
    "csvreader = csv.reader(f)\n",
    "nfl = list(csvreader)"
   ]
  },
  {
   "cell_type": "code",
   "execution_count": 4,
   "metadata": {
    "collapsed": false
   },
   "outputs": [],
   "source": [
    "import csv\n",
    "f = open(\"C:\\\\Users\\\\Antonio\\\\Documents\\\\MEGA\\\\script\\\\python\\\\dati\\\\pbp-2015.csv\")\n",
    "csvreader = csv.reader(f)\n",
    "nfl = list(csvreader)"
   ]
  },
  {
   "cell_type": "code",
   "execution_count": 5,
   "metadata": {
    "collapsed": false
   },
   "outputs": [
    {
     "data": {
      "text/plain": [
       "['GameId',\n",
       " 'GameDate',\n",
       " 'Quarter',\n",
       " 'Minute',\n",
       " 'Second',\n",
       " 'OffenseTeam',\n",
       " 'DefenseTeam',\n",
       " 'Down',\n",
       " 'ToGo',\n",
       " 'YardLine',\n",
       " '',\n",
       " 'SeriesFirstDown',\n",
       " '',\n",
       " 'NextScore',\n",
       " 'Description',\n",
       " 'TeamWin',\n",
       " '',\n",
       " '',\n",
       " 'SeasonYear',\n",
       " 'Yards',\n",
       " 'Formation',\n",
       " 'PlayType',\n",
       " 'IsRush',\n",
       " 'IsPass',\n",
       " 'IsIncomplete',\n",
       " 'IsTouchdown',\n",
       " 'PassType',\n",
       " 'IsSack',\n",
       " 'IsChallenge',\n",
       " 'IsChallengeReversed',\n",
       " 'Challenger',\n",
       " 'IsMeasurement',\n",
       " 'IsInterception',\n",
       " 'IsFumble',\n",
       " 'IsPenalty',\n",
       " 'IsTwoPointConversion',\n",
       " 'IsTwoPointConversionSuccessful',\n",
       " 'RushDirection',\n",
       " 'YardLineFixed',\n",
       " 'YardLineDirection',\n",
       " 'IsPenaltyAccepted',\n",
       " 'PenaltyTeam',\n",
       " 'IsNoPlay',\n",
       " 'PenaltyType',\n",
       " 'PenaltyYards']"
      ]
     },
     "execution_count": 5,
     "metadata": {},
     "output_type": "execute_result"
    }
   ],
   "source": [
    "nfl[0]"
   ]
  },
  {
   "cell_type": "code",
   "execution_count": null,
   "metadata": {
    "collapsed": true
   },
   "outputs": [],
   "source": []
  }
 ],
 "metadata": {
  "kernelspec": {
   "display_name": "Python 3",
   "language": "python",
   "name": "python3"
  },
  "language_info": {
   "codemirror_mode": {
    "name": "ipython",
    "version": 3
   },
   "file_extension": ".py",
   "mimetype": "text/x-python",
   "name": "python",
   "nbconvert_exporter": "python",
   "pygments_lexer": "ipython3",
   "version": "3.5.1"
  }
 },
 "nbformat": 4,
 "nbformat_minor": 0
}
