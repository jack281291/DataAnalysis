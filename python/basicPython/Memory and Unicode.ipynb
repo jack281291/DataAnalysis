{
 "cells": [
  {
   "cell_type": "markdown",
   "metadata": {
    "collapsed": false
   },
   "source": [
    "### Memory and Unicode"
   ]
  },
  {
   "cell_type": "markdown",
   "metadata": {},
   "source": [
    "Files are stored on hard drives. Hard drives allow you to save data, turn your computer off, and then access the data again later. Hard drives are commonly referred to as magnetic storage, and they store data onto magnetic strips. Magnetic strips can only contain a series of two values, up and down. Our entire csv file is stored to a hard drive the same way. You can't directly write strings such as the letter a to a hard disk -- you have to convert them to a series of magnetic ups and downs first.\n",
    "\n",
    "We can do this using a system called binary. In binary, the only valid numbers are 0 and 1. In our normal counting system, any digit from 0 to 9 is valid. Binary constrains the number of possible values, which means that we can easily store binary values on a hard disk.\n",
    "\n",
    "In the next few screens, we'll learn how to convert string values to binary values, and how to manipulate binary values."
   ]
  },
  {
   "cell_type": "code",
   "execution_count": 1,
   "metadata": {
    "collapsed": false
   },
   "outputs": [
    {
     "name": "stdout",
     "output_type": "stream",
     "text": [
      "2\n"
     ]
    }
   ],
   "source": [
    "# Let's say a is a binary number.  In python, we have to store binary numbers as strings\n",
    "# Trying to say b = 10 directly will assume base 10, so strings are needed\n",
    "b = \"10\"\n",
    "\n",
    "# We can convert b to a binary number from a string using the int function -- the optional second argument base is set to 2 (binary is base two)\n",
    "print(int(b, 2))"
   ]
  },
  {
   "cell_type": "code",
   "execution_count": 2,
   "metadata": {
    "collapsed": false
   },
   "outputs": [
    {
     "data": {
      "text/plain": [
       "'0b1010'"
      ]
     },
     "execution_count": 2,
     "metadata": {},
     "output_type": "execute_result"
    }
   ],
   "source": [
    "bin(10)"
   ]
  },
  {
   "cell_type": "code",
   "execution_count": null,
   "metadata": {
    "collapsed": true
   },
   "outputs": [],
   "source": []
  }
 ],
 "metadata": {
  "kernelspec": {
   "display_name": "Python 2 (SageMath)",
   "language": "python",
   "name": "python2"
  },
  "language_info": {
   "codemirror_mode": {
    "name": "ipython",
    "version": 2
   },
   "file_extension": ".py",
   "mimetype": "text/x-python",
   "name": "python",
   "nbconvert_exporter": "python",
   "pygments_lexer": "ipython2",
   "version": "2.7.10"
  }
 },
 "nbformat": 4,
 "nbformat_minor": 0
}
