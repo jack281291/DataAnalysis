{
 "cells": [
  {
   "cell_type": "markdown",
   "metadata": {},
   "source": [
    "# Regular Expressions"
   ]
  },
  {
   "cell_type": "markdown",
   "metadata": {},
   "source": [
    "A regular expression is a sequence of characters that describes a search pattern. In practice, we say that certain strings match a regular expression if the pattern can be found anywhere within those strings (as a substring). The simplest example of regular expressions is an ordinary sequence of characters. Any string that contains that sequence of characters, all adjacent and in the proper order, is said to match that regular expression. \n",
    "\n",
    "There are a number of special characters we can use in regular expressions, and they all change the way a pattern is interpretted. In Python, we use the re (https://docs.python.org/3/library/re.html) module to work with regular expressions.\n",
    "\n",
    "The special character \".\" is used to indicate that any character can be put in its place. Here are a few examples:\n",
    "\n",
    "'a.c' match: 'abc', 'asc', e così via\n",
    "\n",
    "We can use \"^\" to match the start of a string and \"$\" to match the end of string.\n",
    "\n",
    "\"^a\" will match all strings that start with \"a\".\n",
    "\n",
    "\"a$\" will match all strings that end with \"a\".\n",
    "\n",
    "strings = [\"better not put too much\", \"butter in the\", \"batter\"]\n",
    "bad_string = \"We also wouldn't want it to be bitter\"\n",
    "regex = \"^b.tter\" #prende tutti gli elementi di strings ma non bad_strings che non inizia con b"
   ]
  },
  {
   "cell_type": "code",
   "execution_count": 3,
   "metadata": {
    "collapsed": true
   },
   "outputs": [],
   "source": [
    "import re"
   ]
  },
  {
   "cell_type": "markdown",
   "metadata": {},
   "source": [
    "With re.search(regex, string), we can check if string is a match for regex. If it is, it will return a match object. If it isn't, it will return None. Both are strings.\n",
    "\n",
    "\"[bcr]at\" would be matched by strings with the substrings \"bat\", \"cat\", and \"rat\", but nothing else. We indicate that the first character in the regular expression can be either a \"b\", \"c\" or \"r\"."
   ]
  },
  {
   "cell_type": "code",
   "execution_count": 7,
   "metadata": {
    "collapsed": false
   },
   "outputs": [
    {
     "name": "stdout",
     "output_type": "stream",
     "text": [
      "<_sre.SRE_Match object; span=(0, 3), match='bat'>\n"
     ]
    }
   ],
   "source": [
    "print(re.search(\"[bac]at\",\"batman cat aat cct\"))"
   ]
  },
  {
   "cell_type": "code",
   "execution_count": 1,
   "metadata": {
    "collapsed": true
   },
   "outputs": [],
   "source": [
    "# \"\\.$\" for take all the string that end with . because if we write \".$\" take all the string with any character."
   ]
  },
  {
   "cell_type": "markdown",
   "metadata": {},
   "source": [
    "Il comando | permette di definire un OR nella search:"
   ]
  },
  {
   "cell_type": "code",
   "execution_count": 10,
   "metadata": {
    "collapsed": false
   },
   "outputs": [
    {
     "data": {
      "text/plain": [
       "<_sre.SRE_Match object; span=(0, 1), match='a'>"
      ]
     },
     "execution_count": 10,
     "metadata": {},
     "output_type": "execute_result"
    }
   ],
   "source": [
    "re.search(\"^a|a$\", \"am, ca, ca, ndiuashdiuasha, ccca\")"
   ]
  },
  {
   "cell_type": "markdown",
   "metadata": {},
   "source": [
    "\n",
    "The re module provides a sub() method that takes the following parameters (in the following order):\n",
    "1. pattern - The regular expression to match\n",
    "2. repl    - The string to replace the matched substring with\n",
    "3. string  - The string in which we would like to replace occurrences of the pattern with repl\n",
    "\n",
    "\n",
    "\n",
    "So, if we were to call re.sub(\"yo\", \"hello\", \"yo world\"), the function will replace \"yo\" with \"hello\" in \"yo world\", producing the result \"hello world\". The sub() function simply returns the original string if pattern is not found.\n"
   ]
  },
  {
   "cell_type": "markdown",
   "metadata": {},
   "source": [
    "Let's return to our example from the beginning of our mission. Suppose we need to extract years from strings. An intuitive way to do so would be to match any string that contains four consecutive integers. We can indicate integers in a pattern using square brackets (\"[\" and \"]\") along with a dash (\"-\"). \"[0-9]\" matches any character that falls between 0 and 9, which is all 1-digit integers. Similarly, \"[a-z]\" would match any lowercase letter. We can also do smaller ranges, like \"[3-5]\" or \"[d-g]\".\n",
    "\n",
    "Since we want to match four consecutive integers, our regular expression could be \"[0-9][0-9][0-9][0-9]\". This would work, but let's also add the condition that we only want to match years after year 999 and before year 3000 (any other four-digit numbers found in a string are probably not years).\n",
    "\n",
    "Using curly brackets (\"{\" and \"}\"), we can indicate that a pattern should repeat. If we were matching any 4-digit number, we could repeat the pattern \"[0-9]\" 4 times by writing \"[0-9]{4}\"."
   ]
  },
  {
   "cell_type": "code",
   "execution_count": 16,
   "metadata": {
    "collapsed": false
   },
   "outputs": [
    {
     "data": {
      "text/plain": [
       "<_sre.SRE_Match object; span=(0, 2), match='14'>"
      ]
     },
     "execution_count": 16,
     "metadata": {},
     "output_type": "execute_result"
    }
   ],
   "source": [
    "re.search(\"[0-1][2-9]\", \"14\")"
   ]
  },
  {
   "cell_type": "markdown",
   "metadata": {},
   "source": [
    "Finally, let's extract years from a string. The re module contains a findall() method. findall() returns a list of substrings that match the provided regular expression. re.findall(\"[a-z]\", \"abc123\") would return [\"a\", \"b\", \"c\"], since those are the substrings that match the regular expression."
   ]
  },
  {
   "cell_type": "code",
   "execution_count": null,
   "metadata": {
    "collapsed": true
   },
   "outputs": [],
   "source": []
  }
 ],
 "metadata": {
  "kernelspec": {
   "display_name": "Python 3",
   "language": "python",
   "name": "python3"
  },
  "language_info": {
   "codemirror_mode": {
    "name": "ipython",
    "version": 3
   },
   "file_extension": ".py",
   "mimetype": "text/x-python",
   "name": "python",
   "nbconvert_exporter": "python",
   "pygments_lexer": "ipython3",
   "version": "3.5.1"
  }
 },
 "nbformat": 4,
 "nbformat_minor": 0
}
