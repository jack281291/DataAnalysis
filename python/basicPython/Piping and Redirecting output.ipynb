{
 "cells": [
  {
   "cell_type": "markdown",
   "metadata": {
    "collapsed": false
   },
   "source": [
    "In an earlier mission, we looked at how to redirect output from a command to a file using >. Here's an example:\n",
    "\n",
    "echo \"This is all a dream...\" > dream.txt\n",
    "\n",
    "If the file dream.txt already exists, the above code will overwrite the file with the string This is all a dream.... If the file dream.txt doesn't exist, it will be created, and the string This is all a dream... will be used as the content. This involves redirecting from the standard output of the command to the standard input of the file.\n",
    "\n",
    "If we don't want to overwrite dream.txt, and we instead want to add to it, we can use >>.\n",
    "\n",
    "echo \"Wake up!\" >> dream.txt\n",
    "\n",
    "The above code will append This is all a dream... to the file dream.txt. The file will still be created if it didn't exist."
   ]
  },
  {
   "cell_type": "markdown",
   "metadata": {},
   "source": [
    "The Linux sort command will sort the lines of a file in alphabetical order. If we pass the -r flag, the lines will be sorted in reverse order."
   ]
  },
  {
   "cell_type": "markdown",
   "metadata": {},
   "source": [
    "Sometimes, we'll want to search through the contents of a set of files to find a specific line of text. We can use the grep command for this.\n",
    "\n",
    "We can specify multiple files by passing in more arguments:\n",
    "\n",
    "grep \"string\" file_1.txt file_2.txt"
   ]
  },
  {
   "cell_type": "markdown",
   "metadata": {},
   "source": [
    "We could also use a wildcard character, ?. ? is used to represent a single, unknown character. We could perform the same search we did above like this:"
   ]
  },
  {
   "cell_type": "markdown",
   "metadata": {},
   "source": [
    "grep \"string\" file_?.txt"
   ]
  },
  {
   "cell_type": "markdown",
   "metadata": {},
   "source": [
    "We can use the * character to match any number of characters, including 0.\n",
    "\n",
    "The pipe character, |, allows you to send the standard output from one command to the standard input of another command. This can be very useful for chaining together commands.\n",
    "\n",
    "For example, let's say we had a file called logs.txt with 100000 lines. We only want to search the last 10 lines for the string Error. We can use the tail -n 10 logs.txt to get the last 10 lines of logs.txt."
   ]
  },
  {
   "cell_type": "markdown",
   "metadata": {},
   "source": [
    "If we want to run two commands sequentially, but not pass output between them, we can use && to chain them. Let's say we want to add some content to a file, then print the whole file:\n",
    "\n",
    "echo \"All the beers are gone\" >> beer.txt && cat beer.txt\n",
    "\n",
    "This will first add the string All the beers are gone to the file beer.txt, then print the entire contents of beer.txt. The && only runs the second command if the first command doesn't return an error. If we instead tried this:\n",
    "\n",
    "ec \"All the beers are gone\" >> beer.txt && cat beer.txt\n",
    "\n",
    "We'd get an error, and nothing would be printed, because we used the command ec instead of echo."
   ]
  },
  {
   "cell_type": "markdown",
   "metadata": {},
   "source": [
    "There are quite a few special characters that bash uses. A full list can be found here: http://tldp.org/LDP/abs/html/special-chars.html. When you use these characters in a string or a command, and you don't want them to have a special effect, you may have to escape them.\n",
    "\n",
    "Escaping tells the shell to not treat the character as special, but to treat it as a plain character instead. Here's an example:\n",
    "\n",
    "echo \"\"Get out of here,\" said Neil Armstrong to the moon people.\" >> famous_quotes.txt\n",
    "\n",
    "\n",
    "\n",
    "The above command won't work as we intend because the quotes inside the string will be treated as special. But what we want to do is add the quotes into the file.\n",
    "\n",
    "We use a backslash (\\) as an escape character -- if you add a backslash before a special character, the special character is treated like plain text.\n",
    "\n",
    "echo \"\\\"Get out of here,\\\" said Neil Armstrong to the moon people.\" >> famous_quotes.txt\n",
    "\n",
    "The command above has the double quotes escaped with a backslash, so it will work as we intend."
   ]
  },
  {
   "cell_type": "code",
   "execution_count": null,
   "metadata": {
    "collapsed": true
   },
   "outputs": [],
   "source": []
  }
 ],
 "metadata": {
  "kernelspec": {
   "display_name": "Python 2 (SageMath)",
   "language": "python",
   "name": "python2"
  },
  "language_info": {
   "codemirror_mode": {
    "name": "ipython",
    "version": 2
   },
   "file_extension": ".py",
   "mimetype": "text/x-python",
   "name": "python",
   "nbconvert_exporter": "python",
   "pygments_lexer": "ipython2",
   "version": "2.7.10"
  }
 },
 "nbformat": 4,
 "nbformat_minor": 0
}
