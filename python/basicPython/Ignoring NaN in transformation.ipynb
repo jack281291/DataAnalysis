{
 "cells": [
  {
   "cell_type": "code",
   "execution_count": 1,
   "metadata": {
    "collapsed": true
   },
   "outputs": [],
   "source": [
    "import pandas as pd\n",
    "import numpy as np"
   ]
  },
  {
   "cell_type": "code",
   "execution_count": 15,
   "metadata": {
    "collapsed": true
   },
   "outputs": [],
   "source": [
    "pbp = pd.read_csv('data/dati/pbp-2015.csv')"
   ]
  },
  {
   "cell_type": "code",
   "execution_count": 17,
   "metadata": {
    "collapsed": false
   },
   "outputs": [
    {
     "data": {
      "text/plain": [
       "3304"
      ]
     },
     "execution_count": 17,
     "metadata": {},
     "output_type": "execute_result"
    }
   ],
   "source": [
    "sum(pbp.OffenseTeam.isnull())"
   ]
  },
  {
   "cell_type": "code",
   "execution_count": 19,
   "metadata": {
    "collapsed": false
   },
   "outputs": [
    {
     "data": {
      "text/plain": [
       "0        NaN\n",
       "1        NaN\n",
       "2        NaN\n",
       "3        NaN\n",
       "4        NaN\n",
       "5        WAS\n",
       "6        WAS\n",
       "7        WAS\n",
       "8        BUF\n",
       "9        NaN\n",
       "10       BUF\n",
       "11       BUF\n",
       "12       NaN\n",
       "13       BUF\n",
       "14       NaN\n",
       "15       CLE\n",
       "16       CLE\n",
       "17       NaN\n",
       "18       NYJ\n",
       "19       NaN\n",
       "20       CLE\n",
       "21       NaN\n",
       "22        KC\n",
       "23        KC\n",
       "24        KC\n",
       "25        KC\n",
       "26        NO\n",
       "27        NO\n",
       "28       NaN\n",
       "29        SD\n",
       "        ... \n",
       "46247    STL\n",
       "46248    STL\n",
       "46249     SF\n",
       "46250     SF\n",
       "46251     SF\n",
       "46252     SF\n",
       "46253    STL\n",
       "46254    STL\n",
       "46255     SF\n",
       "46256     SF\n",
       "46257     SF\n",
       "46258     SF\n",
       "46259    STL\n",
       "46260    STL\n",
       "46261    STL\n",
       "46262    STL\n",
       "46263     SF\n",
       "46264     SF\n",
       "46265     SF\n",
       "46266     SF\n",
       "46267     SF\n",
       "46268     SF\n",
       "46269    STL\n",
       "46270    STL\n",
       "46271    STL\n",
       "46272    STL\n",
       "46273    STL\n",
       "46274    STL\n",
       "46275     SF\n",
       "46276     SF\n",
       "Name: OffenseTeam, dtype: object"
      ]
     },
     "execution_count": 19,
     "metadata": {},
     "output_type": "execute_result"
    }
   ],
   "source": [
    "def transform_ingnoring_NaN(value):\n",
    "    if value != value: #only valid for null values\n",
    "        return value \n",
    "    else:\n",
    "        return str(value)\n",
    "pbp.OffenseTeam.map(lambda x: transform_ingnoring_NaN(x))"
   ]
  },
  {
   "cell_type": "code",
   "execution_count": null,
   "metadata": {
    "collapsed": true
   },
   "outputs": [],
   "source": []
  }
 ],
 "metadata": {
  "kernelspec": {
   "display_name": "Python 3 (Beta)",
   "language": "python",
   "name": "python3"
  },
  "language_info": {
   "codemirror_mode": {
    "name": "ipython",
    "version": 3
   },
   "file_extension": ".py",
   "mimetype": "text/x-python",
   "name": "python",
   "nbconvert_exporter": "python",
   "pygments_lexer": "ipython3",
   "version": "3.4.3"
  }
 },
 "nbformat": 4,
 "nbformat_minor": 0
}
