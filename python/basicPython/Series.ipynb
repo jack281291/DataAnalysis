{
 "cells": [
  {
   "cell_type": "markdown",
   "metadata": {},
   "source": [
    "In this mission and the next, we're going to dive into some of Pandas' internals to better understand how Pandas does things under the hood.\n",
    "\n",
    "The three key data structures in Pandas are:\n",
    "\n",
    "•Series (collection of values)\n",
    "\n",
    "•DataFrame (collection of Series objects)\n",
    "\n",
    "•Panel (collection of DataFrame objects)\n",
    "\n",
    "and we'll be focusing on the Series object in this mission.\n",
    "\n",
    "Series objects use NumPy arrays for fast computation, but build on them by adding valuable features for analyzing data. For example, while NumPy arrays utilize an integer index, Series objects can utilize other index types, like a string index. Series objects also allow for mixed data types and utilize the NaN Python value for handling missing values.\n",
    "\n",
    "A Series object can hold many data types, including:\n",
    "\n",
    "•float - for representing float values\n",
    "\n",
    "•int - for representing integer values\n",
    "\n",
    "•bool - for representing Boolean values\n",
    "\n",
    "•datetime64[ns] - for representing date & time, without time-zone\n",
    "\n",
    "•datetime64[ns, tz] - for representing date & time, with time-zone\n",
    "\n",
    "•timedelta[ns] - for representing differences in dates & times (seconds, minutes, etc.)\n",
    "\n",
    "•category - for representing categorical values\n",
    "\n",
    "•object - for representing String values"
   ]
  },
  {
   "cell_type": "code",
   "execution_count": 2,
   "metadata": {
    "collapsed": false
   },
   "outputs": [
    {
     "data": {
      "text/html": [
       "<div>\n",
       "<table border=\"1\" class=\"dataframe\">\n",
       "  <thead>\n",
       "    <tr style=\"text-align: right;\">\n",
       "      <th></th>\n",
       "      <th>FILM</th>\n",
       "      <th>RottenTomatoes</th>\n",
       "      <th>RottenTomatoes_User</th>\n",
       "      <th>Metacritic</th>\n",
       "      <th>Metacritic_User</th>\n",
       "      <th>IMDB</th>\n",
       "      <th>Fandango_Stars</th>\n",
       "      <th>Fandango_Ratingvalue</th>\n",
       "      <th>RT_norm</th>\n",
       "      <th>RT_user_norm</th>\n",
       "      <th>...</th>\n",
       "      <th>IMDB_norm</th>\n",
       "      <th>RT_norm_round</th>\n",
       "      <th>RT_user_norm_round</th>\n",
       "      <th>Metacritic_norm_round</th>\n",
       "      <th>Metacritic_user_norm_round</th>\n",
       "      <th>IMDB_norm_round</th>\n",
       "      <th>Metacritic_user_vote_count</th>\n",
       "      <th>IMDB_user_vote_count</th>\n",
       "      <th>Fandango_votes</th>\n",
       "      <th>Fandango_Difference</th>\n",
       "    </tr>\n",
       "  </thead>\n",
       "  <tbody>\n",
       "    <tr>\n",
       "      <th>0</th>\n",
       "      <td>Avengers: Age of Ultron (2015)</td>\n",
       "      <td>74</td>\n",
       "      <td>86</td>\n",
       "      <td>66</td>\n",
       "      <td>7.1</td>\n",
       "      <td>7.8</td>\n",
       "      <td>5</td>\n",
       "      <td>4.5</td>\n",
       "      <td>3.70</td>\n",
       "      <td>4.3</td>\n",
       "      <td>...</td>\n",
       "      <td>3.90</td>\n",
       "      <td>3.5</td>\n",
       "      <td>4.5</td>\n",
       "      <td>3.5</td>\n",
       "      <td>3.5</td>\n",
       "      <td>4.0</td>\n",
       "      <td>1330</td>\n",
       "      <td>271107</td>\n",
       "      <td>14846</td>\n",
       "      <td>0.5</td>\n",
       "    </tr>\n",
       "    <tr>\n",
       "      <th>1</th>\n",
       "      <td>Cinderella (2015)</td>\n",
       "      <td>85</td>\n",
       "      <td>80</td>\n",
       "      <td>67</td>\n",
       "      <td>7.5</td>\n",
       "      <td>7.1</td>\n",
       "      <td>5</td>\n",
       "      <td>4.5</td>\n",
       "      <td>4.25</td>\n",
       "      <td>4.0</td>\n",
       "      <td>...</td>\n",
       "      <td>3.55</td>\n",
       "      <td>4.5</td>\n",
       "      <td>4.0</td>\n",
       "      <td>3.5</td>\n",
       "      <td>4.0</td>\n",
       "      <td>3.5</td>\n",
       "      <td>249</td>\n",
       "      <td>65709</td>\n",
       "      <td>12640</td>\n",
       "      <td>0.5</td>\n",
       "    </tr>\n",
       "  </tbody>\n",
       "</table>\n",
       "<p>2 rows × 22 columns</p>\n",
       "</div>"
      ],
      "text/plain": [
       "                             FILM  RottenTomatoes  RottenTomatoes_User  \\\n",
       "0  Avengers: Age of Ultron (2015)              74                   86   \n",
       "1               Cinderella (2015)              85                   80   \n",
       "\n",
       "   Metacritic  Metacritic_User  IMDB  Fandango_Stars  Fandango_Ratingvalue  \\\n",
       "0          66              7.1   7.8               5                   4.5   \n",
       "1          67              7.5   7.1               5                   4.5   \n",
       "\n",
       "   RT_norm  RT_user_norm         ...           IMDB_norm  RT_norm_round  \\\n",
       "0     3.70           4.3         ...                3.90            3.5   \n",
       "1     4.25           4.0         ...                3.55            4.5   \n",
       "\n",
       "   RT_user_norm_round  Metacritic_norm_round  Metacritic_user_norm_round  \\\n",
       "0                 4.5                    3.5                         3.5   \n",
       "1                 4.0                    3.5                         4.0   \n",
       "\n",
       "   IMDB_norm_round  Metacritic_user_vote_count  IMDB_user_vote_count  \\\n",
       "0              4.0                        1330                271107   \n",
       "1              3.5                         249                 65709   \n",
       "\n",
       "   Fandango_votes  Fandango_Difference  \n",
       "0           14846                  0.5  \n",
       "1           12640                  0.5  \n",
       "\n",
       "[2 rows x 22 columns]"
      ]
     },
     "execution_count": 2,
     "metadata": {},
     "output_type": "execute_result"
    }
   ],
   "source": [
    "import pandas as pd\n",
    "fandango = pd.read_csv(\"dati\\\\fandango_score_comparison.csv\")\n",
    "fandango.head(2)"
   ]
  },
  {
   "cell_type": "markdown",
   "metadata": {},
   "source": [
    "DataFrames use Series objects to represent the columns in the data. When you select a single column from a DataFrame, Pandas will return the Series object representing that column. Each individual Series object in a DataFrame is indexed using the integer data type by default. Each value in the Series has a unique integer index, or position. The integer index is 0-indexed, like most Python data structures, and ranges from 0 to n-1, where n is the number of rows. With an integer index, you can select an individual value in the Series if you know it's position as well as select multiple values by passing in a list of index values (similar to a NumPy array). \n",
    "\n",
    "For both NumPy arrays and Series objects, you can utilize integer index by using bracket notation to slice and select values. Where Series objects diverge from NumPy arrays, however, is the ability to specify a custom index for the values."
   ]
  },
  {
   "cell_type": "code",
   "execution_count": 4,
   "metadata": {
    "collapsed": false
   },
   "outputs": [
    {
     "data": {
      "text/plain": [
       "Index(['FILM', 'RottenTomatoes', 'RottenTomatoes_User', 'Metacritic',\n",
       "       'Metacritic_User', 'IMDB', 'Fandango_Stars', 'Fandango_Ratingvalue',\n",
       "       'RT_norm', 'RT_user_norm', 'Metacritic_norm', 'Metacritic_user_nom',\n",
       "       'IMDB_norm', 'RT_norm_round', 'RT_user_norm_round',\n",
       "       'Metacritic_norm_round', 'Metacritic_user_norm_round',\n",
       "       'IMDB_norm_round', 'Metacritic_user_vote_count', 'IMDB_user_vote_count',\n",
       "       'Fandango_votes', 'Fandango_Difference'],\n",
       "      dtype='object')"
      ]
     },
     "execution_count": 4,
     "metadata": {},
     "output_type": "execute_result"
    }
   ],
   "source": [
    "fandango.columns"
   ]
  },
  {
   "cell_type": "code",
   "execution_count": 6,
   "metadata": {
    "collapsed": false
   },
   "outputs": [
    {
     "data": {
      "text/plain": [
       "0    Avengers: Age of Ultron (2015)\n",
       "1                 Cinderella (2015)\n",
       "2                    Ant-Man (2015)\n",
       "3            Do You Believe? (2015)\n",
       "4     Hot Tub Time Machine 2 (2015)\n",
       "Name: FILM, dtype: object"
      ]
     },
     "execution_count": 6,
     "metadata": {},
     "output_type": "execute_result"
    }
   ],
   "source": [
    "series_film = fandango[\"FILM\"]\n",
    "series_film.head()"
   ]
  },
  {
   "cell_type": "code",
   "execution_count": 4,
   "metadata": {
    "collapsed": false
   },
   "outputs": [
    {
     "data": {
      "text/plain": [
       "0    74\n",
       "1    85\n",
       "2    80\n",
       "3    18\n",
       "4    14\n",
       "Name: RottenTomatoes, dtype: int64"
      ]
     },
     "execution_count": 4,
     "metadata": {},
     "output_type": "execute_result"
    }
   ],
   "source": [
    "series_rt = fandango[\"RottenTomatoes\"]\n",
    "series_rt.head()"
   ]
  },
  {
   "cell_type": "markdown",
   "metadata": {},
   "source": [
    "We want a new index to find the score for every film  with the index equal to the name of the film and value of the series (http://pandas.pydata.org/pandas-docs/stable/generated/pandas.Series.html#pandas.Series) equal to the score:"
   ]
  },
  {
   "cell_type": "code",
   "execution_count": 7,
   "metadata": {
    "collapsed": false
   },
   "outputs": [
    {
     "data": {
      "text/plain": [
       "Avengers: Age of Ultron (2015)                     74\n",
       "Cinderella (2015)                                  85\n",
       "Ant-Man (2015)                                     80\n",
       "Do You Believe? (2015)                             18\n",
       "Hot Tub Time Machine 2 (2015)                      14\n",
       "The Water Diviner (2015)                           63\n",
       "Irrational Man (2015)                              42\n",
       "Top Five (2014)                                    86\n",
       "Shaun the Sheep Movie (2015)                       99\n",
       "Love & Mercy (2015)                                89\n",
       "Far From The Madding Crowd (2015)                  84\n",
       "Black Sea (2015)                                   82\n",
       "Leviathan (2014)                                   99\n",
       "Unbroken (2014)                                    51\n",
       "The Imitation Game (2014)                          90\n",
       "Taken 3 (2015)                                      9\n",
       "Ted 2 (2015)                                       46\n",
       "Southpaw (2015)                                    59\n",
       "Night at the Museum: Secret of the Tomb (2014)     50\n",
       "Pixels (2015)                                      17\n",
       "McFarland, USA (2015)                              79\n",
       "Insidious: Chapter 3 (2015)                        59\n",
       "The Man From U.N.C.L.E. (2015)                     68\n",
       "Run All Night (2015)                               60\n",
       "Trainwreck (2015)                                  85\n",
       "Selma (2014)                                       99\n",
       "Ex Machina (2015)                                  92\n",
       "Still Alice (2015)                                 88\n",
       "Wild Tales (2014)                                  96\n",
       "The End of the Tour (2015)                         92\n",
       "                                                 ... \n",
       "Clouds of Sils Maria (2015)                        89\n",
       "Testament of Youth (2015)                          81\n",
       "Infinitely Polar Bear (2015)                       80\n",
       "Phoenix (2015)                                     99\n",
       "The Wolfpack (2015)                                84\n",
       "The Stanford Prison Experiment (2015)              84\n",
       "Tangerine (2015)                                   95\n",
       "Magic Mike XXL (2015)                              62\n",
       "Home (2015)                                        45\n",
       "The Wedding Ringer (2015)                          27\n",
       "Woman in Gold (2015)                               52\n",
       "The Last Five Years (2015)                         60\n",
       "Mission: Impossible â€“ Rogue Nation (2015)        92\n",
       "Amy (2015)                                         97\n",
       "Jurassic World (2015)                              71\n",
       "Minions (2015)                                     54\n",
       "Max (2015)                                         35\n",
       "Paul Blart: Mall Cop 2 (2015)                       5\n",
       "The Longest Ride (2015)                            31\n",
       "The Lazarus Effect (2015)                          14\n",
       "The Woman In Black 2 Angel of Death (2015)         22\n",
       "Danny Collins (2015)                               77\n",
       "Spare Parts (2015)                                 52\n",
       "Serena (2015)                                      18\n",
       "Inside Out (2015)                                  98\n",
       "Mr. Holmes (2015)                                  87\n",
       "'71 (2015)                                         97\n",
       "Two Days, One Night (2014)                         97\n",
       "Gett: The Trial of Viviane Amsalem (2015)         100\n",
       "Kumiko, The Treasure Hunter (2015)                 87\n",
       "dtype: int64"
      ]
     },
     "execution_count": 7,
     "metadata": {},
     "output_type": "execute_result"
    }
   ],
   "source": [
    "from pandas import Series\n",
    "series_custom = Series(data = series_rt.values, index = series_film.values)\n",
    "series_custom"
   ]
  },
  {
   "cell_type": "code",
   "execution_count": 19,
   "metadata": {
    "collapsed": false
   },
   "outputs": [
    {
     "data": {
      "text/plain": [
       "98"
      ]
     },
     "execution_count": 19,
     "metadata": {},
     "output_type": "execute_result"
    }
   ],
   "source": [
    "series_custom[\"Inside Out (2015)\"]"
   ]
  },
  {
   "cell_type": "code",
   "execution_count": 21,
   "metadata": {
    "collapsed": false
   },
   "outputs": [
    {
     "data": {
      "text/plain": [
       "Minions (2015)      54\n",
       "Leviathan (2014)    99\n",
       "dtype: int64"
      ]
     },
     "execution_count": 21,
     "metadata": {},
     "output_type": "execute_result"
    }
   ],
   "source": [
    "series_custom[['Minions (2015)', 'Leviathan (2014)']]"
   ]
  },
  {
   "cell_type": "code",
   "execution_count": 27,
   "metadata": {
    "collapsed": false
   },
   "outputs": [
    {
     "data": {
      "text/plain": [
       "63"
      ]
     },
     "execution_count": 27,
     "metadata": {},
     "output_type": "execute_result"
    }
   ],
   "source": [
    "series_custom[5]"
   ]
  },
  {
   "cell_type": "code",
   "execution_count": 30,
   "metadata": {
    "collapsed": false
   },
   "outputs": [
    {
     "data": {
      "text/plain": [
       "'The Water Diviner (2015)'"
      ]
     },
     "execution_count": 30,
     "metadata": {},
     "output_type": "execute_result"
    }
   ],
   "source": [
    "# .loc use the index, while [index] use the automatic index\n",
    "series_film[5]\n",
    "series_film.loc[5]"
   ]
  },
  {
   "cell_type": "markdown",
   "metadata": {},
   "source": [
    "Reindexing is the Pandas way of modifying the alignment between labels (index) and the data (values). The reindex() method allows you to specify an alternate ordering of the labels (index) for a Series object. This method takes in a list of strings corresponding to the order of labels you'd like for that Series object. \n",
    "\n",
    "We can use the reindex() method to sort series_custom in alphabetical order by film. To accomplish this, we need to:\n",
    "\n",
    "•return a list representation of the current index using tolist()\n",
    "\n",
    "•sort the index using sorted()\n",
    "\n",
    "•use reindex() to set the new ordered index"
   ]
  },
  {
   "cell_type": "code",
   "execution_count": 31,
   "metadata": {
    "collapsed": true
   },
   "outputs": [],
   "source": [
    "original_index = series_custom.index.tolist()"
   ]
  },
  {
   "cell_type": "code",
   "execution_count": 32,
   "metadata": {
    "collapsed": false
   },
   "outputs": [
    {
     "data": {
      "text/plain": [
       "['Avengers: Age of Ultron (2015)',\n",
       " 'Cinderella (2015)',\n",
       " 'Ant-Man (2015)',\n",
       " 'Do You Believe? (2015)',\n",
       " 'Hot Tub Time Machine 2 (2015)',\n",
       " 'The Water Diviner (2015)',\n",
       " 'Irrational Man (2015)',\n",
       " 'Top Five (2014)',\n",
       " 'Shaun the Sheep Movie (2015)',\n",
       " 'Love & Mercy (2015)',\n",
       " 'Far From The Madding Crowd (2015)',\n",
       " 'Black Sea (2015)',\n",
       " 'Leviathan (2014)',\n",
       " 'Unbroken (2014)',\n",
       " 'The Imitation Game (2014)',\n",
       " 'Taken 3 (2015)',\n",
       " 'Ted 2 (2015)',\n",
       " 'Southpaw (2015)',\n",
       " 'Night at the Museum: Secret of the Tomb (2014)',\n",
       " 'Pixels (2015)',\n",
       " 'McFarland, USA (2015)',\n",
       " 'Insidious: Chapter 3 (2015)',\n",
       " 'The Man From U.N.C.L.E. (2015)',\n",
       " 'Run All Night (2015)',\n",
       " 'Trainwreck (2015)',\n",
       " 'Selma (2014)',\n",
       " 'Ex Machina (2015)',\n",
       " 'Still Alice (2015)',\n",
       " 'Wild Tales (2014)',\n",
       " 'The End of the Tour (2015)',\n",
       " 'Red Army (2015)',\n",
       " 'When Marnie Was There (2015)',\n",
       " 'The Hunting Ground (2015)',\n",
       " 'The Boy Next Door (2015)',\n",
       " 'Aloha (2015)',\n",
       " 'The Loft (2015)',\n",
       " '5 Flights Up (2015)',\n",
       " 'Welcome to Me (2015)',\n",
       " 'Saint Laurent (2015)',\n",
       " 'Maps to the Stars (2015)',\n",
       " \"I'll See You In My Dreams (2015)\",\n",
       " 'Timbuktu (2015)',\n",
       " 'About Elly (2015)',\n",
       " 'The Diary of a Teenage Girl (2015)',\n",
       " 'Kingsman: The Secret Service (2015)',\n",
       " 'Tomorrowland (2015)',\n",
       " 'The Divergent Series: Insurgent (2015)',\n",
       " 'Annie (2014)',\n",
       " 'Fantastic Four (2015)',\n",
       " 'Terminator Genisys (2015)',\n",
       " 'Pitch Perfect 2 (2015)',\n",
       " 'Entourage (2015)',\n",
       " 'The Age of Adaline (2015)',\n",
       " 'Hot Pursuit (2015)',\n",
       " 'The DUFF (2015)',\n",
       " 'Black or White (2015)',\n",
       " 'Project Almanac (2015)',\n",
       " 'Ricki and the Flash (2015)',\n",
       " 'Seventh Son (2015)',\n",
       " 'Mortdecai (2015)',\n",
       " 'Unfinished Business (2015)',\n",
       " 'American Ultra (2015)',\n",
       " 'True Story (2015)',\n",
       " 'Child 44 (2015)',\n",
       " 'Dark Places (2015)',\n",
       " 'Birdman (2014)',\n",
       " 'The Gift (2015)',\n",
       " 'Unfriended (2015)',\n",
       " 'Monkey Kingdom (2015)',\n",
       " 'Mr. Turner (2014)',\n",
       " 'Seymour: An Introduction (2015)',\n",
       " 'The Wrecking Crew (2015)',\n",
       " 'American Sniper (2015)',\n",
       " 'Furious 7 (2015)',\n",
       " 'The Hobbit: The Battle of the Five Armies (2014)',\n",
       " 'San Andreas (2015)',\n",
       " 'Straight Outta Compton (2015)',\n",
       " 'Vacation (2015)',\n",
       " 'Chappie (2015)',\n",
       " 'Poltergeist (2015)',\n",
       " 'Paper Towns (2015)',\n",
       " 'Big Eyes (2014)',\n",
       " 'Blackhat (2015)',\n",
       " 'Self/less (2015)',\n",
       " 'Sinister 2 (2015)',\n",
       " 'Little Boy (2015)',\n",
       " 'Me and Earl and The Dying Girl (2015)',\n",
       " 'Maggie (2015)',\n",
       " 'Mad Max: Fury Road (2015)',\n",
       " 'Spy (2015)',\n",
       " 'The SpongeBob Movie: Sponge Out of Water (2015)',\n",
       " 'Paddington (2015)',\n",
       " 'Dope (2015)',\n",
       " 'What We Do in the Shadows (2015)',\n",
       " 'The Overnight (2015)',\n",
       " 'The Salt of the Earth (2015)',\n",
       " 'Song of the Sea (2014)',\n",
       " 'Fifty Shades of Grey (2015)',\n",
       " 'Get Hard (2015)',\n",
       " 'Focus (2015)',\n",
       " 'Jupiter Ascending (2015)',\n",
       " 'The Gallows (2015)',\n",
       " 'The Second Best Exotic Marigold Hotel (2015)',\n",
       " 'Strange Magic (2015)',\n",
       " 'The Gunman (2015)',\n",
       " 'Hitman: Agent 47 (2015)',\n",
       " 'Cake (2015)',\n",
       " 'The Vatican Tapes (2015)',\n",
       " 'A Little Chaos (2015)',\n",
       " 'The 100-Year-Old Man Who Climbed Out the Window and Disappeared (2015)',\n",
       " 'Escobar: Paradise Lost (2015)',\n",
       " 'Into the Woods (2014)',\n",
       " 'It Follows (2015)',\n",
       " 'Inherent Vice (2014)',\n",
       " 'A Most Violent Year (2014)',\n",
       " \"While We're Young (2015)\",\n",
       " 'Clouds of Sils Maria (2015)',\n",
       " 'Testament of Youth (2015)',\n",
       " 'Infinitely Polar Bear (2015)',\n",
       " 'Phoenix (2015)',\n",
       " 'The Wolfpack (2015)',\n",
       " 'The Stanford Prison Experiment (2015)',\n",
       " 'Tangerine (2015)',\n",
       " 'Magic Mike XXL (2015)',\n",
       " 'Home (2015)',\n",
       " 'The Wedding Ringer (2015)',\n",
       " 'Woman in Gold (2015)',\n",
       " 'The Last Five Years (2015)',\n",
       " 'Mission: Impossible â€“ Rogue Nation (2015)',\n",
       " 'Amy (2015)',\n",
       " 'Jurassic World (2015)',\n",
       " 'Minions (2015)',\n",
       " 'Max (2015)',\n",
       " 'Paul Blart: Mall Cop 2 (2015)',\n",
       " 'The Longest Ride (2015)',\n",
       " 'The Lazarus Effect (2015)',\n",
       " 'The Woman In Black 2 Angel of Death (2015)',\n",
       " 'Danny Collins (2015)',\n",
       " 'Spare Parts (2015)',\n",
       " 'Serena (2015)',\n",
       " 'Inside Out (2015)',\n",
       " 'Mr. Holmes (2015)',\n",
       " \"'71 (2015)\",\n",
       " 'Two Days, One Night (2014)',\n",
       " 'Gett: The Trial of Viviane Amsalem (2015)',\n",
       " 'Kumiko, The Treasure Hunter (2015)']"
      ]
     },
     "execution_count": 32,
     "metadata": {},
     "output_type": "execute_result"
    }
   ],
   "source": [
    "original_index"
   ]
  },
  {
   "cell_type": "code",
   "execution_count": 38,
   "metadata": {
    "collapsed": false
   },
   "outputs": [],
   "source": [
    "original_index = sorted(original_index)\n",
    "sorted_series_custom = series_custom.reindex(original_index)"
   ]
  },
  {
   "cell_type": "markdown",
   "metadata": {},
   "source": [
    "To make sorting easier, Pandas comes with a sort_index() method, which returns a Series sorted by the index, and a sort_values() method method, which returns a Series sorted by the values. Since the values representing the Rotten Tomatoes scores are integers, sorting by values will sort in numerically ascending order (low to high) in our case.\n",
    "\n",
    "In both cases, the link between each element's index (film name) and value (score) is preserved. This is known as data alignment and is a key tenet of Pandas that is incredibly important when analyzing data. Unless we specifically change a value or an index, Pandas allows us to assume the linking will be preserved.\n"
   ]
  },
  {
   "cell_type": "code",
   "execution_count": 44,
   "metadata": {
    "collapsed": false
   },
   "outputs": [
    {
     "name": "stdout",
     "output_type": "stream",
     "text": [
      "'71 (2015)                    97\n",
      "5 Flights Up (2015)           52\n",
      "A Little Chaos (2015)         40\n",
      "A Most Violent Year (2014)    90\n",
      "About Elly (2015)             97\n",
      "Aloha (2015)                  19\n",
      "American Sniper (2015)        72\n",
      "American Ultra (2015)         46\n",
      "Amy (2015)                    97\n",
      "Annie (2014)                  27\n",
      "dtype: int64\n",
      "Paul Blart: Mall Cop 2 (2015)     5\n",
      "Hitman: Agent 47 (2015)           7\n",
      "Hot Pursuit (2015)                8\n",
      "Fantastic Four (2015)             9\n",
      "Taken 3 (2015)                    9\n",
      "The Boy Next Door (2015)         10\n",
      "The Loft (2015)                  11\n",
      "Unfinished Business (2015)       11\n",
      "Mortdecai (2015)                 12\n",
      "Seventh Son (2015)               12\n",
      "dtype: int64\n"
     ]
    }
   ],
   "source": [
    "sc2 = series_custom.sort_index()\n",
    "sc3 = series_custom.sort_values()\n",
    "print(sc2.head(10))\n",
    "print(sc3.head(10))"
   ]
  },
  {
   "cell_type": "markdown",
   "metadata": {},
   "source": [
    "Since Pandas builds on top of NumPy, it takes advantage of NumPy's vectorizaton capabilities which generates incredibly optimized. You can use any of the standard Python arithmetic operators (+, -, *, and /) to transform every value in a Series object."
   ]
  },
  {
   "cell_type": "code",
   "execution_count": 45,
   "metadata": {
    "collapsed": true
   },
   "outputs": [],
   "source": [
    "series_normalized = (series_custom/100)*5"
   ]
  },
  {
   "cell_type": "markdown",
   "metadata": {},
   "source": [
    "Pandas utilizes vectorized operations everywhere, including when filtering values within a single Series object or comparing 2 different Series objects.\n",
    "\n",
    "To help make it easy to separate complex comparison and filtering logic into modular pieces, Pandas returns Boolean Series objects as the intermediate representation of the logic. We can specify filtering criteria in different variables and chain them together using the & operator, which represents and, as well as the | operator, representing or. Finally, we can utilize a Series object's bracket notation to pass in an expression representing a Boolean Series object to get back the filtered dataset."
   ]
  },
  {
   "cell_type": "code",
   "execution_count": 59,
   "metadata": {
    "collapsed": false
   },
   "outputs": [
    {
     "data": {
      "text/plain": [
       "Avengers: Age of Ultron (2015)                                             74\n",
       "Cinderella (2015)                                                          85\n",
       "Ant-Man (2015)                                                             80\n",
       "The Water Diviner (2015)                                                   63\n",
       "Top Five (2014)                                                            86\n",
       "Shaun the Sheep Movie (2015)                                               99\n",
       "Love & Mercy (2015)                                                        89\n",
       "Far From The Madding Crowd (2015)                                          84\n",
       "Black Sea (2015)                                                           82\n",
       "Leviathan (2014)                                                           99\n",
       "Unbroken (2014)                                                            51\n",
       "The Imitation Game (2014)                                                  90\n",
       "Southpaw (2015)                                                            59\n",
       "McFarland, USA (2015)                                                      79\n",
       "Insidious: Chapter 3 (2015)                                                59\n",
       "The Man From U.N.C.L.E. (2015)                                             68\n",
       "Run All Night (2015)                                                       60\n",
       "Trainwreck (2015)                                                          85\n",
       "Selma (2014)                                                               99\n",
       "Ex Machina (2015)                                                          92\n",
       "Still Alice (2015)                                                         88\n",
       "Wild Tales (2014)                                                          96\n",
       "The End of the Tour (2015)                                                 92\n",
       "Red Army (2015)                                                            96\n",
       "When Marnie Was There (2015)                                               89\n",
       "The Hunting Ground (2015)                                                  92\n",
       "5 Flights Up (2015)                                                        52\n",
       "Welcome to Me (2015)                                                       71\n",
       "Saint Laurent (2015)                                                       51\n",
       "Maps to the Stars (2015)                                                   60\n",
       "                                                                         ... \n",
       "The Second Best Exotic Marigold Hotel (2015)                               62\n",
       "The 100-Year-Old Man Who Climbed Out the Window and Disappeared (2015)     67\n",
       "Escobar: Paradise Lost (2015)                                              52\n",
       "Into the Woods (2014)                                                      71\n",
       "It Follows (2015)                                                          96\n",
       "Inherent Vice (2014)                                                       73\n",
       "A Most Violent Year (2014)                                                 90\n",
       "While We're Young (2015)                                                   83\n",
       "Clouds of Sils Maria (2015)                                                89\n",
       "Testament of Youth (2015)                                                  81\n",
       "Infinitely Polar Bear (2015)                                               80\n",
       "Phoenix (2015)                                                             99\n",
       "The Wolfpack (2015)                                                        84\n",
       "The Stanford Prison Experiment (2015)                                      84\n",
       "Tangerine (2015)                                                           95\n",
       "Magic Mike XXL (2015)                                                      62\n",
       "Woman in Gold (2015)                                                       52\n",
       "The Last Five Years (2015)                                                 60\n",
       "Mission: Impossible â€“ Rogue Nation (2015)                                92\n",
       "Amy (2015)                                                                 97\n",
       "Jurassic World (2015)                                                      71\n",
       "Minions (2015)                                                             54\n",
       "Danny Collins (2015)                                                       77\n",
       "Spare Parts (2015)                                                         52\n",
       "Inside Out (2015)                                                          98\n",
       "Mr. Holmes (2015)                                                          87\n",
       "'71 (2015)                                                                 97\n",
       "Two Days, One Night (2014)                                                 97\n",
       "Gett: The Trial of Viviane Amsalem (2015)                                 100\n",
       "Kumiko, The Treasure Hunter (2015)                                         87\n",
       "dtype: int64"
      ]
     },
     "execution_count": 59,
     "metadata": {},
     "output_type": "execute_result"
    }
   ],
   "source": [
    "series_custom[series_custom > 50]"
   ]
  },
  {
   "cell_type": "markdown",
   "metadata": {
    "collapsed": true
   },
   "source": [
    "One of the core tenets of Pandas is data alignment. Series objects align along indices and DataFrame objects align along both indices and columns. This means that for Series objects, the link between the index labels and the actual values is implicitly preserved across operations and transformations unless we explicitly break the link. This core tenet allows us to use Pandas effectively when working with data and is a big advantages over just using NumPy objects. For Series objects in particular, this means we can use the standard Python arithmetic operators (+, -, *, and /) to add, subtract, multiple, and divide the values at each index label for 2 different Series objects."
   ]
  },
  {
   "cell_type": "code",
   "execution_count": 8,
   "metadata": {
    "collapsed": false
   },
   "outputs": [],
   "source": [
    "# vote critics, users and mean between the two of them\n",
    "rt_critics = Series(fandango['RottenTomatoes'].values, index=fandango['FILM'])\n",
    "rt_users = Series(fandango['RottenTomatoes_User'].values, index=fandango['FILM'])\n",
    "rt_mean = (rt_critics + rt_users)/2"
   ]
  },
  {
   "cell_type": "code",
   "execution_count": 9,
   "metadata": {
    "collapsed": false
   },
   "outputs": [
    {
     "data": {
      "text/plain": [
       "<bound method NDFrame.head of FILM\n",
       "Avengers: Age of Ultron (2015)                    80.0\n",
       "Cinderella (2015)                                 82.5\n",
       "Ant-Man (2015)                                    85.0\n",
       "Do You Believe? (2015)                            51.0\n",
       "Hot Tub Time Machine 2 (2015)                     21.0\n",
       "The Water Diviner (2015)                          62.5\n",
       "Irrational Man (2015)                             47.5\n",
       "Top Five (2014)                                   75.0\n",
       "Shaun the Sheep Movie (2015)                      90.5\n",
       "Love & Mercy (2015)                               88.0\n",
       "Far From The Madding Crowd (2015)                 80.5\n",
       "Black Sea (2015)                                  71.0\n",
       "Leviathan (2014)                                  89.0\n",
       "Unbroken (2014)                                   60.5\n",
       "The Imitation Game (2014)                         91.0\n",
       "Taken 3 (2015)                                    27.5\n",
       "Ted 2 (2015)                                      52.0\n",
       "Southpaw (2015)                                   69.5\n",
       "Night at the Museum: Secret of the Tomb (2014)    54.0\n",
       "Pixels (2015)                                     35.5\n",
       "McFarland, USA (2015)                             84.0\n",
       "Insidious: Chapter 3 (2015)                       57.5\n",
       "The Man From U.N.C.L.E. (2015)                    74.0\n",
       "Run All Night (2015)                              59.5\n",
       "Trainwreck (2015)                                 79.5\n",
       "Selma (2014)                                      92.5\n",
       "Ex Machina (2015)                                 89.0\n",
       "Still Alice (2015)                                86.5\n",
       "Wild Tales (2014)                                 94.0\n",
       "The End of the Tour (2015)                        90.5\n",
       "                                                  ... \n",
       "Clouds of Sils Maria (2015)                       78.0\n",
       "Testament of Youth (2015)                         80.0\n",
       "Infinitely Polar Bear (2015)                      78.0\n",
       "Phoenix (2015)                                    90.0\n",
       "The Wolfpack (2015)                               78.5\n",
       "The Stanford Prison Experiment (2015)             85.5\n",
       "Tangerine (2015)                                  90.5\n",
       "Magic Mike XXL (2015)                             63.0\n",
       "Home (2015)                                       55.0\n",
       "The Wedding Ringer (2015)                         46.5\n",
       "Woman in Gold (2015)                              66.5\n",
       "The Last Five Years (2015)                        60.0\n",
       "Mission: Impossible â€“ Rogue Nation (2015)       91.0\n",
       "Amy (2015)                                        94.0\n",
       "Jurassic World (2015)                             76.0\n",
       "Minions (2015)                                    53.0\n",
       "Max (2015)                                        54.0\n",
       "Paul Blart: Mall Cop 2 (2015)                     20.5\n",
       "The Longest Ride (2015)                           52.0\n",
       "The Lazarus Effect (2015)                         18.5\n",
       "The Woman In Black 2 Angel of Death (2015)        23.5\n",
       "Danny Collins (2015)                              76.0\n",
       "Spare Parts (2015)                                67.5\n",
       "Serena (2015)                                     21.5\n",
       "Inside Out (2015)                                 94.0\n",
       "Mr. Holmes (2015)                                 82.5\n",
       "'71 (2015)                                        89.5\n",
       "Two Days, One Night (2014)                        87.5\n",
       "Gett: The Trial of Viviane Amsalem (2015)         90.5\n",
       "Kumiko, The Treasure Hunter (2015)                75.0\n",
       "dtype: float64>"
      ]
     },
     "execution_count": 9,
     "metadata": {},
     "output_type": "execute_result"
    }
   ],
   "source": [
    "rt_mean.head"
   ]
  },
  {
   "cell_type": "code",
   "execution_count": null,
   "metadata": {
    "collapsed": true
   },
   "outputs": [],
   "source": []
  }
 ],
 "metadata": {
  "kernelspec": {
   "display_name": "Python 3",
   "language": "python",
   "name": "python3"
  },
  "language_info": {
   "codemirror_mode": {
    "name": "ipython",
    "version": 3
   },
   "file_extension": ".py",
   "mimetype": "text/x-python",
   "name": "python",
   "nbconvert_exporter": "python",
   "pygments_lexer": "ipython3",
   "version": "3.5.1"
  }
 },
 "nbformat": 4,
 "nbformat_minor": 0
}
