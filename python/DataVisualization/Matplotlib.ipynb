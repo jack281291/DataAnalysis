{
 "cells": [
  {
   "cell_type": "markdown",
   "metadata": {},
   "source": [
    "# Data Visualization"
   ]
  },
  {
   "cell_type": "code",
   "execution_count": 2,
   "metadata": {
    "collapsed": true
   },
   "outputs": [],
   "source": [
    "import matplotlib.pyplot as plt"
   ]
  },
  {
   "cell_type": "markdown",
   "metadata": {},
   "source": [
    "Line plot"
   ]
  },
  {
   "cell_type": "code",
   "execution_count": 25,
   "metadata": {
    "collapsed": false
   },
   "outputs": [],
   "source": [
    "plt.plot([1,2,3,4], [10,23,44,56])\n",
    "plt.xlabel('x')\n",
    "plt.ylabel('y')\n",
    "plt.title('plot x-y')\n",
    "plt.yticks([10,60 ], ['10B', '60B'])\n",
    "plt.grid(True) #griglia\n",
    "plt.show()"
   ]
  },
  {
   "cell_type": "code",
   "execution_count": 22,
   "metadata": {
    "collapsed": false
   },
   "outputs": [],
   "source": [
    "plt.plot([10,100,1000], [200,300,400])\n",
    "plt.xticks([1000,10000,100000],['1K','10K','100K'])\n",
    "plt.show()"
   ]
  },
  {
   "cell_type": "code",
   "execution_count": 5,
   "metadata": {
    "collapsed": false
   },
   "outputs": [
    {
     "data": {
      "text/plain": [
       "4"
      ]
     },
     "execution_count": 5,
     "metadata": {},
     "output_type": "execute_result"
    }
   ],
   "source": [
    "[1,2,3,4][-1] #ultimo elemento index = -1 o len(lista) - 1"
   ]
  },
  {
   "cell_type": "code",
   "execution_count": null,
   "metadata": {
    "collapsed": true
   },
   "outputs": [],
   "source": [
    "Scatter plot"
   ]
  },
  {
   "cell_type": "code",
   "execution_count": 23,
   "metadata": {
    "collapsed": false
   },
   "outputs": [
    {
     "name": "stdout",
     "output_type": "stream",
     "text": [
      "Help on function scatter in module matplotlib.pyplot:\n",
      "\n",
      "scatter(x, y, s=20, c=None, marker='o', cmap=None, norm=None, vmin=None, vmax=None, alpha=None, linewidths=None, verts=None, edgecolors=None, hold=None, data=None, **kwargs)\n",
      "    Make a scatter plot of x vs y, where x and y are sequence like objects\n",
      "    of the same lengths.\n",
      "    \n",
      "    Parameters\n",
      "    ----------\n",
      "    x, y : array_like, shape (n, )\n",
      "        Input data\n",
      "    \n",
      "    s : scalar or array_like, shape (n, ), optional, default: 20\n",
      "        size in points^2.\n",
      "    \n",
      "    c : color or sequence of color, optional, default : 'b'\n",
      "        `c` can be a single color format string, or a sequence of color\n",
      "        specifications of length `N`, or a sequence of `N` numbers to be\n",
      "        mapped to colors using the `cmap` and `norm` specified via kwargs\n",
      "        (see below). Note that `c` should not be a single numeric RGB or\n",
      "        RGBA sequence because that is indistinguishable from an array of\n",
      "        values to be colormapped.  `c` can be a 2-D array in which the\n",
      "        rows are RGB or RGBA, however, including the case of a single\n",
      "        row to specify the same color for all points.\n",
      "    \n",
      "    marker : `~matplotlib.markers.MarkerStyle`, optional, default: 'o'\n",
      "        See `~matplotlib.markers` for more information on the different\n",
      "        styles of markers scatter supports. `marker` can be either\n",
      "        an instance of the class or the text shorthand for a particular\n",
      "        marker.\n",
      "    \n",
      "    cmap : `~matplotlib.colors.Colormap`, optional, default: None\n",
      "        A `~matplotlib.colors.Colormap` instance or registered name.\n",
      "        `cmap` is only used if `c` is an array of floats. If None,\n",
      "        defaults to rc `image.cmap`.\n",
      "    \n",
      "    norm : `~matplotlib.colors.Normalize`, optional, default: None\n",
      "        A `~matplotlib.colors.Normalize` instance is used to scale\n",
      "        luminance data to 0, 1. `norm` is only used if `c` is an array of\n",
      "        floats. If `None`, use the default :func:`normalize`.\n",
      "    \n",
      "    vmin, vmax : scalar, optional, default: None\n",
      "        `vmin` and `vmax` are used in conjunction with `norm` to normalize\n",
      "        luminance data.  If either are `None`, the min and max of the\n",
      "        color array is used.  Note if you pass a `norm` instance, your\n",
      "        settings for `vmin` and `vmax` will be ignored.\n",
      "    \n",
      "    alpha : scalar, optional, default: None\n",
      "        The alpha blending value, between 0 (transparent) and 1 (opaque)\n",
      "    \n",
      "    linewidths : scalar or array_like, optional, default: None\n",
      "        If None, defaults to (lines.linewidth,).\n",
      "    \n",
      "    edgecolors : color or sequence of color, optional, default: None\n",
      "        If None, defaults to (patch.edgecolor).\n",
      "        If 'face', the edge color will always be the same as\n",
      "        the face color.  If it is 'none', the patch boundary will not\n",
      "        be drawn.  For non-filled markers, the `edgecolors` kwarg\n",
      "        is ignored; color is determined by `c`.\n",
      "    \n",
      "    Returns\n",
      "    -------\n",
      "    paths : `~matplotlib.collections.PathCollection`\n",
      "    \n",
      "    Other parameters\n",
      "    ----------------\n",
      "    kwargs : `~matplotlib.collections.Collection` properties\n",
      "    \n",
      "    Notes\n",
      "    ------\n",
      "    Any or all of `x`, `y`, `s`, and `c` may be masked arrays, in\n",
      "    which case all masks will be combined and only unmasked points\n",
      "    will be plotted.\n",
      "    \n",
      "    Fundamentally, scatter works with 1-D arrays; `x`, `y`, `s`,\n",
      "    and `c` may be input as 2-D arrays, but within scatter\n",
      "    they will be flattened. The exception is `c`, which\n",
      "    will be flattened only if its size matches the size of `x`\n",
      "    and `y`.\n",
      "    \n",
      "    Examples\n",
      "    --------\n",
      "    .. plot:: mpl_examples/shapes_and_collections/scatter_demo.py\n",
      "    \n",
      "    Notes\n",
      "    -----\n",
      "    \n",
      "    In addition to the above described arguments, this function can take a\n",
      "    **data** keyword argument. If such a **data** argument is given, the\n",
      "    following arguments are replaced by **data[<arg>]**:\n",
      "    \n",
      "    * All arguments with the following names: 's', 'y', 'facecolor', 'x', 'facecolors', 'edgecolors', 'color', 'c', 'linewidths'.\n",
      "    \n",
      "    \n",
      "    \n",
      "    \n",
      "    Additional kwargs: hold = [True|False] overrides default hold state\n",
      "\n"
     ]
    }
   ],
   "source": [
    "help(plt.scatter)"
   ]
  },
  {
   "cell_type": "code",
   "execution_count": 24,
   "metadata": {
    "collapsed": true
   },
   "outputs": [],
   "source": [
    "plt.scatter([1000,2000,3000,4000], [100,200,300,440], s = [1,2,3,4]) #s size dei punti\n",
    "\n",
    "# Put the x-axis on a logarithmic scale\n",
    "plt.xscale('log')\n",
    "\n",
    "# Show plot\n",
    "plt.show()"
   ]
  },
  {
   "cell_type": "markdown",
   "metadata": {},
   "source": [
    "Histograms"
   ]
  },
  {
   "cell_type": "code",
   "execution_count": 9,
   "metadata": {
    "collapsed": false
   },
   "outputs": [
    {
     "name": "stdout",
     "output_type": "stream",
     "text": [
      "Help on function hist in module matplotlib.pyplot:\n",
      "\n",
      "hist(x, bins=10, range=None, normed=False, weights=None, cumulative=False, bottom=None, histtype='bar', align='mid', orientation='vertical', rwidth=None, log=False, color=None, label=None, stacked=False, hold=None, data=None, **kwargs)\n",
      "    Plot a histogram.\n",
      "    \n",
      "    Compute and draw the histogram of *x*. The return value is a\n",
      "    tuple (*n*, *bins*, *patches*) or ([*n0*, *n1*, ...], *bins*,\n",
      "    [*patches0*, *patches1*,...]) if the input contains multiple\n",
      "    data.\n",
      "    \n",
      "    Multiple data can be provided via *x* as a list of datasets\n",
      "    of potentially different length ([*x0*, *x1*, ...]), or as\n",
      "    a 2-D ndarray in which each column is a dataset.  Note that\n",
      "    the ndarray form is transposed relative to the list form.\n",
      "    \n",
      "    Masked arrays are not supported at present.\n",
      "    \n",
      "    Parameters\n",
      "    ----------\n",
      "    x : (n,) array or sequence of (n,) arrays\n",
      "        Input values, this takes either a single array or a sequency of\n",
      "        arrays which are not required to be of the same length\n",
      "    \n",
      "    bins : integer or array_like, optional\n",
      "        If an integer is given, `bins + 1` bin edges are returned,\n",
      "        consistently with :func:`numpy.histogram` for numpy version >=\n",
      "        1.3.\n",
      "    \n",
      "        Unequally spaced bins are supported if `bins` is a sequence.\n",
      "    \n",
      "        default is 10\n",
      "    \n",
      "    range : tuple or None, optional\n",
      "        The lower and upper range of the bins. Lower and upper outliers\n",
      "        are ignored. If not provided, `range` is (x.min(), x.max()). Range\n",
      "        has no effect if `bins` is a sequence.\n",
      "    \n",
      "        If `bins` is a sequence or `range` is specified, autoscaling\n",
      "        is based on the specified bin range instead of the\n",
      "        range of x.\n",
      "    \n",
      "        Default is ``None``\n",
      "    \n",
      "    normed : boolean, optional\n",
      "        If `True`, the first element of the return tuple will\n",
      "        be the counts normalized to form a probability density, i.e.,\n",
      "        ``n/(len(x)`dbin)``, i.e., the integral of the histogram will sum\n",
      "        to 1. If *stacked* is also *True*, the sum of the histograms is\n",
      "        normalized to 1.\n",
      "    \n",
      "        Default is ``False``\n",
      "    \n",
      "    weights : (n, ) array_like or None, optional\n",
      "        An array of weights, of the same shape as `x`.  Each value in `x`\n",
      "        only contributes its associated weight towards the bin count\n",
      "        (instead of 1).  If `normed` is True, the weights are normalized,\n",
      "        so that the integral of the density over the range remains 1.\n",
      "    \n",
      "        Default is ``None``\n",
      "    \n",
      "    cumulative : boolean, optional\n",
      "        If `True`, then a histogram is computed where each bin gives the\n",
      "        counts in that bin plus all bins for smaller values. The last bin\n",
      "        gives the total number of datapoints.  If `normed` is also `True`\n",
      "        then the histogram is normalized such that the last bin equals 1.\n",
      "        If `cumulative` evaluates to less than 0 (e.g., -1), the direction\n",
      "        of accumulation is reversed.  In this case, if `normed` is also\n",
      "        `True`, then the histogram is normalized such that the first bin\n",
      "        equals 1.\n",
      "    \n",
      "        Default is ``False``\n",
      "    \n",
      "    bottom : array_like, scalar, or None\n",
      "        Location of the bottom baseline of each bin.  If a scalar,\n",
      "        the base line for each bin is shifted by the same amount.\n",
      "        If an array, each bin is shifted independently and the length\n",
      "        of bottom must match the number of bins.  If None, defaults to 0.\n",
      "    \n",
      "        Default is ``None``\n",
      "    \n",
      "    histtype : {'bar', 'barstacked', 'step',  'stepfilled'}, optional\n",
      "        The type of histogram to draw.\n",
      "    \n",
      "        - 'bar' is a traditional bar-type histogram.  If multiple data\n",
      "          are given the bars are aranged side by side.\n",
      "    \n",
      "        - 'barstacked' is a bar-type histogram where multiple\n",
      "          data are stacked on top of each other.\n",
      "    \n",
      "        - 'step' generates a lineplot that is by default\n",
      "          unfilled.\n",
      "    \n",
      "        - 'stepfilled' generates a lineplot that is by default\n",
      "          filled.\n",
      "    \n",
      "        Default is 'bar'\n",
      "    \n",
      "    align : {'left', 'mid', 'right'}, optional\n",
      "        Controls how the histogram is plotted.\n",
      "    \n",
      "            - 'left': bars are centered on the left bin edges.\n",
      "    \n",
      "            - 'mid': bars are centered between the bin edges.\n",
      "    \n",
      "            - 'right': bars are centered on the right bin edges.\n",
      "    \n",
      "        Default is 'mid'\n",
      "    \n",
      "    orientation : {'horizontal', 'vertical'}, optional\n",
      "        If 'horizontal', `~matplotlib.pyplot.barh` will be used for\n",
      "        bar-type histograms and the *bottom* kwarg will be the left edges.\n",
      "    \n",
      "    rwidth : scalar or None, optional\n",
      "        The relative width of the bars as a fraction of the bin width.  If\n",
      "        `None`, automatically compute the width.\n",
      "    \n",
      "        Ignored if `histtype` is 'step' or 'stepfilled'.\n",
      "    \n",
      "        Default is ``None``\n",
      "    \n",
      "    log : boolean, optional\n",
      "        If `True`, the histogram axis will be set to a log scale. If `log`\n",
      "        is `True` and `x` is a 1D array, empty bins will be filtered out\n",
      "        and only the non-empty (`n`, `bins`, `patches`) will be returned.\n",
      "    \n",
      "        Default is ``False``\n",
      "    \n",
      "    color : color or array_like of colors or None, optional\n",
      "        Color spec or sequence of color specs, one per dataset.  Default\n",
      "        (`None`) uses the standard line color sequence.\n",
      "    \n",
      "        Default is ``None``\n",
      "    \n",
      "    label : string or None, optional\n",
      "        String, or sequence of strings to match multiple datasets.  Bar\n",
      "        charts yield multiple patches per dataset, but only the first gets\n",
      "        the label, so that the legend command will work as expected.\n",
      "    \n",
      "        default is ``None``\n",
      "    \n",
      "    stacked : boolean, optional\n",
      "        If `True`, multiple data are stacked on top of each other If\n",
      "        `False` multiple data are aranged side by side if histtype is\n",
      "        'bar' or on top of each other if histtype is 'step'\n",
      "    \n",
      "        Default is ``False``\n",
      "    \n",
      "    Returns\n",
      "    -------\n",
      "    n : array or list of arrays\n",
      "        The values of the histogram bins. See **normed** and **weights**\n",
      "        for a description of the possible semantics. If input **x** is an\n",
      "        array, then this is an array of length **nbins**. If input is a\n",
      "        sequence arrays ``[data1, data2,..]``, then this is a list of\n",
      "        arrays with the values of the histograms for each of the arrays\n",
      "        in the same order.\n",
      "    \n",
      "    bins : array\n",
      "        The edges of the bins. Length nbins + 1 (nbins left edges and right\n",
      "        edge of last bin).  Always a single array even when multiple data\n",
      "        sets are passed in.\n",
      "    \n",
      "    patches : list or list of lists\n",
      "        Silent list of individual patches used to create the histogram\n",
      "        or list of such list if multiple input datasets.\n",
      "    \n",
      "    Other Parameters\n",
      "    ----------------\n",
      "    kwargs : `~matplotlib.patches.Patch` properties\n",
      "    \n",
      "    See also\n",
      "    --------\n",
      "    hist2d : 2D histograms\n",
      "    \n",
      "    Notes\n",
      "    -----\n",
      "    Until numpy release 1.5, the underlying numpy histogram function was\n",
      "    incorrect with `normed`=`True` if bin sizes were unequal.  MPL\n",
      "    inherited that error.  It is now corrected within MPL when using\n",
      "    earlier numpy versions.\n",
      "    \n",
      "    Examples\n",
      "    --------\n",
      "    .. plot:: mpl_examples/statistics/histogram_demo_features.py\n",
      "    \n",
      "    Notes\n",
      "    -----\n",
      "    \n",
      "    In addition to the above described arguments, this function can take a\n",
      "    **data** keyword argument. If such a **data** argument is given, the\n",
      "    following arguments are replaced by **data[<arg>]**:\n",
      "    \n",
      "    * All arguments with the following names: 'x', 'weights'.\n",
      "    \n",
      "    \n",
      "    \n",
      "    \n",
      "    Additional kwargs: hold = [True|False] overrides default hold state\n",
      "\n"
     ]
    }
   ],
   "source": [
    "help(plt.hist)"
   ]
  },
  {
   "cell_type": "code",
   "execution_count": 16,
   "metadata": {
    "collapsed": true
   },
   "outputs": [],
   "source": [
    "plt.hist([1,4,33,77,99,22,55,77,12,34,56,78], bins = 3)\n",
    "# Show and clean up again\n",
    "plt.show()\n",
    "plt.clf()"
   ]
  },
  {
   "cell_type": "code",
   "execution_count": null,
   "metadata": {
    "collapsed": true
   },
   "outputs": [],
   "source": []
  }
 ],
 "metadata": {
  "kernelspec": {
   "display_name": "Python 3",
   "language": "python",
   "name": "python3"
  },
  "language_info": {
   "codemirror_mode": {
    "name": "ipython",
    "version": 3
   },
   "file_extension": ".py",
   "mimetype": "text/x-python",
   "name": "python",
   "nbconvert_exporter": "python",
   "pygments_lexer": "ipython3",
   "version": "3.5.1"
  }
 },
 "nbformat": 4,
 "nbformat_minor": 0
}
