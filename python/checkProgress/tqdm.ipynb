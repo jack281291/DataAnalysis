{
 "cells": [
  {
   "cell_type": "code",
   "execution_count": 1,
   "metadata": {
    "collapsed": true
   },
   "outputs": [],
   "source": [
    "import tqdm"
   ]
  },
  {
   "cell_type": "markdown",
   "metadata": {},
   "source": [
    "## Usage\n",
    "tqdm is very versatile and can be used in a number of ways. The three main ones are given below.\n",
    "\n",
    "### Iterable-based\n",
    "Wrap tqdm() around any iterable:"
   ]
  },
  {
   "cell_type": "code",
   "execution_count": 3,
   "metadata": {
    "collapsed": false
   },
   "outputs": [
    {
     "name": "stderr",
     "output_type": "stream",
     "text": [
      "100%|██████████| 4/4 [00:00<00:00, 35025.50it/s]\n"
     ]
    }
   ],
   "source": [
    "text = \"\"\n",
    "for char in tqdm.tqdm([\"a\", \"b\", \"c\", \"d\"]):\n",
    "    text = text + char"
   ]
  },
  {
   "cell_type": "code",
   "execution_count": 5,
   "metadata": {
    "collapsed": false
   },
   "outputs": [
    {
     "name": "stderr",
     "output_type": "stream",
     "text": [
      "100%|██████████| 10/10 [00:00<00:00, 96420.78it/s]"
     ]
    },
    {
     "name": "stdout",
     "output_type": "stream",
     "text": [
      "45\n"
     ]
    },
    {
     "name": "stderr",
     "output_type": "stream",
     "text": [
      "\n"
     ]
    }
   ],
   "source": [
    "count = 0\n",
    "for i in tqdm.trange(10):\n",
    "    count += i\n",
    "print(count)"
   ]
  },
  {
   "cell_type": "markdown",
   "metadata": {},
   "source": [
    "### Manual\n",
    "Manual control on tqdm() updates by using a with statement:\n",
    "\n"
   ]
  },
  {
   "cell_type": "code",
   "execution_count": 6,
   "metadata": {
    "collapsed": false
   },
   "outputs": [
    {
     "name": "stderr",
     "output_type": "stream",
     "text": [
      "100%|██████████| 100/100 [00:00<00:00, 883011.37it/s]\n"
     ]
    }
   ],
   "source": [
    "with tqdm.tqdm(total=100) as pbar:\n",
    "    for i in range(10):\n",
    "        pbar.update(10)"
   ]
  },
  {
   "cell_type": "markdown",
   "metadata": {},
   "source": [
    "If the optional variable total (or an iterable with len()) is provided, predictive stats are displayed.\n",
    "\n",
    "with is also optional (you can just assign tqdm() to a variable, but in this case don’t forget to del or close() at the end:"
   ]
  },
  {
   "cell_type": "code",
   "execution_count": 8,
   "metadata": {
    "collapsed": false
   },
   "outputs": [
    {
     "name": "stderr",
     "output_type": "stream",
     "text": [
      "100%|██████████| 100/100 [00:00<00:00, 418593.21it/s]\n"
     ]
    }
   ],
   "source": [
    "pbar = tqdm.tqdm(total=100)\n",
    "for i in range(10):\n",
    "    pbar.update(10)\n",
    "pbar.close()"
   ]
  },
  {
   "cell_type": "markdown",
   "metadata": {},
   "source": [
    "### Module\n",
    "Perhaps the most wonderful use of tqdm is in a script or on the command line. Simply inserting tqdm (or python -m tqdm) between pipes will pass through all stdin to stdout while printing progress to stderr.\n",
    "\n",
    "The example below demonstrated counting the number of lines in all python files in the current directory, with timing information included.\n",
    "\n"
   ]
  },
  {
   "cell_type": "markdown",
   "metadata": {},
   "source": [
    "## Pandas Integration\n",
    "\n",
    "Due to popular demand we’ve added support for pandas – here’s an example for DataFrame.progress_apply and DataFrameGroupBy.progress_apply:\n",
    "\n"
   ]
  },
  {
   "cell_type": "code",
   "execution_count": 11,
   "metadata": {
    "collapsed": false,
    "scrolled": true
   },
   "outputs": [
    {
     "name": "stderr",
     "output_type": "stream",
     "text": [
      "my bar!: 7it [00:00, 279.22it/s]              \n"
     ]
    },
    {
     "data": {
      "text/html": [
       "<div>\n",
       "<table border=\"1\" class=\"dataframe\">\n",
       "  <thead>\n",
       "    <tr style=\"text-align: right;\">\n",
       "      <th></th>\n",
       "      <th>0</th>\n",
       "      <th>1</th>\n",
       "      <th>2</th>\n",
       "      <th>3</th>\n",
       "      <th>4</th>\n",
       "      <th>5</th>\n",
       "    </tr>\n",
       "  </thead>\n",
       "  <tbody>\n",
       "    <tr>\n",
       "      <th>0</th>\n",
       "      <td>8281</td>\n",
       "      <td>1</td>\n",
       "      <td>1936</td>\n",
       "      <td>7396</td>\n",
       "      <td>2209</td>\n",
       "      <td>144</td>\n",
       "    </tr>\n",
       "    <tr>\n",
       "      <th>1</th>\n",
       "      <td>1024</td>\n",
       "      <td>7744</td>\n",
       "      <td>400</td>\n",
       "      <td>4225</td>\n",
       "      <td>3025</td>\n",
       "      <td>4</td>\n",
       "    </tr>\n",
       "    <tr>\n",
       "      <th>2</th>\n",
       "      <td>9</td>\n",
       "      <td>1936</td>\n",
       "      <td>1296</td>\n",
       "      <td>5184</td>\n",
       "      <td>1521</td>\n",
       "      <td>441</td>\n",
       "    </tr>\n",
       "    <tr>\n",
       "      <th>3</th>\n",
       "      <td>1089</td>\n",
       "      <td>1764</td>\n",
       "      <td>6084</td>\n",
       "      <td>121</td>\n",
       "      <td>484</td>\n",
       "      <td>1936</td>\n",
       "    </tr>\n",
       "    <tr>\n",
       "      <th>4</th>\n",
       "      <td>6241</td>\n",
       "      <td>2916</td>\n",
       "      <td>7056</td>\n",
       "      <td>1296</td>\n",
       "      <td>4489</td>\n",
       "      <td>729</td>\n",
       "    </tr>\n",
       "    <tr>\n",
       "      <th>5</th>\n",
       "      <td>289</td>\n",
       "      <td>3844</td>\n",
       "      <td>3249</td>\n",
       "      <td>3136</td>\n",
       "      <td>1</td>\n",
       "      <td>7744</td>\n",
       "    </tr>\n",
       "    <tr>\n",
       "      <th>6</th>\n",
       "      <td>4900</td>\n",
       "      <td>7921</td>\n",
       "      <td>9025</td>\n",
       "      <td>2601</td>\n",
       "      <td>3969</td>\n",
       "      <td>7569</td>\n",
       "    </tr>\n",
       "    <tr>\n",
       "      <th>7</th>\n",
       "      <td>1089</td>\n",
       "      <td>5476</td>\n",
       "      <td>121</td>\n",
       "      <td>4225</td>\n",
       "      <td>4900</td>\n",
       "      <td>196</td>\n",
       "    </tr>\n",
       "    <tr>\n",
       "      <th>8</th>\n",
       "      <td>1089</td>\n",
       "      <td>5929</td>\n",
       "      <td>1225</td>\n",
       "      <td>3600</td>\n",
       "      <td>2401</td>\n",
       "      <td>0</td>\n",
       "    </tr>\n",
       "    <tr>\n",
       "      <th>9</th>\n",
       "      <td>169</td>\n",
       "      <td>9801</td>\n",
       "      <td>6724</td>\n",
       "      <td>7396</td>\n",
       "      <td>4900</td>\n",
       "      <td>9216</td>\n",
       "    </tr>\n",
       "    <tr>\n",
       "      <th>10</th>\n",
       "      <td>1089</td>\n",
       "      <td>8100</td>\n",
       "      <td>6400</td>\n",
       "      <td>2704</td>\n",
       "      <td>3364</td>\n",
       "      <td>4096</td>\n",
       "    </tr>\n",
       "    <tr>\n",
       "      <th>11</th>\n",
       "      <td>4225</td>\n",
       "      <td>6400</td>\n",
       "      <td>49</td>\n",
       "      <td>1156</td>\n",
       "      <td>3249</td>\n",
       "      <td>49</td>\n",
       "    </tr>\n",
       "    <tr>\n",
       "      <th>12</th>\n",
       "      <td>1444</td>\n",
       "      <td>529</td>\n",
       "      <td>729</td>\n",
       "      <td>1369</td>\n",
       "      <td>2601</td>\n",
       "      <td>1444</td>\n",
       "    </tr>\n",
       "    <tr>\n",
       "      <th>13</th>\n",
       "      <td>9604</td>\n",
       "      <td>900</td>\n",
       "      <td>3969</td>\n",
       "      <td>16</td>\n",
       "      <td>9025</td>\n",
       "      <td>8464</td>\n",
       "    </tr>\n",
       "    <tr>\n",
       "      <th>14</th>\n",
       "      <td>6084</td>\n",
       "      <td>6561</td>\n",
       "      <td>256</td>\n",
       "      <td>100</td>\n",
       "      <td>2916</td>\n",
       "      <td>7056</td>\n",
       "    </tr>\n",
       "    <tr>\n",
       "      <th>15</th>\n",
       "      <td>1936</td>\n",
       "      <td>1156</td>\n",
       "      <td>2025</td>\n",
       "      <td>256</td>\n",
       "      <td>8100</td>\n",
       "      <td>144</td>\n",
       "    </tr>\n",
       "    <tr>\n",
       "      <th>16</th>\n",
       "      <td>676</td>\n",
       "      <td>5476</td>\n",
       "      <td>961</td>\n",
       "      <td>169</td>\n",
       "      <td>1444</td>\n",
       "      <td>3844</td>\n",
       "    </tr>\n",
       "    <tr>\n",
       "      <th>17</th>\n",
       "      <td>169</td>\n",
       "      <td>9</td>\n",
       "      <td>324</td>\n",
       "      <td>25</td>\n",
       "      <td>4356</td>\n",
       "      <td>7056</td>\n",
       "    </tr>\n",
       "    <tr>\n",
       "      <th>18</th>\n",
       "      <td>4489</td>\n",
       "      <td>2916</td>\n",
       "      <td>4356</td>\n",
       "      <td>3364</td>\n",
       "      <td>3481</td>\n",
       "      <td>169</td>\n",
       "    </tr>\n",
       "    <tr>\n",
       "      <th>19</th>\n",
       "      <td>625</td>\n",
       "      <td>3136</td>\n",
       "      <td>9801</td>\n",
       "      <td>3844</td>\n",
       "      <td>64</td>\n",
       "      <td>3721</td>\n",
       "    </tr>\n",
       "    <tr>\n",
       "      <th>20</th>\n",
       "      <td>676</td>\n",
       "      <td>9</td>\n",
       "      <td>5476</td>\n",
       "      <td>1444</td>\n",
       "      <td>7921</td>\n",
       "      <td>5041</td>\n",
       "    </tr>\n",
       "    <tr>\n",
       "      <th>21</th>\n",
       "      <td>0</td>\n",
       "      <td>6241</td>\n",
       "      <td>841</td>\n",
       "      <td>625</td>\n",
       "      <td>196</td>\n",
       "      <td>9216</td>\n",
       "    </tr>\n",
       "    <tr>\n",
       "      <th>22</th>\n",
       "      <td>1444</td>\n",
       "      <td>1600</td>\n",
       "      <td>529</td>\n",
       "      <td>441</td>\n",
       "      <td>2025</td>\n",
       "      <td>625</td>\n",
       "    </tr>\n",
       "    <tr>\n",
       "      <th>23</th>\n",
       "      <td>25</td>\n",
       "      <td>3600</td>\n",
       "      <td>2809</td>\n",
       "      <td>6724</td>\n",
       "      <td>5184</td>\n",
       "      <td>7056</td>\n",
       "    </tr>\n",
       "    <tr>\n",
       "      <th>24</th>\n",
       "      <td>6241</td>\n",
       "      <td>9</td>\n",
       "      <td>1600</td>\n",
       "      <td>144</td>\n",
       "      <td>4225</td>\n",
       "      <td>400</td>\n",
       "    </tr>\n",
       "    <tr>\n",
       "      <th>25</th>\n",
       "      <td>529</td>\n",
       "      <td>3721</td>\n",
       "      <td>9216</td>\n",
       "      <td>841</td>\n",
       "      <td>4356</td>\n",
       "      <td>900</td>\n",
       "    </tr>\n",
       "    <tr>\n",
       "      <th>26</th>\n",
       "      <td>3249</td>\n",
       "      <td>0</td>\n",
       "      <td>5041</td>\n",
       "      <td>5329</td>\n",
       "      <td>16</td>\n",
       "      <td>3721</td>\n",
       "    </tr>\n",
       "    <tr>\n",
       "      <th>27</th>\n",
       "      <td>784</td>\n",
       "      <td>625</td>\n",
       "      <td>0</td>\n",
       "      <td>1444</td>\n",
       "      <td>9801</td>\n",
       "      <td>841</td>\n",
       "    </tr>\n",
       "    <tr>\n",
       "      <th>28</th>\n",
       "      <td>5625</td>\n",
       "      <td>4</td>\n",
       "      <td>7225</td>\n",
       "      <td>784</td>\n",
       "      <td>961</td>\n",
       "      <td>6561</td>\n",
       "    </tr>\n",
       "    <tr>\n",
       "      <th>29</th>\n",
       "      <td>361</td>\n",
       "      <td>0</td>\n",
       "      <td>7396</td>\n",
       "      <td>289</td>\n",
       "      <td>1</td>\n",
       "      <td>2500</td>\n",
       "    </tr>\n",
       "    <tr>\n",
       "      <th>...</th>\n",
       "      <td>...</td>\n",
       "      <td>...</td>\n",
       "      <td>...</td>\n",
       "      <td>...</td>\n",
       "      <td>...</td>\n",
       "      <td>...</td>\n",
       "    </tr>\n",
       "    <tr>\n",
       "      <th>99970</th>\n",
       "      <td>400</td>\n",
       "      <td>7569</td>\n",
       "      <td>9604</td>\n",
       "      <td>5476</td>\n",
       "      <td>289</td>\n",
       "      <td>7921</td>\n",
       "    </tr>\n",
       "    <tr>\n",
       "      <th>99971</th>\n",
       "      <td>169</td>\n",
       "      <td>3136</td>\n",
       "      <td>4225</td>\n",
       "      <td>1156</td>\n",
       "      <td>144</td>\n",
       "      <td>4</td>\n",
       "    </tr>\n",
       "    <tr>\n",
       "      <th>99972</th>\n",
       "      <td>900</td>\n",
       "      <td>4356</td>\n",
       "      <td>484</td>\n",
       "      <td>4</td>\n",
       "      <td>256</td>\n",
       "      <td>324</td>\n",
       "    </tr>\n",
       "    <tr>\n",
       "      <th>99973</th>\n",
       "      <td>6724</td>\n",
       "      <td>1444</td>\n",
       "      <td>1600</td>\n",
       "      <td>2116</td>\n",
       "      <td>6724</td>\n",
       "      <td>361</td>\n",
       "    </tr>\n",
       "    <tr>\n",
       "      <th>99974</th>\n",
       "      <td>1</td>\n",
       "      <td>2809</td>\n",
       "      <td>1849</td>\n",
       "      <td>5476</td>\n",
       "      <td>196</td>\n",
       "      <td>2500</td>\n",
       "    </tr>\n",
       "    <tr>\n",
       "      <th>99975</th>\n",
       "      <td>8464</td>\n",
       "      <td>4761</td>\n",
       "      <td>3136</td>\n",
       "      <td>5041</td>\n",
       "      <td>7396</td>\n",
       "      <td>3025</td>\n",
       "    </tr>\n",
       "    <tr>\n",
       "      <th>99976</th>\n",
       "      <td>6084</td>\n",
       "      <td>2601</td>\n",
       "      <td>4624</td>\n",
       "      <td>2116</td>\n",
       "      <td>1089</td>\n",
       "      <td>7396</td>\n",
       "    </tr>\n",
       "    <tr>\n",
       "      <th>99977</th>\n",
       "      <td>529</td>\n",
       "      <td>324</td>\n",
       "      <td>2025</td>\n",
       "      <td>4356</td>\n",
       "      <td>1</td>\n",
       "      <td>729</td>\n",
       "    </tr>\n",
       "    <tr>\n",
       "      <th>99978</th>\n",
       "      <td>529</td>\n",
       "      <td>676</td>\n",
       "      <td>6084</td>\n",
       "      <td>400</td>\n",
       "      <td>576</td>\n",
       "      <td>2025</td>\n",
       "    </tr>\n",
       "    <tr>\n",
       "      <th>99979</th>\n",
       "      <td>2116</td>\n",
       "      <td>1521</td>\n",
       "      <td>6241</td>\n",
       "      <td>5329</td>\n",
       "      <td>5329</td>\n",
       "      <td>5476</td>\n",
       "    </tr>\n",
       "    <tr>\n",
       "      <th>99980</th>\n",
       "      <td>16</td>\n",
       "      <td>3136</td>\n",
       "      <td>1296</td>\n",
       "      <td>1849</td>\n",
       "      <td>784</td>\n",
       "      <td>1936</td>\n",
       "    </tr>\n",
       "    <tr>\n",
       "      <th>99981</th>\n",
       "      <td>3844</td>\n",
       "      <td>3721</td>\n",
       "      <td>576</td>\n",
       "      <td>8836</td>\n",
       "      <td>225</td>\n",
       "      <td>7396</td>\n",
       "    </tr>\n",
       "    <tr>\n",
       "      <th>99982</th>\n",
       "      <td>3969</td>\n",
       "      <td>3136</td>\n",
       "      <td>2704</td>\n",
       "      <td>9025</td>\n",
       "      <td>2704</td>\n",
       "      <td>841</td>\n",
       "    </tr>\n",
       "    <tr>\n",
       "      <th>99983</th>\n",
       "      <td>3481</td>\n",
       "      <td>441</td>\n",
       "      <td>2500</td>\n",
       "      <td>4356</td>\n",
       "      <td>361</td>\n",
       "      <td>5329</td>\n",
       "    </tr>\n",
       "    <tr>\n",
       "      <th>99984</th>\n",
       "      <td>256</td>\n",
       "      <td>6724</td>\n",
       "      <td>9801</td>\n",
       "      <td>1600</td>\n",
       "      <td>3969</td>\n",
       "      <td>6889</td>\n",
       "    </tr>\n",
       "    <tr>\n",
       "      <th>99985</th>\n",
       "      <td>9604</td>\n",
       "      <td>2809</td>\n",
       "      <td>5041</td>\n",
       "      <td>6084</td>\n",
       "      <td>1225</td>\n",
       "      <td>6241</td>\n",
       "    </tr>\n",
       "    <tr>\n",
       "      <th>99986</th>\n",
       "      <td>1296</td>\n",
       "      <td>9216</td>\n",
       "      <td>1936</td>\n",
       "      <td>100</td>\n",
       "      <td>625</td>\n",
       "      <td>4096</td>\n",
       "    </tr>\n",
       "    <tr>\n",
       "      <th>99987</th>\n",
       "      <td>7056</td>\n",
       "      <td>1156</td>\n",
       "      <td>2500</td>\n",
       "      <td>324</td>\n",
       "      <td>8464</td>\n",
       "      <td>121</td>\n",
       "    </tr>\n",
       "    <tr>\n",
       "      <th>99988</th>\n",
       "      <td>784</td>\n",
       "      <td>49</td>\n",
       "      <td>7056</td>\n",
       "      <td>9025</td>\n",
       "      <td>7396</td>\n",
       "      <td>1600</td>\n",
       "    </tr>\n",
       "    <tr>\n",
       "      <th>99989</th>\n",
       "      <td>4624</td>\n",
       "      <td>196</td>\n",
       "      <td>4761</td>\n",
       "      <td>9216</td>\n",
       "      <td>361</td>\n",
       "      <td>441</td>\n",
       "    </tr>\n",
       "    <tr>\n",
       "      <th>99990</th>\n",
       "      <td>8100</td>\n",
       "      <td>169</td>\n",
       "      <td>100</td>\n",
       "      <td>4761</td>\n",
       "      <td>7225</td>\n",
       "      <td>2916</td>\n",
       "    </tr>\n",
       "    <tr>\n",
       "      <th>99991</th>\n",
       "      <td>6561</td>\n",
       "      <td>9604</td>\n",
       "      <td>36</td>\n",
       "      <td>7744</td>\n",
       "      <td>36</td>\n",
       "      <td>529</td>\n",
       "    </tr>\n",
       "    <tr>\n",
       "      <th>99992</th>\n",
       "      <td>676</td>\n",
       "      <td>1024</td>\n",
       "      <td>5329</td>\n",
       "      <td>1089</td>\n",
       "      <td>0</td>\n",
       "      <td>225</td>\n",
       "    </tr>\n",
       "    <tr>\n",
       "      <th>99993</th>\n",
       "      <td>7225</td>\n",
       "      <td>2704</td>\n",
       "      <td>676</td>\n",
       "      <td>900</td>\n",
       "      <td>64</td>\n",
       "      <td>441</td>\n",
       "    </tr>\n",
       "    <tr>\n",
       "      <th>99994</th>\n",
       "      <td>6889</td>\n",
       "      <td>1225</td>\n",
       "      <td>2500</td>\n",
       "      <td>1849</td>\n",
       "      <td>625</td>\n",
       "      <td>225</td>\n",
       "    </tr>\n",
       "    <tr>\n",
       "      <th>99995</th>\n",
       "      <td>36</td>\n",
       "      <td>6889</td>\n",
       "      <td>256</td>\n",
       "      <td>7569</td>\n",
       "      <td>4225</td>\n",
       "      <td>2500</td>\n",
       "    </tr>\n",
       "    <tr>\n",
       "      <th>99996</th>\n",
       "      <td>529</td>\n",
       "      <td>6400</td>\n",
       "      <td>8100</td>\n",
       "      <td>16</td>\n",
       "      <td>3136</td>\n",
       "      <td>64</td>\n",
       "    </tr>\n",
       "    <tr>\n",
       "      <th>99997</th>\n",
       "      <td>5625</td>\n",
       "      <td>729</td>\n",
       "      <td>2809</td>\n",
       "      <td>1444</td>\n",
       "      <td>3364</td>\n",
       "      <td>7921</td>\n",
       "    </tr>\n",
       "    <tr>\n",
       "      <th>99998</th>\n",
       "      <td>7225</td>\n",
       "      <td>441</td>\n",
       "      <td>2304</td>\n",
       "      <td>1225</td>\n",
       "      <td>1764</td>\n",
       "      <td>3364</td>\n",
       "    </tr>\n",
       "    <tr>\n",
       "      <th>99999</th>\n",
       "      <td>576</td>\n",
       "      <td>9604</td>\n",
       "      <td>8649</td>\n",
       "      <td>2916</td>\n",
       "      <td>7056</td>\n",
       "      <td>3844</td>\n",
       "    </tr>\n",
       "  </tbody>\n",
       "</table>\n",
       "<p>100000 rows × 6 columns</p>\n",
       "</div>"
      ],
      "text/plain": [
       "          0     1     2     3     4     5\n",
       "0      8281     1  1936  7396  2209   144\n",
       "1      1024  7744   400  4225  3025     4\n",
       "2         9  1936  1296  5184  1521   441\n",
       "3      1089  1764  6084   121   484  1936\n",
       "4      6241  2916  7056  1296  4489   729\n",
       "5       289  3844  3249  3136     1  7744\n",
       "6      4900  7921  9025  2601  3969  7569\n",
       "7      1089  5476   121  4225  4900   196\n",
       "8      1089  5929  1225  3600  2401     0\n",
       "9       169  9801  6724  7396  4900  9216\n",
       "10     1089  8100  6400  2704  3364  4096\n",
       "11     4225  6400    49  1156  3249    49\n",
       "12     1444   529   729  1369  2601  1444\n",
       "13     9604   900  3969    16  9025  8464\n",
       "14     6084  6561   256   100  2916  7056\n",
       "15     1936  1156  2025   256  8100   144\n",
       "16      676  5476   961   169  1444  3844\n",
       "17      169     9   324    25  4356  7056\n",
       "18     4489  2916  4356  3364  3481   169\n",
       "19      625  3136  9801  3844    64  3721\n",
       "20      676     9  5476  1444  7921  5041\n",
       "21        0  6241   841   625   196  9216\n",
       "22     1444  1600   529   441  2025   625\n",
       "23       25  3600  2809  6724  5184  7056\n",
       "24     6241     9  1600   144  4225   400\n",
       "25      529  3721  9216   841  4356   900\n",
       "26     3249     0  5041  5329    16  3721\n",
       "27      784   625     0  1444  9801   841\n",
       "28     5625     4  7225   784   961  6561\n",
       "29      361     0  7396   289     1  2500\n",
       "...     ...   ...   ...   ...   ...   ...\n",
       "99970   400  7569  9604  5476   289  7921\n",
       "99971   169  3136  4225  1156   144     4\n",
       "99972   900  4356   484     4   256   324\n",
       "99973  6724  1444  1600  2116  6724   361\n",
       "99974     1  2809  1849  5476   196  2500\n",
       "99975  8464  4761  3136  5041  7396  3025\n",
       "99976  6084  2601  4624  2116  1089  7396\n",
       "99977   529   324  2025  4356     1   729\n",
       "99978   529   676  6084   400   576  2025\n",
       "99979  2116  1521  6241  5329  5329  5476\n",
       "99980    16  3136  1296  1849   784  1936\n",
       "99981  3844  3721   576  8836   225  7396\n",
       "99982  3969  3136  2704  9025  2704   841\n",
       "99983  3481   441  2500  4356   361  5329\n",
       "99984   256  6724  9801  1600  3969  6889\n",
       "99985  9604  2809  5041  6084  1225  6241\n",
       "99986  1296  9216  1936   100   625  4096\n",
       "99987  7056  1156  2500   324  8464   121\n",
       "99988   784    49  7056  9025  7396  1600\n",
       "99989  4624   196  4761  9216   361   441\n",
       "99990  8100   169   100  4761  7225  2916\n",
       "99991  6561  9604    36  7744    36   529\n",
       "99992   676  1024  5329  1089     0   225\n",
       "99993  7225  2704   676   900    64   441\n",
       "99994  6889  1225  2500  1849   625   225\n",
       "99995    36  6889   256  7569  4225  2500\n",
       "99996   529  6400  8100    16  3136    64\n",
       "99997  5625   729  2809  1444  3364  7921\n",
       "99998  7225   441  2304  1225  1764  3364\n",
       "99999   576  9604  8649  2916  7056  3844\n",
       "\n",
       "[100000 rows x 6 columns]"
      ]
     },
     "execution_count": 11,
     "metadata": {},
     "output_type": "execute_result"
    }
   ],
   "source": [
    "import pandas as pd\n",
    "import numpy as np\n",
    "from tqdm import tqdm\n",
    "\n",
    "df = pd.DataFrame(np.random.randint(0, 100, (100000, 6)))\n",
    "\n",
    "# Register `pandas.progress_apply` and `pandas.Series.map_apply` with `tqdm`\n",
    "# (can use `tqdm_gui`, `tqdm_notebook`, optional kwargs, etc.)\n",
    "tqdm.pandas(desc=\"my bar!\")\n",
    "\n",
    "# Now you can use `progress_apply` instead of `apply`\n",
    "# and `progress_map` instead of `map`\n",
    "df.progress_apply(lambda x: x**2)\n",
    "# can also groupby:\n",
    "# df.groupby(0).progress_apply(lambda x: x**2)"
   ]
  },
  {
   "cell_type": "markdown",
   "metadata": {},
   "source": [
    "## IPython/Jupyter Integration\n",
    "IPython/Jupyter is supported via the tqdm_notebook submodule:\n",
    "\n"
   ]
  },
  {
   "cell_type": "code",
   "execution_count": 13,
   "metadata": {
    "collapsed": false
   },
   "outputs": [
    {
     "name": "stdout",
     "output_type": "stream",
     "text": [
      "\n"
     ]
    }
   ],
   "source": [
    "from tqdm import tnrange, tqdm_notebook\n",
    "from time import sleep\n",
    "\n",
    "for i in tnrange(10, desc='1st loop'):\n",
    "    for j in tqdm_notebook(range(100), desc='2nd loop'):\n",
    "        sleep(0.01)"
   ]
  },
  {
   "cell_type": "code",
   "execution_count": null,
   "metadata": {
    "collapsed": true
   },
   "outputs": [],
   "source": []
  }
 ],
 "metadata": {
  "anaconda-cloud": {},
  "kernelspec": {
   "display_name": "Python [default]",
   "language": "python",
   "name": "python3"
  },
  "language_info": {
   "codemirror_mode": {
    "name": "ipython",
    "version": 3
   },
   "file_extension": ".py",
   "mimetype": "text/x-python",
   "name": "python",
   "nbconvert_exporter": "python",
   "pygments_lexer": "ipython3",
   "version": "3.5.2"
  },
  "widgets": {
   "state": {
    "107f8ba535ca4b1bbd7c941594505671": {
     "views": [
      {
       "cell_index": 12
      }
     ]
    },
    "306c39b726d34d7587778682875afd12": {
     "views": [
      {
       "cell_index": 12
      }
     ]
    },
    "36dd561010884c08ba544a36a6238b4a": {
     "views": [
      {
       "cell_index": 12
      }
     ]
    },
    "374a49459989499a9939a56d818586c5": {
     "views": [
      {
       "cell_index": 12
      }
     ]
    },
    "5fb98e6f7e724ed7bce2e53dcf5c2c42": {
     "views": [
      {
       "cell_index": 12
      }
     ]
    },
    "7ca2a1919cee4709bd92ed2f7308624c": {
     "views": [
      {
       "cell_index": 12
      }
     ]
    },
    "7df39944b70446b8847e3f1c37b39612": {
     "views": [
      {
       "cell_index": 12
      }
     ]
    },
    "b0503929050f4971b6acb7aca7dcb0a0": {
     "views": [
      {
       "cell_index": 12
      }
     ]
    },
    "b29e31d8847b4f68a80f3e373034a52d": {
     "views": [
      {
       "cell_index": 12
      }
     ]
    },
    "bed92c6fcabb483f919d1955a6f178d9": {
     "views": [
      {
       "cell_index": 12
      }
     ]
    },
    "f1243bdb351c4d6b998712fdc99bbe3c": {
     "views": [
      {
       "cell_index": 12
      }
     ]
    }
   },
   "version": "1.2.0"
  }
 },
 "nbformat": 4,
 "nbformat_minor": 1
}
