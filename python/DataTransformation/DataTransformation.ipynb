{
 "cells": [
  {
   "cell_type": "markdown",
   "metadata": {},
   "source": [
    "# Data Transformation"
   ]
  },
  {
   "cell_type": "markdown",
   "metadata": {},
   "source": [
    "Data transformation converts the data into appropriate form for data mining. Common data\n",
    "transformation methods can be:\n",
    "\n",
    "    - Normalization\n",
    "    - Discretization"
   ]
  },
  {
   "cell_type": "markdown",
   "metadata": {},
   "source": [
    "## Normalization"
   ]
  },
  {
   "cell_type": "markdown",
   "metadata": {},
   "source": [
    "\n",
    "For some attributes it varies much between minimum and maximum values, e.g. 0.1 and 1000.\n",
    "Normalization scales attribute values to fall within a specified range, like [0,1]. This is\n",
    "particularly useful for some algorithms such as **neural networks** and **k-Nearest Neighborhood**.\n",
    "The two most common normalization methods are:\n",
    "Let v be the old value for feature A, v’ is the normalized value for feature A, the values will be transformed to fall in [new_min A , new_max A ].\n",
    "\n",
    "        a) Z-score normalization --> (v -mean(v))/std(v))\n",
    "        b) Min-max normalization: (v - min(v))/(max(v) - min(v))"
   ]
  },
  {
   "cell_type": "code",
   "execution_count": 2,
   "metadata": {
    "collapsed": true
   },
   "outputs": [],
   "source": [
    "import numpy as np\n",
    "import pandas as pd\n",
    "from sklearn.preprocessing import StandardScaler\n",
    "from sklearn.preprocessing import MinMaxScaler"
   ]
  },
  {
   "cell_type": "code",
   "execution_count": 4,
   "metadata": {
    "collapsed": false
   },
   "outputs": [
    {
     "data": {
      "text/plain": [
       "count    1.730000e+02\n",
       "mean     2.302566e+05\n",
       "std      4.220685e+05\n",
       "min      2.396000e+03\n",
       "25%      2.428000e+04\n",
       "50%      7.579100e+04\n",
       "75%      2.057630e+05\n",
       "max      3.123510e+06\n",
       "Name: Total, dtype: float64"
      ]
     },
     "execution_count": 4,
     "metadata": {},
     "output_type": "execute_result"
    }
   ],
   "source": [
    "df = pd.read_csv(\"/home/antonio/Dropbox/DataAnalysis/python/dati/all_age.csv\")\n",
    "dfTotal = df.Total\n",
    "dfTotal.describe()"
   ]
  },
  {
   "cell_type": "code",
   "execution_count": 16,
   "metadata": {
    "collapsed": false
   },
   "outputs": [
    {
     "name": "stderr",
     "output_type": "stream",
     "text": [
      "/home/antonio/anaconda3/lib/python3.5/site-packages/sklearn/utils/validation.py:420: DataConversionWarning: Data with input dtype int64 was converted to float64 by StandardScaler.\n",
      "  warnings.warn(msg, DataConversionWarning)\n",
      "/home/antonio/anaconda3/lib/python3.5/site-packages/sklearn/preprocessing/data.py:583: DeprecationWarning: Passing 1d arrays as data is deprecated in 0.17 and will raise ValueError in 0.19. Reshape your data either using X.reshape(-1, 1) if your data has a single feature or X.reshape(1, -1) if it contains a single sample.\n",
      "  warnings.warn(DEPRECATION_MSG_1D, DeprecationWarning)\n",
      "/home/antonio/anaconda3/lib/python3.5/site-packages/sklearn/utils/validation.py:420: DataConversionWarning: Data with input dtype int64 was converted to float64 by StandardScaler.\n",
      "  warnings.warn(msg, DataConversionWarning)\n",
      "/home/antonio/anaconda3/lib/python3.5/site-packages/sklearn/preprocessing/data.py:646: DeprecationWarning: Passing 1d arrays as data is deprecated in 0.17 and will raise ValueError in 0.19. Reshape your data either using X.reshape(-1, 1) if your data has a single feature or X.reshape(1, -1) if it contains a single sample.\n",
      "  warnings.warn(DEPRECATION_MSG_1D, DeprecationWarning)\n",
      "/home/antonio/anaconda3/lib/python3.5/site-packages/sklearn/utils/validation.py:420: DataConversionWarning: Data with input dtype int64 was converted to float64 by MinMaxScaler.\n",
      "  warnings.warn(msg, DataConversionWarning)\n",
      "/home/antonio/anaconda3/lib/python3.5/site-packages/sklearn/preprocessing/data.py:324: DeprecationWarning: Passing 1d arrays as data is deprecated in 0.17 and will raise ValueError in 0.19. Reshape your data either using X.reshape(-1, 1) if your data has a single feature or X.reshape(1, -1) if it contains a single sample.\n",
      "  warnings.warn(DEPRECATION_MSG_1D, DeprecationWarning)\n",
      "/home/antonio/anaconda3/lib/python3.5/site-packages/sklearn/preprocessing/data.py:359: DeprecationWarning: Passing 1d arrays as data is deprecated in 0.17 and will raise ValueError in 0.19. Reshape your data either using X.reshape(-1, 1) if your data has a single feature or X.reshape(1, -1) if it contains a single sample.\n",
      "  warnings.warn(DEPRECATION_MSG_1D, DeprecationWarning)\n"
     ]
    },
    {
     "data": {
      "text/plain": [
       "(1.0267958609250002e-17, 1.0, 1.0)"
      ]
     },
     "execution_count": 16,
     "metadata": {},
     "output_type": "execute_result"
    }
   ],
   "source": [
    "ss = StandardScaler()\n",
    "mms = MinMaxScaler()\n",
    "dfTotalStand = ss.fit_transform(dfTotal)\n",
    "dfTotalScaled = mms.fit_transform(dfTotal)\n",
    "np.mean(dfTotalStand), np.std(dfTotalStand), np.max(dfTotalScaled)"
   ]
  },
  {
   "cell_type": "markdown",
   "metadata": {},
   "source": [
    "## Discretization"
   ]
  },
  {
   "cell_type": "markdown",
   "metadata": {},
   "source": [
    "Discretization transforms a numeric attribute into a discrete one by creating a set of contiguous\n",
    "intervals (or equivalently a set of split points) that spans the range of the attribute’s values. The number of value possibilities of the numeric attribute should be significantly reduced\n",
    "by applying discretization, since large amounts of possible attribute values arouse slowness or\n",
    "ineffectiveness in model building"
   ]
  },
  {
   "cell_type": "markdown",
   "metadata": {},
   "source": [
    "According to the consideration of class attributes, discretization algorithms can be divided into\n",
    "**unsupervised methods and supervised algorithms.**\n",
    "**Unsupervised discretization algorithms that\n",
    "do not take class information into account are very simple.** Two common unsupervised dis-\n",
    "cretization algorithms are **equal-width discretization and equal-frequency discretization.**\n",
    "Equal-width discretization methods compute the maximum and minimum for the attribute\n",
    "that is to be discretized and divide the range into k equal-width intervals. Equal-frequency\n",
    "discretization method partitions the value range into k intervals so that each interval contains\n",
    "the same number of instances. **Supervised discretization algorithms that take class information\n",
    "into account are more complicated. There are many manners in which to do supervised dis-\n",
    "cretization. Chi merge is a simple supervised method that uses the chi-square to do dis-\n",
    "cretization. It sorts the values of the given attribute in ascending order and initially constructs\n",
    "one interval for each value so that they are separate. It then calculates the chi-square for any\n",
    "two adjacent intervals and merges those pairs with lowest chi-square values. It stops when all\n",
    "pairs of adjacent intervals are more than a specified threshold value.**"
   ]
  },
  {
   "cell_type": "markdown",
   "metadata": {},
   "source": [
    "In python the unsupervised discretization algorithms are implemented in pandas:"
   ]
  },
  {
   "cell_type": "code",
   "execution_count": 19,
   "metadata": {
    "collapsed": false
   },
   "outputs": [
    {
     "data": {
      "text/plain": [
       "(-725.114, 1562953]    169\n",
       "(1562953, 3123510]       4\n",
       "Name: Total, dtype: int64"
      ]
     },
     "execution_count": 19,
     "metadata": {},
     "output_type": "execute_result"
    }
   ],
   "source": [
    "pd.cut(dfTotal, bins = 2).value_counts()"
   ]
  },
  {
   "cell_type": "code",
   "execution_count": 21,
   "metadata": {
    "collapsed": false
   },
   "outputs": [
    {
     "data": {
      "text/plain": [
       "[2396, 75791]       87\n",
       "(75791, 3123510]    86\n",
       "Name: Total, dtype: int64"
      ]
     },
     "execution_count": 21,
     "metadata": {},
     "output_type": "execute_result"
    }
   ],
   "source": [
    "pd.qcut(dfTotal,2).value_counts()"
   ]
  },
  {
   "cell_type": "markdown",
   "metadata": {},
   "source": [
    "#### cut simply discretize using the values, while qcut use the distribution of the input variable in making the binning."
   ]
  }
 ],
 "metadata": {
  "kernelspec": {
   "display_name": "Python [default]",
   "language": "python",
   "name": "python3"
  },
  "language_info": {
   "codemirror_mode": {
    "name": "ipython",
    "version": 3
   },
   "file_extension": ".py",
   "mimetype": "text/x-python",
   "name": "python",
   "nbconvert_exporter": "python",
   "pygments_lexer": "ipython3",
   "version": "3.5.2"
  }
 },
 "nbformat": 4,
 "nbformat_minor": 1
}
